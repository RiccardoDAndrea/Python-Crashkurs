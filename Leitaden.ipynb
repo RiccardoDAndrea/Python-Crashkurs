{
 "cells": [
  {
   "cell_type": "markdown",
   "metadata": {},
   "source": [
    "# Leitfaden für Python\n",
    "---\n",
    "## 1. Python Basic Syntax\n",
    "- ### 1.1 Variabeln\n",
    "- ### 1.2 Kommentare\n",
    "- ### 1.3 Datentypen\n",
    "- ### 1.4 Operatoren\n",
    "## 2.\n",
    "## 3.\n",
    "## 4.\n",
    "## 5."
   ]
  },
  {
   "cell_type": "code",
   "execution_count": 1,
   "metadata": {},
   "outputs": [
    {
     "name": "stdout",
     "output_type": "stream",
     "text": [
      "Hello World\n"
     ]
    }
   ],
   "source": [
    "print(\"Hello World\")"
   ]
  },
  {
   "cell_type": "markdown",
   "metadata": {},
   "source": [
    "---\n",
    "So einfach kannst du dein erstes Programm schreiben\n",
    "\n",
    "`print(\"Hello World\")`\n",
    "\n",
    "Dabei kann der print befehl dir helfen überhaupt festzustellen ob überhaupt alles funkoniert.\n",
    "\n",
    "Solltest du keine Fehler meldung in dein Terminal oder untern den Block sehen kann es weiter gehen.\n",
    "\n",
    "---"
   ]
  },
  {
   "cell_type": "markdown",
   "metadata": {},
   "source": [
    "### Variabeln: \n",
    "- Variabeln können verstanden werden als ein Kontainer für alle möglichen Werte, Daten, Objekte, etc.\n"
   ]
  },
  {
   "cell_type": "code",
   "execution_count": 4,
   "metadata": {},
   "outputs": [
    {
     "name": "stdout",
     "output_type": "stream",
     "text": [
      "Max\n",
      "Mustermann\n"
     ]
    }
   ],
   "source": [
    "# Variablen\n",
    "\n",
    "my_firstname = \"firstname\"      # füge hier ein Name hinzu achte drauf das Sie in Anführungszeichen stehen\n",
    "my_lastname = \"lastname\"        # füge hier ein Nachname hinzu achte drauf das Sie in Anführungszeichen stehen\n",
    "\n",
    "print(my_firstname)\n",
    "print(my_lastname)"
   ]
  },
  {
   "cell_type": "markdown",
   "metadata": {},
   "source": [
    "Nun wissen wir das die Variable `my_firstname` den Wert enthält den du einträgst und die Variable `my_lastname` genauso.\n",
    "\n",
    "Wir können nun auf diese Variablen zugreifen und diese auch verändern so oft wir wollen.\n",
    "\n",
    "Dabei sind beide Variablen sogenante String.\n",
    "\n",
    "String referenziert auf ein Datentypen"
   ]
  },
  {
   "cell_type": "markdown",
   "metadata": {},
   "source": [
    "## 1.2 Kommentare \n",
    "---\n",
    "\n",
    "Kommentare sind in der Programmier welt sehr wichtig. Sie helfen dabei den Code zu verstehen und zu dokumentieren.\n",
    "Kommentare werden in Python mit einem # eingeleitet. Alles was nach dem `#` kommt wird nicht ausgeführt."
   ]
  },
  {
   "cell_type": "code",
   "execution_count": 14,
   "metadata": {},
   "outputs": [
    {
     "name": "stdout",
     "output_type": "stream",
     "text": [
      "26\n"
     ]
    }
   ],
   "source": [
    "# Folgender Code gibt das Alter der Person wieder\n",
    "\n",
    "Alter = 26      # Das ist ein Kommentar der nicht ausgeführt wird\n",
    "print(Alter)"
   ]
  },
  {
   "cell_type": "markdown",
   "metadata": {},
   "source": [
    "## 1.3 Daten Typen\n",
    "---"
   ]
  },
  {
   "cell_type": "markdown",
   "metadata": {},
   "source": [
    "#### Vorhandene Datentypen in Python:\n",
    "\n",
    "<span style=\"color:lightblue\"> *int* </span>: \n",
    "Eine ganze Zahl, wie `5`, `-3` oder `42`.\n",
    "\n",
    "<span style=\"color:lightblue\"> *float* </span>: \n",
    "Eine Dezimalzahl, wie `3.14`, `-0.001` oder `2.0`.\n",
    "\n",
    "<span style=\"color:lightblue\"> *str* </span>: \n",
    "Ein Text, der in Anführungszeichen steht, wie `\"Hallo, Welt!\"` oder `'Python ist toll'`.\n",
    "\n",
    "<span style=\"color:lightblue\"> *bool* </span>: \n",
    "Ein Wert, der entweder `True` (wahr) oder `False` (falsch) ist.\n",
    "\n",
    "<span style=\"color:lightblue\"> *list* </span>: Eine Sammlung von Elementen in eckigen Klammern, getrennt durch Kommas, z.B. `[1, 2, 3]` oder `[\"Apfel\", \"Banane\", \"Kirsche\"]`.\n",
    "\n",
    "\n",
    "<span style=\"color:lightblue\"> *dict* </span>: \n",
    "Ein Wörterbuch mit Schlüssel-Wert-Paaren, das in geschweiften Klammern steht, wie `{\"name\": \"Alice\", \"alter\": 25}`.\n"
   ]
  },
  {
   "cell_type": "code",
   "execution_count": 12,
   "metadata": {},
   "outputs": [
    {
     "name": "stdout",
     "output_type": "stream",
     "text": [
      "Müsli\n",
      "Alice 25\n"
     ]
    }
   ],
   "source": [
    "# - int (Ganzzahlen)\n",
    "x = 20\n",
    "\n",
    "# - float (Kommazahlen)\n",
    "y = 20.5\n",
    "\n",
    "# - str (Strings)\n",
    "Name = \"Das ist ein String der aus Buchstaben besteht und eine Zeichenkette bildet\"\n",
    "\n",
    "# - bool (Booleans)\n",
    "Male = False\n",
    "Female = True\n",
    "\n",
    "# list\n",
    "Frühstück = [\"Müsli\", \"Milch\", \"Brot\", \"Aufschnitt\"]   \n",
    "print(Frühstück[0])\n",
    "\n",
    "# Dictionary\n",
    "x = {\"name\": \"Alice\", \"alter\": 25}  \n",
    "print(x[\"name\"], x[\"alter\"])\n"
   ]
  },
  {
   "cell_type": "markdown",
   "metadata": {},
   "source": [
    "### 1.4 Operatoren\n",
    "---\n",
    "\n",
    "Variablen können auch kombiniert werden "
   ]
  },
  {
   "cell_type": "markdown",
   "metadata": {},
   "source": [
    "#### Addition"
   ]
  },
  {
   "cell_type": "code",
   "execution_count": 19,
   "metadata": {},
   "outputs": [
    {
     "name": "stdout",
     "output_type": "stream",
     "text": [
      "Addition: 30\n",
      "Subtraktion: 10\n",
      "Multiplikation: 200\n",
      "Division: 2.0\n",
      "Potenz: 10240000000000\n"
     ]
    }
   ],
   "source": [
    "# Eine kleine Übersicht über verschiedene mathematische Operatoren.\n",
    "x = 20\n",
    "y = 10\n",
    "\n",
    "# Addition\n",
    "addition = x + y\n",
    "print(\"Addition:\", addition)\n",
    "\n",
    "# Subtraktion\n",
    "subtraktion = x - y\n",
    "print(\"Subtraktion:\", subtraktion)\n",
    "\n",
    "# Multiplikation\n",
    "multiplikation = x * y\n",
    "print(\"Multiplikation:\", multiplikation)\n",
    "\n",
    "# Division\n",
    "division = x / y\n",
    "print(\"Division:\", division)\n",
    "\n",
    "# Potenzen\n",
    "potenz = x ** y\n",
    "print(\"Potenz:\", potenz)"
   ]
  },
  {
   "cell_type": "code",
   "execution_count": null,
   "metadata": {},
   "outputs": [],
   "source": []
  },
  {
   "cell_type": "code",
   "execution_count": null,
   "metadata": {},
   "outputs": [],
   "source": []
  },
  {
   "cell_type": "code",
   "execution_count": null,
   "metadata": {},
   "outputs": [],
   "source": []
  }
 ],
 "metadata": {
  "kernelspec": {
   "display_name": "base",
   "language": "python",
   "name": "python3"
  },
  "language_info": {
   "codemirror_mode": {
    "name": "ipython",
    "version": 3
   },
   "file_extension": ".py",
   "mimetype": "text/x-python",
   "name": "python",
   "nbconvert_exporter": "python",
   "pygments_lexer": "ipython3",
   "version": "3.11.9"
  }
 },
 "nbformat": 4,
 "nbformat_minor": 2
}
