{
 "cells": [
  {
   "cell_type": "markdown",
   "metadata": {},
   "source": [
    "### **Jeder Programmierer** \n",
    "\n",
    "stößt irgendwann auf Schwierigkeiten und fühlt sich vielleicht festgefahren – das ist völlig normal. Programmieren, wie so vieles im Leben, ist anfangs herausfordernd, aber mit der Zeit wird es einfacher.\n",
    "\n",
    "Um euch das Leben zu erleichtern und eure Leidenschaft fürs Programmieren auch nach der Blockwoche zu bewahren, habe ich einen Leitfaden erstellt. Dieser soll euch in unsicheren Momenten als Orientierungshilfe dienen, damit ihr nachschlagen könnt, wie bestimmte Dinge funktionieren.\n",
    "\n",
    "Denkt daran: **„Jeder Meister war einmal ein Anfänger.“** Genauso braucht ihr als Anfänger im Programmieren Zeit, um wirklich gut zu werden.\n",
    "\n",
    "Aber keine Sorge – **ihr schafft das!**\n"
   ]
  },
  {
   "cell_type": "markdown",
   "metadata": {},
   "source": [
    "---\n",
    "\n",
    "# Leitfaden für Python\n",
    "\n",
    "---\n",
    "\n",
    "## 1. Python Basic Syntax\n",
    "- ### 1.1. Variabeln\n",
    "- ### 1.2. Kommentare\n",
    "- ### 1.3. Datentypen\n",
    "- ### 1.4. Operatoren\n",
    "- ### 1.5. Logische Operatoren\n",
    "- ### 1.6. Schleifen\n",
    "    - ### 1.6.1 for loop\n",
    "    - ### 1.6.2 while\n",
    "- ### 1.7 if, elif, else   \n",
    "    - ### 1.7.1 if-Bedigungen\n",
    "    - ### 1.7.2 else-Bedigungen\n",
    "    - ### 1.7.3 Elif-Bedigungen\n",
    "- ### 1.8 Funktionen\n",
    "## 2. Libraries\n",
    "- ### 2.1. Understanding Libraries\n",
    "    - #### 2.1.1 How to read Docs\n",
    "\n",
    "- ### 2.2. Pandas\n",
    "- ### 2.2. Matplotlib \n",
    "- ### 2.3. scikit-learn\n",
    "- ### 2.3. Streamlit \n",
    "\n",
    "\n",
    "## 3. Fehlerbehebungen\n",
    "\n",
    "---"
   ]
  },
  {
   "cell_type": "markdown",
   "metadata": {},
   "source": [
    "## 1.1 Variabeln:\n",
    "----\n",
    "\n",
    "- Variabeln können verstanden werden als ein Kontainer für alle möglichen Werte, Daten, Objekte, etc.\n",
    "- Was du nun in der Variable einspeichert liegt an deinem Code\n"
   ]
  },
  {
   "cell_type": "markdown",
   "metadata": {},
   "source": []
  },
  {
   "cell_type": "code",
   "execution_count": null,
   "metadata": {},
   "outputs": [],
   "source": [
    "my_firstname = \"Max\"  \n",
    "\n",
    "my_lastname = \"Mustermann\"    \n",
    "\n",
    "print(\"Deine Varibale enthält den Namen: \" + my_firstname)\n",
    "print(\"Deine Varibale enthält den Nachnamen: \" + my_lastname)"
   ]
  },
  {
   "cell_type": "markdown",
   "metadata": {},
   "source": [
    "Nun wissen wir das die Variable **`my_firstname`** den Wert enthält den du einträgst und die Variable **`my_lastname`** genauso.\n",
    "Wir können nun auf diese Variablen zugreifen und diese auch verändern so oft wir wollen.\n",
    "Dabei sind beide Variablen sogenante *String*.\n",
    "String referenziert auf ein *Datentypen* dazu mehr in 1.3"
   ]
  },
  {
   "cell_type": "markdown",
   "metadata": {},
   "source": []
  },
  {
   "cell_type": "markdown",
   "metadata": {},
   "source": [
    "## 1.2 Kommentare \n",
    "---\n",
    "\n",
    "**Kommentare** sind in der Programmier Welt sehr wichtig. Sie helfen dabei den Code zu verstehen und zu dokumentieren.\n",
    "Kommentare werden in Python mit einem # eingeleitet. Alles was nach dem `#` kommt wird nicht ausgeführt."
   ]
  },
  {
   "cell_type": "code",
   "execution_count": null,
   "metadata": {},
   "outputs": [],
   "source": [
    "# Folgender Code gibt das Alter der Person wieder\n",
    "Alter = 26 \n",
    "print(\"Das Alter beträgt: \", Alter)"
   ]
  },
  {
   "cell_type": "markdown",
   "metadata": {},
   "source": []
  },
  {
   "cell_type": "markdown",
   "metadata": {},
   "source": [
    "## 1.3 Daten Typen\n",
    "---"
   ]
  },
  {
   "cell_type": "markdown",
   "metadata": {},
   "source": [
    "#### **Vorhandene Datentypen in Python:**\n",
    "\n",
    "<span style=\"color:lightblue\"> **int** </span>: \n",
    "Eine ganze Zahl, wie `5`, `-3` oder `42`.\n",
    "\n",
    "<span style=\"color:lightblue\"> **float** </span>: \n",
    "Eine Dezimalzahl, wie `3.14`, `-0.001` oder `2.0`.\n",
    "\n",
    "<span style=\"color:lightblue\"> **str** </span>: \n",
    "Ein Text, der in Anführungszeichen steht, wie `\"Hallo, Welt!\"` oder `'Python ist toll'`.\n",
    "\n",
    "<span style=\"color:lightblue\"> **bool** </span>: \n",
    "Ein Wert, der entweder `True` (wahr) oder `False` (falsch) ist."
   ]
  },
  {
   "cell_type": "markdown",
   "metadata": {},
   "source": []
  },
  {
   "cell_type": "code",
   "execution_count": 60,
   "metadata": {},
   "outputs": [],
   "source": [
    "# - int (Absoulte Zahlen)\n",
    "x = 20\n",
    "\n",
    "# - float (Dezimalzahlen)\n",
    "y = 20.5\n",
    "\n",
    "# - str (Strings)\n",
    "Name = \"Das ist ein String der aus Buchstaben besteht und eine Zeichenkette bildet\"\n",
    "\n",
    "# - bool (Booleans)\n",
    "Male = False\n",
    "Female = True"
   ]
  },
  {
   "cell_type": "markdown",
   "metadata": {},
   "source": []
  },
  {
   "cell_type": "markdown",
   "metadata": {},
   "source": [
    "<span style=\"color:lightblue\"> **list** </span>: \n",
    "\n",
    "Eine Sammlung von Elementen in eckigen Klammern, getrennt durch Kommata, z.B. `[1, 2, 3]` oder `[\"Apfel\", \"Banane\", \"Kirsche\"]`."
   ]
  },
  {
   "cell_type": "code",
   "execution_count": null,
   "metadata": {},
   "outputs": [],
   "source": [
    "Früchte = [\"Apfel\", \"Birne\", \"Banane\", \"Kirsche\", \"Erdbeere\"]\n",
    "\n",
    "print(Früchte)    # Apfel"
   ]
  },
  {
   "cell_type": "markdown",
   "metadata": {},
   "source": []
  },
  {
   "cell_type": "markdown",
   "metadata": {
    "vscode": {
     "languageId": "bat"
    }
   },
   "source": [
    "<span style=\"color:lightblue\"> **Dictionaries** </span>: \n",
    "\n",
    "Ein Wörterbuch mit Schlüssel-Wert-Paaren, das in geschweiften Klammern steht, wie \n",
    "\n",
    "`{\"name\": \"Alice\", \"alter\": 25}`."
   ]
  },
  {
   "cell_type": "code",
   "execution_count": null,
   "metadata": {},
   "outputs": [],
   "source": [
    "Lagerbestand = {\"Früchte\":\"Erdbeere\",\n",
    "                \"Menge\": 40}\n",
    "\n",
    "Lagerbestand"
   ]
  },
  {
   "cell_type": "markdown",
   "metadata": {},
   "source": [
    "Dies war ein kleine Einleitung welche Datentypen es gibt.\n",
    "In den folgeden Kapitel werden wir lernen wie die Datentypen gefiltert, manipuliert werden und vieles mehr\n",
    "\n",
    "| Mehr über **list** und **dictonaries** findest du in ***Kapitel 1.6*** und ***1.7***|\n",
    "|-------------------------------------------------------------------------------------|\n",
    "\n"
   ]
  },
  {
   "cell_type": "markdown",
   "metadata": {},
   "source": []
  },
  {
   "cell_type": "markdown",
   "metadata": {},
   "source": [
    "### 1.4 Operatoren\n",
    "---\n",
    "\n",
    "Variablen können auch **kombiniert** werden "
   ]
  },
  {
   "cell_type": "code",
   "execution_count": null,
   "metadata": {},
   "outputs": [],
   "source": [
    "# Eine kleine Übersicht über verschiedene mathematische Operatoren.\n",
    "x = 20\n",
    "y = 10\n",
    "\n",
    "# Addition\n",
    "addition = x + y\n",
    "print(\"Addition:\", addition)\n",
    "\n",
    "# Subtraktion\n",
    "subtraktion = x - y\n",
    "print(\"Subtraktion:\", subtraktion)\n",
    "\n",
    "# Multiplikation\n",
    "multiplikation = x * y\n",
    "print(\"Multiplikation:\", multiplikation)\n",
    "\n",
    "# Division\n",
    "division = x / y\n",
    "print(\"Division:\", division)\n",
    "\n",
    "# Potenzen\n",
    "potenz = x ** y\n",
    "print(\"Potenz:\", potenz)"
   ]
  },
  {
   "cell_type": "markdown",
   "metadata": {},
   "source": []
  },
  {
   "cell_type": "markdown",
   "metadata": {},
   "source": [
    "### 1.5 Logische Operatoren\n",
    "---"
   ]
  },
  {
   "cell_type": "code",
   "execution_count": null,
   "metadata": {},
   "outputs": [],
   "source": [
    "# and (und)\n",
    "und_operator = x < 5 and x < 10\n",
    "print(\"and Operator:\", und_operator)\n",
    "\n",
    "# or (oder)\n",
    "oder_operator = x < 5 or x < 4\n",
    "print(\"or Operator:\", oder_operator)\n",
    "\n",
    "# not (nicht)\n",
    "nicht_operator = not(x < 5 and x < 10)\n",
    "print(\"not Operator:\", nicht_operator)"
   ]
  },
  {
   "cell_type": "markdown",
   "metadata": {},
   "source": []
  },
  {
   "cell_type": "markdown",
   "metadata": {},
   "source": [
    "---\n",
    "### 1.6 Listen (list)\n",
    "---\n",
    "In diesen Abschnitt geht es um die Handhabung mit Listen."
   ]
  },
  {
   "cell_type": "markdown",
   "metadata": {},
   "source": [
    "<span style=\"color:lightblue\"> list </span>:\n",
    "\n",
    "Eine Liste ist eine Datenstruktur in Python, die eine veränderbare, geordnete Sequenz von Elementen darstellt. Jede Eintragung in einer Liste wird als Element bezeichnet. Listen werden durch eckige Klammern [ ] initialisiert.\n",
    "\n",
    "Eine Liste kann Elemente unterschiedlichen Datentyps enthalten. So kann eine Liste beispielsweise nur Strings oder Zahlen enthalten, aber auch verschiedene Datentypen in einer einzigen Liste kombinieren.\n",
    "\n",
    "Eine Liste mit <span style=\"color:lightblue\"> **Strings** </span>:\n",
    "\n",
    "`Früchte = [\"Apfel\", \"Birne\", \"Banane\", \"Kirsche\", \"Erdbeere\"]`\n",
    "\n",
    "Eine Liste mit <span style=\"color:lightblue\"> **Integers** </span>:\n",
    "\n",
    "`menge = [3, 4, 6, 10, 20]`\n",
    "\n",
    "Eine Liste mit <span style=\"color:lightblue\"> **Float** </span>:\n",
    "\n",
    "`Preise = [4.99, 1.99, 6.99, 10.00, 20.95]`\n",
    "\n",
    "Eine Liste mit <span style=\"color:lightblue\"> **Booleans** </span>:\n",
    "\n",
    "`verfügbar = [True, False, True, True, False]`"
   ]
  },
  {
   "cell_type": "code",
   "execution_count": null,
   "metadata": {},
   "outputs": [],
   "source": [
    "Früchte = [\"Apfel\", \"Birne\", \"Banane\", \"Kirsche\", \"Erdbeere\"]\n",
    "menge = [3, 4, 6, 10, 20]\n",
    "Preise = [4.99, 1.99, 6.99, 10.00, 20.95]\n",
    "verfügbar = [True, False, True, True, False]\n",
    "\n",
    "print(\"Früchte: \", Früchte)\n",
    "print(\"menge: \", menge)\n",
    "print(\"Preise: \", Preise)\n",
    "print(\"verfügbar: \", verfügbar)"
   ]
  },
  {
   "cell_type": "markdown",
   "metadata": {},
   "source": []
  },
  {
   "cell_type": "markdown",
   "metadata": {},
   "source": [
    "\n",
    "| Index   | 0      | 1      | 2      | 3       | 4         |\n",
    "|---------|--------|--------|--------|---------|-----------|\n",
    "| Element | Apfel  | Birne  | Banane | Kirsche | Erdbeere  |"
   ]
  },
  {
   "cell_type": "markdown",
   "metadata": {},
   "source": []
  },
  {
   "cell_type": "code",
   "execution_count": null,
   "metadata": {},
   "outputs": [],
   "source": [
    "print(Früchte[0])   # Apfel Der Index beginnt bei 0 und nicht bei 1\n",
    "print(Früchte[1])   # Birne an der Index Nummer 1 \n",
    "print(Früchte[-1])  # Erdbeere an der Index Nummer -1 also das letzte Element in der Liste"
   ]
  },
  {
   "cell_type": "markdown",
   "metadata": {},
   "source": []
  },
  {
   "cell_type": "markdown",
   "metadata": {},
   "source": [
    "#### Mehrere Werte aus einer Liste extrahieren:\n",
    "<span style=\"color:lightblue\"> **your_list[Inklusiv:Exklusiv]** </span>\n",
    "\n",
    "Mit diesem Code werden die Elemente 2 bis 4 aus der Liste gefiltert. Dabei ist das 2. Element inklusiv und das 5. Element exklusiv:\n",
    "\n"
   ]
  },
  {
   "cell_type": "code",
   "execution_count": null,
   "metadata": {},
   "outputs": [],
   "source": [
    "print(Früchte[2:5])  # ['Banane', 'Kirsche'] Der Index 5 wird nicht mitgezählt"
   ]
  },
  {
   "cell_type": "markdown",
   "metadata": {},
   "source": [
    "Mit diesem Code werden **alle Elemente** bis zur **Index-Nummer 4** aus der Liste gefiltert. \n",
    "Dabei wird das 2. Element inklusiv und das 5. Element exklusiv betrachtet:"
   ]
  },
  {
   "cell_type": "code",
   "execution_count": null,
   "metadata": {},
   "outputs": [],
   "source": [
    "print(Früchte[:4])   # ['Apfel', 'Birne', 'Banane', 'Kirsche']  Die ersten 4 Elemente werden ausgegeben\n",
    "\n",
    "print(Früchte[2:])   # ['Banane', 'Kirsche', 'Erdbeere']        Alle Elemente ab dem Index 2 werden ausgegeben"
   ]
  },
  {
   "cell_type": "markdown",
   "metadata": {},
   "source": [
    "*WICHTIG:*\n",
    "- In unseren Fall bedeutet das Banane, Kirsche und Erdbeere\n",
    "- Das heißt die 2 (Banane) ist inklusiv und die 5 (Erdbeere) ist exklusiv\n"
   ]
  },
  {
   "cell_type": "markdown",
   "metadata": {},
   "source": [
    "#### **Werte hinzufügen**"
   ]
  },
  {
   "cell_type": "markdown",
   "metadata": {},
   "source": [
    "#### **Element zur einer Liste hinzufügen**"
   ]
  },
  {
   "cell_type": "code",
   "execution_count": null,
   "metadata": {},
   "outputs": [],
   "source": [
    "# Element am Ende der Liste hinzufügen\n",
    "Früchte.append('Ananas')\n",
    "print(\"Ananas hinzufügen:\" ,Früchte)"
   ]
  },
  {
   "cell_type": "markdown",
   "metadata": {},
   "source": [
    "#### **Element an einem bestimmten Index hinzufügen**"
   ]
  },
  {
   "cell_type": "code",
   "execution_count": null,
   "metadata": {},
   "outputs": [],
   "source": [
    "# Element an Index Nr. 5 hinzufügen\n",
    "\n",
    "Früchte.insert(5, 'Orange')\n",
    "print(\"Orange an den Index Punkt 5 hinzufügen:\" ,Früchte)"
   ]
  },
  {
   "cell_type": "markdown",
   "metadata": {},
   "source": [
    "#### **Werte ändern:**\n",
    "\n",
    "In Index Nr 1. Ist der Wert *\"Birne\"*\n",
    "\n",
    "`Früchte = [\"Apfel\", \"Birne\", \"Banane\", \"Kirsche\", \"Erdbeere\"]`\n",
    "\n",
    "*\"Birne\"* wird nun erstzt im darunter liegen den Code durch *'Kiwi'* im Index Nr.1 "
   ]
  },
  {
   "cell_type": "code",
   "execution_count": null,
   "metadata": {},
   "outputs": [],
   "source": [
    "# Element in der Liste ändern\n",
    "\n",
    "Früchte[1] = 'Kiwi'\n",
    "print(Früchte)"
   ]
  },
  {
   "cell_type": "markdown",
   "metadata": {},
   "source": [
    "#### **Werte entfernen:**\n",
    "- durch \"remove\" wird der string \"Erdbeere\" entfernt"
   ]
  },
  {
   "cell_type": "code",
   "execution_count": null,
   "metadata": {},
   "outputs": [],
   "source": [
    "# Element aus der Liste entfernen\n",
    "\n",
    "Früchte.remove('Erdbeere')\n",
    "print(Früchte)"
   ]
  },
  {
   "cell_type": "code",
   "execution_count": null,
   "metadata": {},
   "outputs": [],
   "source": [
    "x = [10, 9, 8, 7, 6, 5, 4, 3, 2, 1]\n",
    "x.sort()\n",
    "print(x)"
   ]
  },
  {
   "cell_type": "markdown",
   "metadata": {},
   "source": []
  },
  {
   "cell_type": "markdown",
   "metadata": {},
   "source": [
    "---\n",
    "\n",
    "### 1.7 Dictionaries \n",
    "\n",
    "---\n"
   ]
  },
  {
   "cell_type": "markdown",
   "metadata": {},
   "source": [
    "**Ein Dictionary** ist eine Sammlung, um Daten zu speichern, die in Form von Schlüssel-Wert-Paaren vorliegen.\n",
    "Ein Dictionary üblicherweise in einer Variablen gespeichert. In diesem Beispiel nennen wir die Variable `my_dictionary`.\n",
    "Ein **Key (Schlüssel)** kann als Spaltenname verstanden werden, und der **Item (Wert)** referenziert den Inhalt, der in dieser \"Spalte\" stehen soll.\n",
    "\n",
    "Der allgemeine Aufbau eines Dictionaries sieht wie folgt aus:"
   ]
  },
  {
   "cell_type": "markdown",
   "metadata": {},
   "source": [
    "##### 1. Möglichkeit\n",
    "- beachte das vor den Doppelpunkte (:) `Key`eingeleitet wird und nach den (:) das `Iteam` folgt."
   ]
  },
  {
   "cell_type": "code",
   "execution_count": null,
   "metadata": {},
   "outputs": [],
   "source": [
    "my_dictionary = {\n",
    "    \"Key1\": \"Item1\",\n",
    "    \"Key2\": \"Item2\",\n",
    "    \"Key3\": \"Item3\"\n",
    "}\n",
    "\n",
    "my_dictionary"
   ]
  },
  {
   "cell_type": "markdown",
   "metadata": {},
   "source": [
    "##### 2. Möglichkeit\n",
    "\n",
    "Die Funktion *`dict`* formatiert automatisch dein Dictionarie im richtig Format"
   ]
  },
  {
   "cell_type": "code",
   "execution_count": null,
   "metadata": {},
   "outputs": [],
   "source": [
    "my_dictionary = dict(\n",
    "            Key1 = \"Item1\",\n",
    "            Key2 = \"Item2\",\n",
    "            Key3 = \"Item3\"\n",
    ")\n",
    "my_dictionary"
   ]
  },
  {
   "cell_type": "markdown",
   "metadata": {},
   "source": [
    "- Key: Dies ist der Name des Schlüssels (z.B. \"Key1\"). Schlüssel müssen unveränderlich sein und können Datentypen wie Strings, Zahlen oder Booleans usw. sein.\n",
    "\n",
    "- Item: Dies ist der Wert, der dem Schlüssel zugeordnet wird (z.B. \"Item1\"). Ein Wert kann jeder beliebige Datentyp sein, wie z.B. ein String, eine Zahl, eine Liste, ein weiteres Dictionary, etc. \n",
    "\n",
    "- *Mehrer Werte können in einer Liste [**strings, booleans, Floats, Integers**] eingesetzt werden das sichert die einfache Manipulation, filterung der Daten.*"
   ]
  },
  {
   "cell_type": "code",
   "execution_count": null,
   "metadata": {},
   "outputs": [],
   "source": [
    "Lagerbestand = {\"Früchte\":[\"Erdbeere\", \"Apfel\", \"Birne\"],\n",
    "                \"Menge\": [40, 30, 0],\n",
    "                \"Verfügbarkeit\": [True, True, False]}\n",
    "                \n",
    "\n",
    "Lagerbestand"
   ]
  },
  {
   "cell_type": "markdown",
   "metadata": {},
   "source": [
    "#### Umganz zur Daten Manipulation mit Dictionaries"
   ]
  },
  {
   "cell_type": "markdown",
   "metadata": {},
   "source": [
    "- Eine Spalte (Key) hinzufügen mit Werte (Item)\n",
    "\n",
    "Im darunter liegenden Code wird zur der bestehenden Variable `Lagerbestand`\n",
    "die Spalte `Verfügbarkeit` mit einer `liste` mit Werten hinzugefügt.\n",
    "Welche Werte du mitgibst ist die überlassen ob es Booleans, Integers, Floats, Strings sind.\n"
   ]
  },
  {
   "cell_type": "code",
   "execution_count": null,
   "metadata": {},
   "outputs": [],
   "source": [
    " # <- Liste\n",
    "Lagerbestand['Herkunftsland'] = [\"Deutschland\", \"Frankreich\", \"Dänemark\"]\n",
    "\n",
    "print(\"Dein Aktualisiertes Dictionary:\")\n",
    "Lagerbestand"
   ]
  },
  {
   "cell_type": "markdown",
   "metadata": {},
   "source": [
    "#### **auf Werte zugereifen**\n",
    "Wenn du ein Dictionary hast mit vielen Keys uns Items kannst du auch nur deine Wunsch Key extrahieren und betrachten dies erfolgt wie folgt:"
   ]
  },
  {
   "cell_type": "code",
   "execution_count": null,
   "metadata": {},
   "outputs": [],
   "source": [
    "Lagerbestand['Früchte']  # Nur die Früchte werden dir angezeigt\n"
   ]
  },
  {
   "cell_type": "markdown",
   "metadata": {},
   "source": [
    "#### **Keys entfernen**\n",
    "\n",
    "- `del` entfernt den key und die items deines Dictionary"
   ]
  },
  {
   "cell_type": "code",
   "execution_count": 79,
   "metadata": {},
   "outputs": [],
   "source": [
    "del Lagerbestand[\"Herkunftsland\"] "
   ]
  },
  {
   "cell_type": "markdown",
   "metadata": {},
   "source": [
    "#### **Auf keys zugreifen**\n",
    "\n",
    "- Hier wird nach den Keys gefiltert die Ausgabe sind nur die Keys ohne die Items"
   ]
  },
  {
   "cell_type": "code",
   "execution_count": null,
   "metadata": {},
   "outputs": [],
   "source": [
    "print(Lagerbestand.keys())"
   ]
  },
  {
   "cell_type": "markdown",
   "metadata": {},
   "source": [
    "#### **auf Iteams zugreifen**\n",
    "Zu dem jeweiligen Key werden nur die Items herausgegeben"
   ]
  },
  {
   "cell_type": "code",
   "execution_count": null,
   "metadata": {},
   "outputs": [],
   "source": [
    "print(Lagerbestand.get(\"Früchte\"))\n"
   ]
  },
  {
   "cell_type": "markdown",
   "metadata": {},
   "source": [
    "#### Alle items wiedergeben\n",
    "`.values()`gibt dir alle Items in jeden Keys wieder\n"
   ]
  },
  {
   "cell_type": "code",
   "execution_count": null,
   "metadata": {},
   "outputs": [],
   "source": [
    "print(Lagerbestand.values())"
   ]
  },
  {
   "cell_type": "markdown",
   "metadata": {},
   "source": [
    "#### Neue werte hinzufügen\n",
    "durch den `Key`kannst du "
   ]
  },
  {
   "cell_type": "code",
   "execution_count": 83,
   "metadata": {},
   "outputs": [],
   "source": [
    "Lagerbestand[\"Früchte\"].append(\"Kirsche\")\n",
    "Lagerbestand[\"Menge\"].append(30)\n",
    "Lagerbestand[\"Verfügbarkeit\"].append(True)\n"
   ]
  },
  {
   "cell_type": "code",
   "execution_count": null,
   "metadata": {},
   "outputs": [],
   "source": [
    "Lagerbestand"
   ]
  },
  {
   "cell_type": "markdown",
   "metadata": {},
   "source": [
    "## 1.6 Schleifen \n",
    "---\n",
    "\n",
    "Loops (Schleifen) in Python ermöglichen es, bestimmte Codeblöcke wiederholt auszuführen. Die beiden gängigsten Arten von Schleifen sind die while-Schleife und die for-Schleife. Mit der **while**-Schleife wird der Codeblock ausgeführt, solange eine angegebene Bedingung erfüllt ist. Mit der **for**-Schleife wird der Codeblock für jedes Element in einer Sequenz, wie z. B. einer Liste, wiederholt ausgeführt."
   ]
  },
  {
   "cell_type": "markdown",
   "metadata": {},
   "source": [
    "### 1.6.1 For-Schleife\n",
    "`for`-Schleifen werden verwendet, um eine Sequenz schrittweise zu durchlaufen, wie zum Beispiel eine Liste, String oder ein Array.\n",
    "\n",
    "\n",
    "- Eine `for`-Schleife kann verwendet werden, um die Elemente einer Liste einzeln zu durchlaufen und zu verarbeiten.\n",
    "\n",
    "- Betrachte das folgende Beispiel, bei dem die Liste früchte durchlaufen wird. Die Liste enthält die Elemente: \n",
    "\n",
    "***Früchte = ['Apfel', 'Kiwi', 'Banane', 'Kirsche', 'Orange', 'Ananas'].***\n",
    "\n",
    "- Die `for`-Schleife hilft uns dabei, jedes Element der Liste nacheinander zu extrahieren und zu verwenden.\n",
    "\n",
    "**Grundlegende Syntax einer `for`-Schleife:**\n"
   ]
  },
  {
   "cell_type": "markdown",
   "metadata": {},
   "source": [
    "Übliche Syntax für ein Schleifen (loops):"
   ]
  },
  {
   "cell_type": "code",
   "execution_count": null,
   "metadata": {},
   "outputs": [],
   "source": [
    "for frucht in Früchte:\n",
    "    print(frucht)"
   ]
  },
  {
   "cell_type": "markdown",
   "metadata": {},
   "source": [
    "**Achtung:**\n",
    "- Der Datentyp `Früchte` ist eine Liste (`list`).\n",
    "\n",
    "- Die `for`-Schleife durchläuft alle Elemente der Liste und gibt sie als Strings aus.\n",
    "- Sollte es eine `float` oder `int` werden dann dementsprechen `int` oder `float` als Datentypen angepasst\n"
   ]
  },
  {
   "cell_type": "markdown",
   "metadata": {},
   "source": [
    "### 1.6.2 While-Schleife\n",
    "---\n",
    "Wie in Punk 1.6.1 bereits beschrieben wird die `while-schleife` solange durch geführt bis die definierte Bedigung erfüllt wird."
   ]
  },
  {
   "cell_type": "markdown",
   "metadata": {},
   "source": [
    "1. In diesem Code-Snippet wird eine `while-Schleife` verwendet, um die Zahlen von 1 bis 5 auszugeben. Zuerst wird die Variable i auf den Wert 1 gesetzt. \n",
    "2. Die Schleife prüft dann, ob `i` kleiner als 6 ist. Solange das der Fall ist, wird der Wert von `i` ausgegeben und anschließend um 1 erhöht. \n",
    "3. Dieser Vorgang wiederholt sich, bis `i` den Wert 6 erreicht, wodurch die Schleife endet. Das Ergebnis dieses Codes ist eine aufeinanderfolgende Ausgabe der Zahlen 1 bis 5."
   ]
  },
  {
   "cell_type": "code",
   "execution_count": null,
   "metadata": {},
   "outputs": [],
   "source": [
    "i = 1\n",
    "while i < 6:\n",
    "  print(i)\n",
    "  i += 1"
   ]
  },
  {
   "cell_type": "markdown",
   "metadata": {},
   "source": [
    "# 1.7 if, elif, else Bedigungen"
   ]
  },
  {
   "cell_type": "markdown",
   "metadata": {},
   "source": [
    "### 1.7.1 If-Bedigungen\n",
    "Bei einer If Bedigung wird geprüft ob die gegbene Bedigung erfüllt wird. Wenn diese erfüllt wird\n",
    "wird nur der Code unter der If-Bedigung ausgeführt."
   ]
  },
  {
   "cell_type": "code",
   "execution_count": null,
   "metadata": {},
   "outputs": [],
   "source": [
    "Preis = 10 # <- hier kannst du ein belibigen Preis eingeben\n",
    "\n",
    "if Preis == 10:\n",
    "    print(\"Der Preis ist 10 €\")"
   ]
  },
  {
   "cell_type": "markdown",
   "metadata": {},
   "source": [
    "### 1.7.2 if else-Bedigungen\n",
    "\n",
    "Im nächsten Szenario wird gepruft ob die If-Bedigung wahr ist, wenn die bedigung erfüllt wird führt Sie nur die If-Bedigung.\n",
    "Ist jedoch die If-Bedigung **nicht** erfüllt dann wird **immer** die else-Bedigung erfüllt.\n",
    "\n",
    "\n",
    "**ACHTUNG!**\n",
    "\n",
    "Die else bedigung ist mit vorsicht zu nutzen. Sie wird IMMER ausgeführt sollte die If-Bedigung nicht erfüllt werden.\n",
    "Wenn in deinen Code nur eine IF und ELSE bedigung genutzt wird, wird die ELSE bedigung immer ausgeführt dies kann in gewissen Situationen zu einem unerfwünschten ergebnis führen.\n",
    "\n",
    "\n",
    "- **Daher wird nun zusätzlich die elif bedigung betrachtet.**\n"
   ]
  },
  {
   "cell_type": "code",
   "execution_count": null,
   "metadata": {},
   "outputs": [],
   "source": [
    "Preis = 22 # <- hier kannst du ein belibigen Preis eingeben\n",
    "\n",
    "if Preis == 10:\n",
    "    print(\"Der Preis ist 10 €\")\n",
    "else:\n",
    "    print(\"Der Preis beträgt alles andere, aber nicht 10 €\")"
   ]
  },
  {
   "cell_type": "markdown",
   "metadata": {},
   "source": [
    "### 1.7.3 if elif else Bedingungen\n",
    "\n",
    "Die elif-Bedingung ist eine weitere Bedingung, die wie die if-Bedingung nur dann ausgeführt wird, wenn die Bedingung erfüllt ist.\n",
    "Das bedeutet, dass zuerst geprüft wird, ob die if-Bedingung erfüllt ist. Wenn nicht, wird geprüft, ob die elif-Bedingung erfüllt ist. Wenn ja, wird dieser Code ausgeführt.\n",
    "\n",
    "- Elif-Bedingungen können so oft erstellt werden, wie notwendig. Beachte aber, dass der Code verständlich und nicht unnötig verkompliziert wird.\n",
    "\n"
   ]
  },
  {
   "cell_type": "code",
   "execution_count": null,
   "metadata": {},
   "outputs": [],
   "source": [
    "Preis = 30 # <- hier kannst du ein belibigen Preis eingeben\n",
    "\n",
    "if Preis == 10:\n",
    "    print(\"Der Preis ist 10 €\")\n",
    "elif Preis == 20:\n",
    "    print(\"Der Preis ist 20 €\")\n",
    "elif Preis > 10:\n",
    "    print(\"Der Preis ist mehr als 10 €\")\n",
    "elif Preis < 10:\n",
    "    print(\"Der Preis ist weniger als 10 €\")\n",
    "else:\n",
    "    print(\"Der Preis ist mehr als 20 €\")"
   ]
  },
  {
   "cell_type": "markdown",
   "metadata": {},
   "source": [
    "# 1.8 Funktionen\n",
    "---\n",
    "Eine Funktion kann man als ein wiederverwendbares Paket aus Anweisungen sehen. \n",
    "Stellen wir uns vor, du möchtest in einem Programm eine bestimmte Aufgabe immer wieder erledigen – zum Beispiel, eine Zahl zu addieren. Anstatt den gleichen Code immer wieder zu schreiben, kannst du diesen in eine Funktion packen und ihn so oft verwenden, wie du möchtest."
   ]
  },
  {
   "cell_type": "markdown",
   "metadata": {},
   "source": [
    "Wie umfangreich deine Funktion wird ist dir überlassen.\n",
    "\n",
    "**Kleiner Tipp**: \n",
    "Beim schreiben einer Funktion füge ein Beschreibung hinzu sowie was die Funktion erwartet Input und Output.\n",
    "**KURZ UND PRÄGNAT KEINE ROMANE!**"
   ]
  },
  {
   "cell_type": "code",
   "execution_count": null,
   "metadata": {},
   "outputs": [],
   "source": [
    "def addiere(zahl1: int, zahl2: int):\n",
    "\n",
    "    \"\"\"\n",
    "    Addiert zwei Zahlen miteinander\n",
    "\n",
    "    Input: Zwei Integers\n",
    "    Output : Die addition der beiden Zahlen\n",
    "    \"\"\" \n",
    "    summe = zahl1 + zahl2\n",
    "    return summe\n",
    "\n",
    "addiere(4,1) #<- trage hier zahlen zur addition "
   ]
  },
  {
   "cell_type": "markdown",
   "metadata": {},
   "source": []
  },
  {
   "cell_type": "markdown",
   "metadata": {},
   "source": [
    "# 2. Libraries\n",
    "----"
   ]
  },
  {
   "cell_type": "markdown",
   "metadata": {},
   "source": [
    "Was ist eine Python-Bibliothek (Libary)?\n",
    "\n",
    "Eine Bibliothek ist eine Sammlung von Code, die alltägliche Aufgaben effizienter macht. \n",
    "\n",
    "- Mit **Pandas** kann man Dataframes Manipulieren, Zeilen hinzufügen, Daten bereiningung und vieles mehr.\n",
    "- Mit **Matplotlib** können mit wenigen Zeilen Code ganze Graphen von Linien, Balken bis hinzu Kerzendiagramme erstellt werden.\n",
    "- Mit **Scikit-learn** wird genutzt für das maschinellen Lernen. Es bietet verschiedene Klassifikations-, Regressions- und Clustering-Algorithmen-\n",
    "- Mit **Streamlit** kannst du Problemlos Webapplikation erstellen werden"
   ]
  },
  {
   "cell_type": "markdown",
   "metadata": {},
   "source": [
    "Um eine Libary zu nutzen, muss diese vorab Installiert werden. Dies erfolgt über den Befehl \n",
    "\n",
    "1. `pip install \"Libary Name\"`\n",
    "\n",
    "Nachdem die Libary installiert wurde, kann diese über den Befehl <span style=\"color:orange\"> **import** </span> genutzt werden. \n",
    "Weiterhin kann die Libary auch abgekürzt werden mit <span style=\"color:orange\"> **as** </span>, um den Code übersichtlicher zu gestalten.\n",
    "\n",
    "2. `import pandas as pd`\n",
    "\n",
    "Nach der erfolgreichen Installation kann die Libary wie folgt genutzt werden:\n",
    "\n",
    "Refrenziere die Libary mit dem Kürzel, welches du der Libary gegeben hast.\n",
    "\n",
    "3. `pd.FunktionName(Parameter)`\n",
    "\n",
    "Welche Funktion verfügbar sind wird auf der jeweiligen Homepage Dokumentiert und erklärt."
   ]
  },
  {
   "cell_type": "markdown",
   "metadata": {},
   "source": [
    "## 2.1. Pandas\n",
    "---\n",
    "Pandas ist eine leistungsstarke Open-Source-Bibliothek in Python, die Werkzeuge für die Arbeit mit strukturierten Daten bietet. Sie ist besonders nützlich für Datenanalyse und -manipulation, da sie einfache, aber effiziente Datenstrukturen wie DataFrames bereitstellt.\n",
    "\n",
    "\n",
    "Installation:\n",
    "Bevor man Pandas verwenden kann, muss die Library installiert werden:\n",
    "\n",
    "- `pip install pandas` beim einer .py Datei\n",
    "- `%pip install pandas` beim einer .ipynb Datei"
   ]
  },
  {
   "cell_type": "code",
   "execution_count": 91,
   "metadata": {},
   "outputs": [],
   "source": [
    "#%pip install pandas"
   ]
  },
  {
   "cell_type": "markdown",
   "metadata": {},
   "source": [
    "Verwendung\n",
    "Nachdem Pandas installiert ist, kann es in Python wie folgt importiert werden:"
   ]
  },
  {
   "cell_type": "code",
   "execution_count": 92,
   "metadata": {},
   "outputs": [],
   "source": [
    "import pandas as pd"
   ]
  },
  {
   "cell_type": "markdown",
   "metadata": {},
   "source": [
    "Um Daten zu importieren nutzen wir `pd.read_csv()`\n",
    "mit dem befehl help(pd.read_csv) bekommen wir Hilfestellung wie wir die Funktion nutzen können."
   ]
  },
  {
   "cell_type": "code",
   "execution_count": null,
   "metadata": {},
   "outputs": [],
   "source": [
    "help(pd.read_csv)"
   ]
  },
  {
   "cell_type": "markdown",
   "metadata": {},
   "source": [
    "Wenn die Anleitung aufmerksam gelesen wird ist der erster Parameter:\n",
    "\n",
    "`filepath_or_buffer = str, path object or file-like object`\n",
    "\n",
    "\"Any valid string path is acceptable.\"\n",
    "Das bedeutet gib den Parameter wo deine Datei liegt indem Fall eine comma seprated Value (.csv) als String(str),\n",
    "\n",
    "- ***filepath_or_buffer: \"Desktop/Daten/dein_Datei_namem.csv\"***\n",
    "\n",
    "\n",
    "`Seprator - sep: str, default ‘,’`\n",
    "Weiterhin um die Datei richtig einzulesen muss man ein Seprator mit eingeben in unseren Fall ist es eine comma seprated Value (.csv) als Dateiformat also macht es Sinn ein Komme zusetzten als String.\n",
    "\n",
    "- ***sep = \",\"***\n",
    "\n",
    "Zusammengefasst wäre der Code wie folgt:"
   ]
  },
  {
   "cell_type": "code",
   "execution_count": 94,
   "metadata": {},
   "outputs": [],
   "source": [
    "#pd.read_csv(filepath_or_buffer = \"Desktop/Daten/deine_Datei_Namen_einfügen.csv\",\n",
    "#           sep=\",\")"
   ]
  },
  {
   "cell_type": "code",
   "execution_count": null,
   "metadata": {},
   "outputs": [],
   "source": [
    "df = pd.read_csv(filepath_or_buffer = \"/Users/riccardo/Desktop/Github/Python-Crashkurs/Daten/wage.csv\",\n",
    "            sep=\";\") \n",
    "df"
   ]
  },
  {
   "cell_type": "markdown",
   "metadata": {},
   "source": [
    "- Beachte hier wird die CSV Tabelle in die Variable df eingespeichert. Somit müssen wir den ganze Code nicht immer durch führen"
   ]
  },
  {
   "cell_type": "markdown",
   "metadata": {},
   "source": [
    "df.head():\n",
    "\n",
    "Ist eine weitere Pandas Funktion um die Daten zubetrachten. Dabei werden die ersten 5 Zeilen angezeigt\n",
    "\n",
    "Sollte hier in die df.head() Funktion ein integer mitgeben werden wie 20 werden dementsprechend 20 Zeilen betrachtet."
   ]
  },
  {
   "cell_type": "code",
   "execution_count": null,
   "metadata": {},
   "outputs": [],
   "source": [
    "df.head()           # <- Die ersten 5 Zeilen\n",
    "# df.head(20)       # <- Die ersten 20 Zeilen"
   ]
  },
  {
   "cell_type": "code",
   "execution_count": null,
   "metadata": {},
   "outputs": [],
   "source": [
    "df.info()"
   ]
  },
  {
   "cell_type": "markdown",
   "metadata": {},
   "source": [
    "Um ein besseres Verständis für deine Daten zubekommen hilft die Funktion:\n",
    "`df.describe()`"
   ]
  },
  {
   "cell_type": "code",
   "execution_count": null,
   "metadata": {},
   "outputs": [],
   "source": [
    "df.describe()"
   ]
  },
  {
   "cell_type": "markdown",
   "metadata": {},
   "source": [
    "Der Datensatz enthält Informationen über **998 Personen**.\n",
    "\n",
    "- Der **durchschnittliche Stundenlohn** beträgt etwa **10,23 USD**, wobei der niedrigste Lohn **2,07 USD** und der höchste **60,19 USD** beträgt.\n",
    "- Im Durchschnitt haben die Personen **13,29 Jahre Bildung** abgeschlossen, wobei die Ausbildungsspanne von **1 Jahr** bis zu **18 Jahren** reicht.\n",
    "- Die **durchschnittliche Berufserfahrung** liegt bei **18,79 Jahren**, wobei einige Personen **keine Berufserfahrung** haben und andere bis zu **52 Jahre** Berufserfahrung vorweisen können.\n",
    "- **Etwa 81% der Personen** leben in **städtischen Gebieten**, während die restlichen **19%** in ländlichen Gegenden wohnen.\n",
    "- Die Verteilung der Stundenlöhne zeigt, dass **50% der Löhne** zwischen **5,53 USD** und **12,84 USD** liegen, mit einem Medianlohn von **8,83 USD**.\n",
    "- Hinsichtlich der Bildung haben **50% der Personen** zwischen **12 und 16 Jahren** Ausbildung, mit einem Median von **13 Jahren**.\n",
    "- Die Berufserfahrung variiert stark, wobei **50% der Personen** zwischen **10 und 26 Jahren** Erfahrung haben, mit einem Median von **18 Jahren**."
   ]
  },
  {
   "cell_type": "markdown",
   "metadata": {},
   "source": [
    "### Daten filterung mit Pandas"
   ]
  },
  {
   "cell_type": "markdown",
   "metadata": {},
   "source": [
    "Um Daten zu filtern starten wir mit dem Dataframe wo die Datengespeichert werden.\n",
    "\n",
    "*df_filtered = df[df[\"wage\"] > 12.00]*\n",
    "\n",
    "1. *`df:`* Dies ist der ursprüngliche DataFrame, der alle Daten enthält.\n",
    "2. `*df[\"wage\"]*`: Hier geben wir die Spalte an, aus der die Daten gefiltert werden sollen. In diesem Fall wird die Spalte `wage` (Lohn) verwendet.\n",
    "3. `*df[df[\"wage\"] > 12.00]*`: Der Vergleichsoperator `*> 12.00*` filtert alle Zeilen, in denen der Lohn höher als 12.00 ist. Das Ergebnis ist ein neuer DataFrame df_filtered, der nur die Daten enthält, bei denen der Lohn über 12.00 liegt.\n",
    "\n",
    "Um Daten zufiltern nutzen wir folgenden Code:"
   ]
  },
  {
   "cell_type": "code",
   "execution_count": null,
   "metadata": {},
   "outputs": [],
   "source": [
    "df_filtered = df[df[\"wage\"] > 12.00] \n",
    "df_filtered\n"
   ]
  },
  {
   "cell_type": "code",
   "execution_count": null,
   "metadata": {},
   "outputs": [],
   "source": [
    "df_filtered_educ = df[(df[\"wage\"] > 12.00) & (df[\"educ\"] == 12)]\n",
    "df_filtered_educ"
   ]
  },
  {
   "cell_type": "markdown",
   "metadata": {},
   "source": [
    "### 2.2. Matplotlib\n",
    "---\n",
    "\n",
    "Matplotlib ist eine leistungsstarke Bibliothek zur Visualisierung von Daten in Python. Mit ihr lassen sich eine Vielzahl von Diagrammen und Plots erstellen, wie Linien-, Balken-, und Streudiagramme. Sie wird häufig für die Erstellung von 2D-Grafiken verwendet und bietet umfangreiche Anpassungsmöglichkeiten.\n",
    "\n",
    "Detaillierte Informationen und Anleitungen findest du in der offiziellen Dokumentation: [Matplotlib-Dokumentation](https://matplotlib.org/stable/)\n"
   ]
  },
  {
   "cell_type": "code",
   "execution_count": 101,
   "metadata": {},
   "outputs": [],
   "source": [
    "#%pip install matplotlib"
   ]
  },
  {
   "cell_type": "code",
   "execution_count": 102,
   "metadata": {},
   "outputs": [],
   "source": [
    "import matplotlib.pyplot as plt"
   ]
  },
  {
   "cell_type": "markdown",
   "metadata": {},
   "source": [
    "#### 1. Histogramm\n",
    "\n",
    "Um ein Histogramm zu erstellen nutzen wir die Funktion \n",
    "\n",
    "[`plt.hist()`](https://matplotlib.org/stable/api/_as_gen/matplotlib.pyplot.hist.html)\n",
    "\n",
    "Folgende Parameter werden dabei mit gegeben:\n",
    "\n",
    "`plt.hist(data=df, x=Spalte_zur_Visualisierung, bins=10)`"
   ]
  },
  {
   "cell_type": "markdown",
   "metadata": {},
   "source": [
    "##### **Offiziele Dokumentation :**\n",
    "\n",
    "\n",
    "**1. x:**\n",
    "\n",
    "- array or sequence of (n,) arrays Input values, this takes either a single array or a sequence of arrays which are not required to be of the same length.\n",
    "\n",
    "*Erklärung:*\n",
    "\n",
    "- Welche Spalte soll visualisert werden\n",
    "\n",
    "**2. bins:**   \n",
    "\n",
    "- `int` or sequence or `str`, default: rcParams[\"hist.bins\"] (default: 10) If bins is an `integer`, it defines the number of equal-width bins in the range.\n",
    "\n",
    "*Erklärung:*\n",
    "\n",
    "- Wie viele Klassen sollen visualisert werden, dabei wird ein Interger mitgegeben.\n",
    "\n",
    "\n",
    "\n"
   ]
  },
  {
   "cell_type": "code",
   "execution_count": null,
   "metadata": {},
   "outputs": [],
   "source": [
    "plt.hist(x=df[\"wage\"], bins=20)\n",
    "plt.show()"
   ]
  },
  {
   "cell_type": "markdown",
   "metadata": {},
   "source": [
    "Um die aussagekraft des Graphen zu steigern kann jeder Graph auf vielen wegen personalisiert werden.\n",
    "Dabei können folgende Funktion verwendet:\n",
    "\n",
    "- [`plt.title(\"Dein Titel\", loc=\"Platzierung festlegen\")`](https://matplotlib.org/stable/api/_as_gen/matplotlib.pyplot.title.html)\n",
    "- [`plt.xlabel(\"Title der X-Achse\")`](https://matplotlib.org/stable/api/_as_gen/matplotlib.pyplot.xlabel.html)\n",
    "- [`plt.xlabel(\"Title der Y-Achse\")`](https://matplotlib.org/stable/api/_as_gen/matplotlib.pyplot.ylabel.html)\n",
    "\n",
    "*weitere hilfreiche Funktion:*\n",
    "\n",
    "- [`plt.xticks()`](https://matplotlib.org/stable/api/_as_gen/matplotlib.pyplot.xticks.html)\n",
    "- [`plt.yticks()`](https://matplotlib.org/stable/api/_as_gen/matplotlib.pyplot.yticks.html)        \n",
    "- [`plt.legend(loc=\"upper right\", labels=[\"median_house_value\"])`](https://matplotlib.org/stable/api/_as_gen/matplotlib.pyplot.legend.html) "
   ]
  },
  {
   "cell_type": "code",
   "execution_count": null,
   "metadata": {},
   "outputs": [],
   "source": [
    "plt.hist(data=df, x=\"wage\", bins=30)\n",
    "plt.title(label = \"Verteilung der Löhne\", loc='center')  \n",
    "plt.xlabel(xlabel = \"Lohn (wage)\", loc=\"right\")        \n",
    "plt.ylabel(ylabel= \"Anzahl\", loc='top')               \n",
    "plt.legend(loc=\"upper right\", labels=[\"wage\"])   \n",
    "plt.show()"
   ]
  },
  {
   "cell_type": "code",
   "execution_count": null,
   "metadata": {},
   "outputs": [],
   "source": [
    "plt.scatter(x = df[\"educ\"], y = df[\"wage\"])\n",
    "plt.title(\"Streudiagramm: Ausbildung vs Lohn\")  \n",
    "plt.xlabel(\"Ausbildung (Jahre)\")               \n",
    "plt.ylabel(\"Lohn (Dollar)\")                    \n",
    "plt.show()"
   ]
  },
  {
   "cell_type": "markdown",
   "metadata": {},
   "source": [
    "# 2.3 Scitkit-learn\n",
    "\n",
    "Scitkit-learn ist eine open Source Libary zum maschinellen Lernen. Es bietet verschiedene Klassifikations-, Regressions- und Clustering-Algorithmen, darunter Support-Vektor-Maschinen, Random Forest, Gradient Boosting (wie XGBoost), k-means und DBSCAN. "
   ]
  },
  {
   "cell_type": "code",
   "execution_count": 106,
   "metadata": {},
   "outputs": [],
   "source": [
    "#%pip install scikit-learn"
   ]
  },
  {
   "cell_type": "code",
   "execution_count": 107,
   "metadata": {},
   "outputs": [],
   "source": [
    "import sklearn as sk"
   ]
  },
  {
   "cell_type": "markdown",
   "metadata": {},
   "source": [
    "Um eine Regression durchzuführen, müssen zunächst die abhängige Variable (y) und die unabhängige Variable (x) definiert werden.\n",
    "\n",
    "- Die abhängige Variable (y) ist die Größe, die wir vorhersagen möchten.\n",
    "- Die unabhängige Variable (x) ist die Größe, die wir zur Vorhersage von y verwenden.\n",
    "\n",
    "In einer linearen Regression beispielsweise versucht das Modell, basierend auf den Werten der unabhängigen Variable (x), eine Beziehung zu y herzustellen, um Vorhersagen zu treffen."
   ]
  },
  {
   "cell_type": "code",
   "execution_count": 108,
   "metadata": {},
   "outputs": [],
   "source": [
    "y = df[\"wage\"]\n",
    "X = df[[\"educ\", \"exper\", \"metro\"]]"
   ]
  },
  {
   "cell_type": "markdown",
   "metadata": {},
   "source": [
    "Nun importieren wir die `train_test_split` Funktion aus dem Modul model_selection von scikit-learn.\n",
    "Dies erlaubt uns, die Daten in *Trainings-* und *Testdaten* zu unterteilen.\n",
    "\n",
    "Die Funktion train_test_split benötigt die folgenden Argumente:\n",
    "\n",
    "- `X`: Die unabhängigen Variablen\n",
    "- `y`: Die abhängige Variable\n",
    "- `test_size`: Der Anteil der Testdaten (hier 20%)  \n",
    "- `random_state`: Ein Zufallsgenerator, um die Daten zu mischen\n"
   ]
  },
  {
   "cell_type": "code",
   "execution_count": null,
   "metadata": {},
   "outputs": [],
   "source": [
    "from sklearn.model_selection import train_test_split\n",
    "\n",
    "X_train, X_test, y_train, y_test = train_test_split(X, y, test_size=0.2, random_state=42)\n",
    "\n",
    "print(X_train.shape, X_test.shape, y_train.shape, y_test.shape)\n",
    "\n",
    "\n",
    "# Ausgabe der Dimensionen des Trainings- und Testdatensatzes\n",
    "print(\"Der Trainingsdatensatz für die unabhängigen Variablen (X) besitzt\", X_train.shape[0], \"Reihen und\", X_train.shape[1], \"Spalten.\")\n",
    "print(\"Der Trainingsdatensatz für die abhängige Variable (y) besitzt\", y_train.shape[0], \"Reihen.\")\n",
    "\n",
    "print(\"Der Testdatensatz für die unabhängigen Variablen (X) besitzt\", X_test.shape[0], \"Reihen und\", X_test.shape[1], \"Spalten.\")\n",
    "print(\"Der Testdatensatz für die abhängige Variable (y) besitzt\", y_test.shape[0], \"Reihen.\")"
   ]
  },
  {
   "cell_type": "markdown",
   "metadata": {},
   "source": [
    "Mit der Importierung der Funktion `LinearRegression` aus dem Modul `sklearn.linear_model` können wir ein Lineare Regression erstellen. Diese Lineare Regression wird in der Variable `lm` gespeichert. Anschließend wird die Methode `fit()` aufgerufen, um das Modell zu trainieren. Als Argumente werden die unabhängigen Variablen `X_train` und die abhängige Variable `y_train` übergeben."
   ]
  },
  {
   "cell_type": "code",
   "execution_count": null,
   "metadata": {},
   "outputs": [],
   "source": [
    "from sklearn.linear_model import LinearRegression\n",
    "model = LinearRegression()\n",
    "model.fit(X_train, y_train)"
   ]
  },
  {
   "cell_type": "markdown",
   "metadata": {},
   "source": [
    "Im nächsten Schritt werden wir die Vorhersagen des Modells auf dem Testdatensatz berechnen und die tatsächlichen Werte mit den vorhergesagten Werten vergleichen.\n",
    "Daher werden wir die Methode `predict()` verwenden, um die Vorhersagen zu berechnen.\n",
    "\n",
    "- Im nächsten Schritt zeigt der Code die ersten 5 Vorhersagen an:"
   ]
  },
  {
   "cell_type": "code",
   "execution_count": null,
   "metadata": {},
   "outputs": [],
   "source": [
    "y_pred = model.predict(X_test)\n",
    "y_pred[:5] "
   ]
  },
  {
   "cell_type": "markdown",
   "metadata": {},
   "source": [
    "Um das Model zu evaluieren, mehrere Metriken wie die Koeffizienten wie Slope aber den Intercept bestimmen. \n",
    "Diese Methode gibt den Bestimmtheitsmaß R² zurück, welches angibt, wie gut die unabhängigen Variablen die abhängige Variable erklären können."
   ]
  },
  {
   "cell_type": "code",
   "execution_count": null,
   "metadata": {},
   "outputs": [],
   "source": [
    "from sklearn.metrics import mean_squared_error\n",
    "\n",
    "# Ausgabe der Koeffizienten der Regressionsgleichung\n",
    "print(\"Koeffizienten der unabhängigen Variablen:\", model.coef_)\n",
    "\n",
    "# Ausgabe des Achsenabschnitts (Intercept), d.h. der Wert, bei dem die unabhängigen Variablen 0 sind\n",
    "print(\"Achsenabschnitt (Intercept):\", model.intercept_)\n",
    "\n",
    "# Berechnung des R²-Wertes zur Bewertung des Modells\n",
    "r2_score = model.score(X_test, y_test)\n",
    "print(\"Bestimmtheitsmaß (R²) auf dem Testdatensatz:\", r2_score)\n",
    "\n",
    "# Berechnung des Mittleren Quadratischen Fehlers (Mean Squared Error, MSE)\n",
    "mse = mean_squared_error(y_test, y_pred)\n",
    "print(\"Mittlerer Quadratischer Fehler (Mean Squared Error, MSE):\", mse)\n"
   ]
  },
  {
   "cell_type": "code",
   "execution_count": 117,
   "metadata": {},
   "outputs": [
    {
     "data": {
      "image/png": "[encoded data removed]",
      "text/plain": [
       "<Figure size 640x480 with 1 Axes>"
      ]
     },
     "metadata": {},
     "output_type": "display_data"
    }
   ],
   "source": [
    "# Streudiagramm der tatsächlichen vs. vorhergesagten Werte\n",
    "plt.scatter(y_test, y_pred, color=\"blue\", label=\"Vorhersagen\")\n",
    "plt.xlabel(\"Tatsächliche Werte\")\n",
    "plt.ylabel(\"Vorhergesagte Werte\")\n",
    "plt.title(\"Tatsächliche vs. Vorhergesagte Werte\")\n",
    "plt.legend()\n",
    "\n",
    "# Plot der Regressionslinie\n",
    "plt.plot([min(y_test), max(y_test)], [min(y_test), max(y_test)], color=\"red\", linewidth=2, label=\"Regressionslinie\")\n",
    "plt.legend()\n",
    "plt.show()"
   ]
  },
  {
   "cell_type": "markdown",
   "metadata": {},
   "source": []
  }
 ],
 "metadata": {
  "kernelspec": {
   "display_name": "base",
   "language": "python",
   "name": "python3"
  },
  "language_info": {
   "codemirror_mode": {
    "name": "ipython",
    "version": 3
   },
   "file_extension": ".py",
   "mimetype": "text/x-python",
   "name": "python",
   "nbconvert_exporter": "python",
   "pygments_lexer": "ipython3",
   "version": "3.10.9"
  }
 },
 "nbformat": 4,
 "nbformat_minor": 2
}
