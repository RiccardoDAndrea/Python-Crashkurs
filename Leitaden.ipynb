{
 "cells": [
  {
   "cell_type": "markdown",
   "metadata": {},
   "source": [
    "# Leitfaden für Python\n",
    "---\n",
    "## 1. Python Basic Syntax\n",
    "- ### 1.1 Variabeln\n",
    "- ### 1.2 Kommentare\n",
    "- ### 1.3 Datentypen\n",
    "## 2.\n",
    "## 3.\n",
    "## 4.\n",
    "## 5."
   ]
  },
  {
   "cell_type": "code",
   "execution_count": 1,
   "metadata": {},
   "outputs": [
    {
     "name": "stdout",
     "output_type": "stream",
     "text": [
      "Hello World\n"
     ]
    }
   ],
   "source": [
    "print(\"Hello World\")"
   ]
  },
  {
   "cell_type": "markdown",
   "metadata": {},
   "source": [
    "---\n",
    "So einfach kannst du dein erstes Programm schreiben\n",
    "\n",
    "```print(\"Hello World\")``` \n",
    "\n",
    "Dabei kann der print befehl dir helfen überhaupt festzustellen ob überhaupt alles funkoniert.\n",
    "\n",
    "Solltest du keine Fehler meldung in dein Terminal oder untern den Block sehen kann es weiter gehen.\n",
    "\n",
    "---"
   ]
  },
  {
   "cell_type": "markdown",
   "metadata": {},
   "source": [
    "### Variabeln: \n",
    "- Variabeln können verstanden werden als ein Kontainer für alle möglichen Werte, Daten, Objekte, etc.\n"
   ]
  },
  {
   "cell_type": "code",
   "execution_count": 4,
   "metadata": {},
   "outputs": [
    {
     "name": "stdout",
     "output_type": "stream",
     "text": [
      "Max\n",
      "Mustermann\n"
     ]
    }
   ],
   "source": [
    "# Variablen\n",
    "\n",
    "my_firstname = \"firstname\"      # füge hier ein Name hinzu achte drauf das Sie in Anführungszeichen stehen\n",
    "my_lastname = \"lastname\"        # füge hier ein Nachname hinzu achte drauf das Sie in Anführungszeichen stehen\n",
    "\n",
    "print(my_firstname)\n",
    "print(my_lastname)"
   ]
  },
  {
   "cell_type": "markdown",
   "metadata": {},
   "source": [
    "Nun wissen wir das die Variable ```my_firstname``` den Wert enthält den du einträgst und die Variable ```my_lastname``` genauso.\n",
    "\n",
    "Wir können nun auf diese Variablen zugreifen und diese auch verändern so oft wir wollen.\n",
    "\n",
    "Dabei sind beide Variablen sogenante String.\n",
    "\n",
    "String referenziert auf ein Datentypen"
   ]
  },
  {
   "cell_type": "markdown",
   "metadata": {},
   "source": [
    "## 1.2 Kommentare \n",
    "---\n",
    "\n",
    "Kommentare sind in der Programmier welt sehr wichtig. Sie helfen dabei den Code zu verstehen und zu dokumentieren.\n",
    "Kommentare werden in Python mit einem # eingeleitet. Alles was nach dem ```#``` kommt wird nicht ausgeführt."
   ]
  },
  {
   "cell_type": "code",
   "execution_count": null,
   "metadata": {},
   "outputs": [],
   "source": []
  },
  {
   "cell_type": "markdown",
   "metadata": {},
   "source": [
    "## Daten Typen\n",
    "---"
   ]
  },
  {
   "cell_type": "markdown",
   "metadata": {},
   "source": [
    "#### Vorhandende Datentypen in Python:\n",
    "- <span style=\"color:lightblue\"> *int* </span>: Ist eine Absoulte Zahl\n",
    "\n",
    "- <span style=\"color:lightblue\"> *float* </span>: Stellt eine Dezimalzahl dar\n",
    "\n",
    "- <span style=\"color:lightblue\"> *float* </span>: Eine Zeichenkette ist eine Folge von Zeichen, die doppelte Anführungszeichen („“) \n",
    "eingeschlossen sind.\n",
    "\n",
    "- <span style=\"color:lightblue\"> *bool* </span>: ```True``` oder ```False```"
   ]
  },
  {
   "cell_type": "code",
   "execution_count": 6,
   "metadata": {},
   "outputs": [],
   "source": [
    "# - int (Ganzzahlen)\n",
    "x = 20\n",
    "\n",
    "# - float (Kommazahlen)\n",
    "y = 20.5\n",
    "\n",
    "# - str (Strings)\n",
    "Name = \"Das ist ein String der aus Buchstaben besteht und eine Zeichenkette bildet\"\n",
    "\n",
    "# - bool (Booleans)\n",
    "Male = False\n",
    "Female = True\n",
    "\n",
    "# Daten Typen"
   ]
  },
  {
   "cell_type": "code",
   "execution_count": null,
   "metadata": {},
   "outputs": [],
   "source": []
  },
  {
   "cell_type": "code",
   "execution_count": null,
   "metadata": {},
   "outputs": [],
   "source": []
  },
  {
   "cell_type": "code",
   "execution_count": null,
   "metadata": {},
   "outputs": [],
   "source": []
  },
  {
   "cell_type": "code",
   "execution_count": null,
   "metadata": {},
   "outputs": [],
   "source": []
  },
  {
   "cell_type": "code",
   "execution_count": null,
   "metadata": {},
   "outputs": [],
   "source": []
  },
  {
   "cell_type": "code",
   "execution_count": null,
   "metadata": {},
   "outputs": [],
   "source": []
  }
 ],
 "metadata": {
  "kernelspec": {
   "display_name": "base",
   "language": "python",
   "name": "python3"
  },
  "language_info": {
   "codemirror_mode": {
    "name": "ipython",
    "version": 3
   },
   "file_extension": ".py",
   "mimetype": "text/x-python",
   "name": "python",
   "nbconvert_exporter": "python",
   "pygments_lexer": "ipython3",
   "version": "3.11.9"
  }
 },
 "nbformat": 4,
 "nbformat_minor": 2
}
