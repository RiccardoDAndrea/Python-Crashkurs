{
 "cells": [
  {
   "cell_type": "markdown",
   "metadata": {},
   "source": [
    "##### **Jeder Programmierer** stößt irgendwann auf Schwierigkeiten und fühlt sich vielleicht festgefahren – das ist völlig normal. Programmieren, wie so vieles im Leben, ist anfangs herausfordernd, aber mit der Zeit wird es einfacher.\n",
    "\n",
    "Um euch das Leben zu erleichtern und eure Leidenschaft fürs Programmieren auch nach der Blockwoche zu bewahren, habe ich einen Leitfaden erstellt. Dieser soll euch in unsicheren Momenten als Orientierungshilfe dienen, damit ihr nachschlagen könnt, wie bestimmte Dinge funktionieren.\n",
    "\n",
    "Denkt daran: **„Jeder Meister war einmal ein Anfänger.“** Genauso braucht ihr als Anfänger im Programmieren Zeit, um wirklich gut zu werden.\n",
    "\n",
    "Aber keine Sorge – **ihr schafft das!**\n"
   ]
  },
  {
   "cell_type": "markdown",
   "metadata": {},
   "source": []
  },
  {
   "cell_type": "markdown",
   "metadata": {},
   "source": [
    "# Leitfaden für Python\n",
    "\n",
    "---\n",
    "\n",
    "## 1. Python Basic Syntax\n",
    "- ### 1.1. Variabeln\n",
    "- ### 1.2. Kommentare\n",
    "- ### 1.3. Datentypen\n",
    "- ### 1.4. Operatoren\n",
    "- ### 1.5. Logische Operatoren\n",
    "- ### 1.6. Schleifen\n",
    "    - ### 1.6.1 for loop\n",
    "    - ### 1.6.2 while\n",
    "\n",
    "\n",
    "## 2. Libraries\n",
    "- ### 2.1. Understanding Libraries\n",
    "    - #### 2.1.1 How to read Docs\n",
    "\n",
    "- ### 2.2. Pandas\n",
    "- ### 2.2. scikit-learn\n",
    "- ### 2.3. Plotly\n",
    "- ### 2.3. Streamlit \n",
    "\n",
    "\n",
    "## 3. Fehlerbehebungen\n",
    "## 4.\n",
    "## 5.\n",
    "\n",
    "---"
   ]
  },
  {
   "cell_type": "markdown",
   "metadata": {},
   "source": [
    "So einfach kannst du dein erstes Programm schreiben\n"
   ]
  },
  {
   "cell_type": "code",
   "execution_count": 55,
   "metadata": {},
   "outputs": [
    {
     "name": "stdout",
     "output_type": "stream",
     "text": [
      "Hello World\n"
     ]
    }
   ],
   "source": [
    "print(\"Hello World\")"
   ]
  },
  {
   "cell_type": "markdown",
   "metadata": {},
   "source": [
    "`print(\"Hello World\")`\n",
    "\n",
    "Dabei kann der print befehl dir helfen überhaupt festzustellen ob alles funkoniert.\n",
    "\n",
    "Solltest du keine Fehler Meldung in dein Terminal oder untern den Block sehen kann es weiter gehen.\n"
   ]
  },
  {
   "cell_type": "markdown",
   "metadata": {},
   "source": [
    "## 1.1 Variabeln:\n",
    "----\n",
    "\n",
    "- Variabeln können verstanden werden als ein Kontainer für alle möglichen Werte, Daten, Objekte, etc.\n",
    "- Was du nun in der Variable einspeichert liegt an deinem Code\n"
   ]
  },
  {
   "cell_type": "code",
   "execution_count": 56,
   "metadata": {},
   "outputs": [
    {
     "name": "stdout",
     "output_type": "stream",
     "text": [
      "Deine Varibale enthält den Namen: firstname\n",
      "Deine Varibale enthält den Nachnamen: lastname\n"
     ]
    }
   ],
   "source": [
    "# füge hier ein Name hinzu achte drauf das Sie in Anführungszeichen stehen\n",
    "my_firstname = \"firstname\"  \n",
    "\n",
    "# füge hier ein Nachname hinzu achte drauf das Sie in Anführungszeichen stehen\n",
    "my_lastname = \"lastname\"    \n",
    "\n",
    "\n",
    "print(\"Deine Varibale enthält den Namen: \" + my_firstname)\n",
    "print(\"Deine Varibale enthält den Nachnamen: \" + my_lastname)"
   ]
  },
  {
   "cell_type": "markdown",
   "metadata": {},
   "source": [
    "Nun wissen wir das die Variable **`my_firstname`** den Wert enthält den du einträgst und die Variable **`my_lastname`** genauso.\n",
    "Wir können nun auf diese Variablen zugreifen und diese auch verändern so oft wir wollen.\n",
    "Dabei sind beide Variablen sogenante *String*.\n",
    "String referenziert auf ein *Datentypen* dazu mehr in 1.3"
   ]
  },
  {
   "cell_type": "markdown",
   "metadata": {},
   "source": [
    "## 1.2 Kommentare \n",
    "---\n",
    "\n",
    "**Kommentare** sind in der Programmier Welt sehr wichtig. Sie helfen dabei den Code zu verstehen und zu dokumentieren.\n",
    "Kommentare werden in Python mit einem # eingeleitet. Alles was nach dem `#` kommt wird nicht ausgeführt."
   ]
  },
  {
   "cell_type": "code",
   "execution_count": 57,
   "metadata": {},
   "outputs": [
    {
     "name": "stdout",
     "output_type": "stream",
     "text": [
      "Das Alter beträgt:  26\n"
     ]
    }
   ],
   "source": [
    "# Folgender Code gibt das Alter der Person wieder\n",
    "\n",
    "Alter = 26 \n",
    "print(\"Das Alter beträgt: \", Alter)"
   ]
  },
  {
   "cell_type": "markdown",
   "metadata": {},
   "source": [
    "## 1.3 Daten Typen\n",
    "---"
   ]
  },
  {
   "cell_type": "markdown",
   "metadata": {},
   "source": [
    "#### **Vorhandene Datentypen in Python:**\n",
    "\n",
    "<span style=\"color:lightblue\"> *int* </span>: \n",
    "Eine ganze Zahl, wie `5`, `-3` oder `42`.\n",
    "\n",
    "<span style=\"color:lightblue\"> *float* </span>: \n",
    "Eine Dezimalzahl, wie `3.14`, `-0.001` oder `2.0`.\n",
    "\n",
    "<span style=\"color:lightblue\"> *str* </span>: \n",
    "Ein Text, der in Anführungszeichen steht, wie `\"Hallo, Welt!\"` oder `'Python ist toll'`.\n",
    "\n",
    "<span style=\"color:lightblue\"> *bool* </span>: \n",
    "Ein Wert, der entweder `True` (wahr) oder `False` (falsch) ist.\n",
    "\n",
    "<span style=\"color:lightblue\"> *list* </span>: Eine Sammlung von Elementen in eckigen Klammern, getrennt durch Kommas, z.B. `[1, 2, 3]` oder `[\"Apfel\", \"Banane\", \"Kirsche\"]`.\n",
    "\n",
    "\n",
    "<span style=\"color:lightblue\"> *dict* </span>: \n",
    "Ein Wörterbuch mit Schlüssel-Wert-Paaren, das in geschweiften Klammern steht, wie `{\"name\": \"Alice\", \"alter\": 25}`.\n"
   ]
  },
  {
   "cell_type": "code",
   "execution_count": 58,
   "metadata": {},
   "outputs": [],
   "source": [
    "# - int (Absoulte Zahlen)\n",
    "x = 20\n",
    "\n",
    "# - float (Dezimalzahlen)\n",
    "y = 20.5\n",
    "\n",
    "# - str (Strings)\n",
    "Name = \"Das ist ein String der aus Buchstaben besteht und eine Zeichenkette bildet\"\n",
    "\n",
    "# - bool (Booleans)\n",
    "Male = False\n",
    "Female = True"
   ]
  },
  {
   "cell_type": "markdown",
   "metadata": {},
   "source": [
    "list"
   ]
  },
  {
   "cell_type": "code",
   "execution_count": 85,
   "metadata": {},
   "outputs": [
    {
     "name": "stdout",
     "output_type": "stream",
     "text": [
      "['Apfel', 'Birne', 'Banane', 'Kirsche', 'Erdbeere']\n"
     ]
    }
   ],
   "source": [
    "Früchte = [\"Apfel\", \"Birne\", \"Banane\", \"Kirsche\", \"Erdbeere\"]\n",
    "\n",
    "print(Früchte)    # Apfel"
   ]
  },
  {
   "cell_type": "markdown",
   "metadata": {
    "vscode": {
     "languageId": "bat"
    }
   },
   "source": [
    "Dicitonries"
   ]
  },
  {
   "cell_type": "code",
   "execution_count": 87,
   "metadata": {},
   "outputs": [
    {
     "data": {
      "text/plain": [
       "{'Früchte': 'Erdbeere', 'Menge': 40}"
      ]
     },
     "execution_count": 87,
     "metadata": {},
     "output_type": "execute_result"
    }
   ],
   "source": [
    "Lagerbestand = {\"Früchte\":\"Erdbeere\",\n",
    "                \"Menge\": 40}\n",
    "\n",
    "Lagerbestand"
   ]
  },
  {
   "cell_type": "markdown",
   "metadata": {},
   "source": [
    "Dies war ein kleine Einleitung welche Datentypen es gibt.\n",
    "In den folgeden Kapitel werden wir lernen wie die Datentypen gefiltert, manipuliert werden und vieles mehr\n",
    "\n",
    "| Mehr über **list** und **dictonaries** findest du in ***Kapitel 1.6*** und ***1.7***|\n",
    "|-------------------------------------------------------------------------------------|\n",
    "\n"
   ]
  },
  {
   "cell_type": "markdown",
   "metadata": {},
   "source": [
    "### 1.4 Operatoren\n",
    "---\n",
    "\n",
    "Variablen können auch **kombiniert** werden "
   ]
  },
  {
   "cell_type": "code",
   "execution_count": 61,
   "metadata": {},
   "outputs": [
    {
     "name": "stdout",
     "output_type": "stream",
     "text": [
      "Addition: 30\n",
      "Subtraktion: 10\n",
      "Multiplikation: 200\n",
      "Division: 2.0\n",
      "Potenz: 10240000000000\n"
     ]
    }
   ],
   "source": [
    "# Eine kleine Übersicht über verschiedene mathematische Operatoren.\n",
    "x = 20\n",
    "y = 10\n",
    "\n",
    "# Addition\n",
    "addition = x + y\n",
    "print(\"Addition:\", addition)\n",
    "\n",
    "# Subtraktion\n",
    "subtraktion = x - y\n",
    "print(\"Subtraktion:\", subtraktion)\n",
    "\n",
    "# Multiplikation\n",
    "multiplikation = x * y\n",
    "print(\"Multiplikation:\", multiplikation)\n",
    "\n",
    "# Division\n",
    "division = x / y\n",
    "print(\"Division:\", division)\n",
    "\n",
    "# Potenzen\n",
    "potenz = x ** y\n",
    "print(\"Potenz:\", potenz)"
   ]
  },
  {
   "cell_type": "markdown",
   "metadata": {},
   "source": [
    "### 1.5 Logische Operatoren\n",
    "---"
   ]
  },
  {
   "cell_type": "code",
   "execution_count": 62,
   "metadata": {},
   "outputs": [
    {
     "name": "stdout",
     "output_type": "stream",
     "text": [
      "and Operator: False\n",
      "or Operator: False\n",
      "not Operator: True\n"
     ]
    }
   ],
   "source": [
    "# and (und)\n",
    "und_operator = x < 5 and x < 10\n",
    "print(\"and Operator:\", und_operator)\n",
    "\n",
    "# or (oder)\n",
    "oder_operator = x < 5 or x < 4\n",
    "print(\"or Operator:\", oder_operator)\n",
    "\n",
    "# not (nicht)\n",
    "nicht_operator = not(x < 5 and x < 10)\n",
    "print(\"not Operator:\", nicht_operator)"
   ]
  },
  {
   "cell_type": "markdown",
   "metadata": {},
   "source": [
    "### 1.6 Listen \n",
    "---\n",
    "In diesen Abschnitt geht es um die Handhabung mit Listen.\n",
    "\n",
    "Dazuzählen wie einzelen Werte extrahiert werden können oder auch neue Werte hinzugefügt werden."
   ]
  },
  {
   "cell_type": "markdown",
   "metadata": {},
   "source": [
    "<span style=\"color:lightblue\"> **list** </span>: \n",
    "\n",
    "Eine Liste ist eine Datenstruktur in Python, die eine veränderbare oder veränderbare, geordnete Folge von Elementen darstellt. \n",
    "\n",
    "Jedes Element oder jeder Wert innerhalb einer Liste wird als Element bezeichnet. \n",
    "Eine liste wird initialisiert durch eckige Klammern [ ]\n",
    "Eine list die ein Datentyp bereits ist kann jedoch auf weitere Datentypen beinhalten\n",
    "\n",
    "- Eine Liste mit <span style=\"color:lightblue\"> **strings** </span>: \n",
    "\n",
    "\n",
    "    `Früchte = [\"Apfel\", \"Birne\", \"Banane\", \"Kirsche\", \"Erdbeere\"]`\n",
    "\n",
    "- Eine Liste mit <span style=\"color:lightblue\"> **intergers** </span>: \n",
    "\n",
    "\n",
    "    `Menge = [3, 4, 6, 10, 20]`\n",
    "\n",
    "- Eine Liste mit <span style=\"color:lightblue\"> **booleans** </span>:\n",
    " \n",
    "    ` Verfügbar = [True, False, True, True, False]`\n",
    "\n"
   ]
  },
  {
   "cell_type": "code",
   "execution_count": 63,
   "metadata": {},
   "outputs": [
    {
     "name": "stdout",
     "output_type": "stream",
     "text": [
      "Apfel\n",
      "Birne\n",
      "Erdbeere\n"
     ]
    }
   ],
   "source": [
    "Früchte = [\"Apfel\", \"Birne\", \"Banane\", \"Kirsche\", \"Erdbeere\"]\n",
    "print(Früchte[0])   # Apfel Der Index beginnt bei 0 und nicht bei 1\n",
    "print(Früchte[1])   # Birne an der Index Nummer 1 \n",
    "print(Früchte[-1])  # Erdbeere an der Index Nummer -1 also das letzte Element in der Liste"
   ]
  },
  {
   "cell_type": "markdown",
   "metadata": {},
   "source": [
    "Die Indexierung erfolgt wie folgt:\n",
    "\n",
    "\n",
    "`Früchte = [\"Apfel\", \"Birne\", \"Banane\", \"Kirsche\", \"Erdbeere\"]`\n",
    "\n",
    "\n",
    "| Index   | 0      | 1      | 2      | 3       | 4         |\n",
    "|---------|--------|--------|--------|---------|-----------|\n",
    "| Element | Apfel  | Birne  | Banane | Kirsche | Erdbeere  |\n",
    "\n"
   ]
  },
  {
   "cell_type": "markdown",
   "metadata": {},
   "source": [
    "#### Mehrere Werte aus einer Liste extrahieren:\n",
    "\n",
    "Mit diesem Code werden die Elemente 2 bis 4 aus der Liste gefiltert. Dabei ist das 2. Element inklusiv und das 5. Element exklusiv:\n",
    "\n",
    "<span style=\"color:lightblue\"> **Früchte[Inklusiv:Exklusiv]** </span>"
   ]
  },
  {
   "cell_type": "code",
   "execution_count": 64,
   "metadata": {},
   "outputs": [
    {
     "name": "stdout",
     "output_type": "stream",
     "text": [
      "['Banane', 'Kirsche', 'Erdbeere']\n"
     ]
    }
   ],
   "source": [
    "print(Früchte[2:5])  # ['Banane', 'Kirsche', 'Erdbeere'] Der Index 5 wird nicht mitgezählt"
   ]
  },
  {
   "cell_type": "markdown",
   "metadata": {},
   "source": [
    "Mit diesem Code werden **alle Elemente** bis zur **Index-Nummer 4** aus der Liste gefiltert. \n",
    "Dabei wird das 2. Element inklusiv und das 5. Element exklusiv betrachtet:"
   ]
  },
  {
   "cell_type": "code",
   "execution_count": 65,
   "metadata": {},
   "outputs": [
    {
     "name": "stdout",
     "output_type": "stream",
     "text": [
      "['Apfel', 'Birne', 'Banane', 'Kirsche']\n",
      "['Banane', 'Kirsche', 'Erdbeere']\n"
     ]
    }
   ],
   "source": [
    "print(Früchte[:4])   # ['Apfel', 'Birne', 'Banane', 'Kirsche']  Die ersten 4 Elemente werden ausgegeben\n",
    "\n",
    "print(Früchte[2:])   # ['Banane', 'Kirsche', 'Erdbeere']        Alle Elemente ab dem Index 2 werden ausgegeben"
   ]
  },
  {
   "cell_type": "markdown",
   "metadata": {},
   "source": [
    "*WICHTIG:*\n",
    "- In unseren Fall bedeutet das Banane, Kirsche und Erdbeere\n",
    "- Das heißt die 2 (Banane) ist inklusiv und die 5 (Erdbeere) ist exklusiv\n"
   ]
  },
  {
   "cell_type": "markdown",
   "metadata": {},
   "source": [
    "#### **Werte hinzufügen**"
   ]
  },
  {
   "cell_type": "markdown",
   "metadata": {},
   "source": [
    "#### **Element zur einer Liste hinzufügen**"
   ]
  },
  {
   "cell_type": "code",
   "execution_count": 66,
   "metadata": {},
   "outputs": [
    {
     "name": "stdout",
     "output_type": "stream",
     "text": [
      "Ananas hinzufügen: ['Apfel', 'Birne', 'Banane', 'Kirsche', 'Erdbeere', 'Ananas']\n"
     ]
    }
   ],
   "source": [
    "# Element am Ende der Liste hinzufügen\n",
    "Früchte.append('Ananas')\n",
    "print(\"Ananas hinzufügen:\" ,Früchte)"
   ]
  },
  {
   "cell_type": "markdown",
   "metadata": {},
   "source": [
    "#### **Element an einem bestimmten Index hinzufügen**"
   ]
  },
  {
   "cell_type": "code",
   "execution_count": 67,
   "metadata": {},
   "outputs": [
    {
     "name": "stdout",
     "output_type": "stream",
     "text": [
      "Orange an den Index Punkt 5 hinzufügen: ['Apfel', 'Birne', 'Banane', 'Kirsche', 'Erdbeere', 'Orange', 'Ananas']\n"
     ]
    }
   ],
   "source": [
    "# Element an Index Nr. 5 hinzufügen\n",
    "\n",
    "Früchte.insert(5, 'Orange')\n",
    "print(\"Orange an den Index Punkt 5 hinzufügen:\" ,Früchte)"
   ]
  },
  {
   "cell_type": "markdown",
   "metadata": {},
   "source": [
    "#### **Werte ändern:**\n",
    "\n",
    "In Index Nr 1. Ist der Wert *\"Birne\"*\n",
    "\n",
    "`Früchte = [\"Apfel\", \"Birne\", \"Banane\", \"Kirsche\", \"Erdbeere\"]`\n",
    "\n",
    "*\"Birne\"* wird nun erstzt im darunter liegen den Code durch *'Kiwi'* im Index Nr.1 "
   ]
  },
  {
   "cell_type": "code",
   "execution_count": 68,
   "metadata": {},
   "outputs": [
    {
     "name": "stdout",
     "output_type": "stream",
     "text": [
      "['Apfel', 'Kiwi', 'Banane', 'Kirsche', 'Erdbeere', 'Orange', 'Ananas']\n"
     ]
    }
   ],
   "source": [
    "# Element in der Liste ändern\n",
    "\n",
    "Früchte[1] = 'Kiwi'\n",
    "print(Früchte)"
   ]
  },
  {
   "cell_type": "markdown",
   "metadata": {},
   "source": [
    "#### **Werte entfernen:**\n",
    "- durch \"remove\" wird der string \"Erdbeere\" entfernt"
   ]
  },
  {
   "cell_type": "code",
   "execution_count": 69,
   "metadata": {},
   "outputs": [
    {
     "name": "stdout",
     "output_type": "stream",
     "text": [
      "['Apfel', 'Kiwi', 'Banane', 'Kirsche', 'Orange', 'Ananas']\n"
     ]
    }
   ],
   "source": [
    "# Element aus der Liste entfernen\n",
    "\n",
    "Früchte.remove('Erdbeere')\n",
    "print(Früchte)"
   ]
  },
  {
   "cell_type": "code",
   "execution_count": 70,
   "metadata": {},
   "outputs": [
    {
     "name": "stdout",
     "output_type": "stream",
     "text": [
      "[1, 2, 3, 4, 5, 6, 7, 8, 9, 10]\n"
     ]
    }
   ],
   "source": [
    "x = [10, 9, 8, 7, 6, 5, 4, 3, 2, 1]\n",
    "x.sort()\n",
    "print(x)"
   ]
  },
  {
   "cell_type": "markdown",
   "metadata": {},
   "source": [
    "### 1.7 Dictionries \n",
    "---\n",
    "##### **Ein Dictionary** ist eine Sammlung, die in Python verwendet wird, um Daten zu speichern, die in Form von Schlüssel-Wert-Paaren vorliegen."
   ]
  },
  {
   "cell_type": "markdown",
   "metadata": {},
   "source": [
    "**Dictionary**\n",
    "\n",
    "- In dem Dict können mehrer Werte gespeichert werden in dem ein Liste mitgeben wird mit mehreren Werten\n",
    "\n",
    "- In diesem Beispiel werden die Namen und das Alter der Personen gespeichert"
   ]
  },
  {
   "cell_type": "markdown",
   "metadata": {},
   "source": [
    "**Syntax für ein Dictionary in Python** \n",
    "\n",
    "Ein Dictionary wird in Python üblicherweise in einer Variablen gespeichert. In diesem Beispiel nennen wir die Variable `my_dictionary`.\n",
    "\n",
    "Ein **Key (Schlüssel)** kann als Spaltenname verstanden werden, und der **Item (Wert)** referenziert den Inhalt, der in dieser \"Spalte\" stehen soll.\n",
    "\n",
    "Der allgemeine Aufbau eines Dictionaries sieht so aus:"
   ]
  },
  {
   "cell_type": "code",
   "execution_count": null,
   "metadata": {},
   "outputs": [],
   "source": [
    "my_dictionary = {\n",
    "    \"Key1\": \"Item1\",\n",
    "    \"Key2\": \"Item2\",\n",
    "    \"Key3\": \"Item3\"\n",
    "}\n",
    "\n",
    "my_dictionary"
   ]
  },
  {
   "cell_type": "code",
   "execution_count": 78,
   "metadata": {},
   "outputs": [
    {
     "data": {
      "text/plain": [
       "{'Früchte': 'Erdbeere', 'Menge': 40}"
      ]
     },
     "execution_count": 78,
     "metadata": {},
     "output_type": "execute_result"
    }
   ],
   "source": [
    "Lagerbestand = {\"Früchte\":\"Erdbeere\",\n",
    "                \"Menge\": 40}\n",
    "\n",
    "Lagerbestand"
   ]
  },
  {
   "cell_type": "markdown",
   "metadata": {},
   "source": [
    "Key: Dies ist der Name des Schlüssels (z.B. \"Key1\"). Schlüssel müssen unveränderlich sein und können Datentypen wie Strings, Zahlen oder Tupel sein.\n",
    "Item: Dies ist der Wert, der dem Schlüssel zugeordnet wird (z.B. \"Item1\"). Ein Wert kann jeder beliebige Datentyp sein, wie z.B. ein String, eine Zahl, eine Liste, ein weiteres Dictionary, etc."
   ]
  }
 ],
 "metadata": {
  "kernelspec": {
   "display_name": "base",
   "language": "python",
   "name": "python3"
  },
  "language_info": {
   "codemirror_mode": {
    "name": "ipython",
    "version": 3
   },
   "file_extension": ".py",
   "mimetype": "text/x-python",
   "name": "python",
   "nbconvert_exporter": "python",
   "pygments_lexer": "ipython3",
   "version": "3.11.9"
  }
 },
 "nbformat": 4,
 "nbformat_minor": 2
}
