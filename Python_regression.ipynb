{
 "cells": [
  {
   "cell_type": "markdown",
   "metadata": {
    "vscode": {
     "languageId": "plaintext"
    }
   },
   "source": [
    "# 1. Empirisches Projekt\n",
    "---\n",
    "### **Übung zur Erstellung einer Mutiplen Linearen Regression**\n",
    "Dieses Sktipt soll euch helfen eine Datenanalyse sowie eine Simple oder eine Mutiple Regression aufzubauen.\n",
    "-> Falls ihr fragen habt bitte sagt mir bescheid ich helfe gerne aus!\n",
    "\n",
    "\n",
    "> E-Mail: riccardo.dandrea@live.de\n",
    "> Ihr könnte gerne eine Mail schreiben wo wir uns Per zoom treffen können, falls ihr schwierigkeiten habt bei der Programmierung:\n",
    "> BITTE schreibt in der MAIL:\n",
    "> - Was habt ihr vor ?\n",
    "> - Wo liegt das Problem mit Code und Fehlermeldung\n",
    "> - und wann ihr euch Per zoom treffen wollt Tag und Uhrzeit.\n",
    ">\n",
    "> Gerne bitte ich auch eine Sprechstunde neben den Vorlesungen wo wir uns einmal wöchentlich treffen und Ihr mir direkt Fragen stellt könnte.\n",
    "\n",
    "\n",
    "Für die Datenanalyse kann als unterstützung der Leitfaden \"Leitfaden.ipynbn\" als unterstützung genutzt werden.\n",
    "Ab Punkt 2. wird erklärt wie Libaries installiert werden und wie die Daten eingelesen werden können. Sowie weitere Schritte zur Datenanalyse."
   ]
  },
  {
   "cell_type": "markdown",
   "metadata": {
    "vscode": {
     "languageId": "plaintext"
    }
   },
   "source": [
    "# Google Colab:\n",
    "---\n",
    "##### 1. [Python Programmierung mit Google Colab link](https://colab.research.google.com/drive/1_LOqSLE3ogQIeh5_ho03JoLbuJAGTnwF)\n",
    "\n",
    "<img src=\"Pictures_for_Explanation/1_Google_Colab_Starten.png\" alt=\"Bildbeschreibung\" width=\"600\"/>\n",
    "\n",
    "\n",
    "\n",
    "##### 2. Um ein Skript zu öffnen Navigiert auf Datei was oben Rechts vorzufinden ist und klickt \"Notebook öffnen\"\n",
    "\n",
    "<img src=\"Pictures_for_Explanation/2_Datei_Optionen_öffnen.png\" alt=\"Bildbeschreibung\" width=\"600\"/>\n",
    "\n",
    "##### 3. Danach geht ihr  auf Github und fügt folgenden Link hinzu https://github.com/RiccardoDAndrea/Python-Crashkurs\n",
    "\n",
    "<img src=\"Pictures_for_Explanation/3_Zuletzt_Geöffnet.png\" alt=\"Bildbeschreibung\" width=\"600\"/>\n",
    "\n",
    "##### 4. Nachdem Laden werdet ihr mehere Datein wie Skripte vorfinden.\n",
    "<img src=\"Pictures_for_Explanation/4_Github_URL_eingeben.png\" alt=\"Bildbeschreibung\" width=\"600\"/>\n",
    "\n",
    "##### 5. Für die Mutiple Lineare Regression wählt ihr Python_regression.ipynb und somit habt ihr erfolgreich das Skript zur bearbeitung eingeladen\n",
    "<img src=\"Pictures_for_Explanation/5_Python_MLR.png\" alt=\"Bildbeschreibung\" width=\"600\"/>\n"
   ]
  },
  {
   "cell_type": "markdown",
   "metadata": {},
   "source": [
    "Aufgabe 1\n",
    "---\n",
    "\n",
    "1. Importiert mit den richtigen abkürzung folgenden Packes:\n",
    "- pandas\n",
    "- matplotlib\n",
    "- seaborn\n",
    "- numpy\n",
    "\n",
    "\n",
    "Ihr werdet wahrscheinlich eine kleine internet recherse betreiben müssen oder die anderen Skript euch angucken"
   ]
  },
  {
   "cell_type": "code",
   "execution_count": 1,
   "metadata": {},
   "outputs": [],
   "source": [
    "# pandas\n",
    "\n",
    "# matplotlib\n",
    "\n",
    "# seaborn\n",
    "\n",
    "# numpy\n",
    "\n",
    "\n",
    "import statsmodels.api as sm\n",
    "from statsmodels.formula.api import ols \n",
    "import sklearn as sk\n",
    "import warnings\n",
    "warnings.filterwarnings('ignore')"
   ]
  },
  {
   "cell_type": "markdown",
   "metadata": {},
   "source": [
    "Aufgabe 2. Daten einlesen\n",
    "--- \n",
    "Lese folgenden Link mit `Pandas` ein und speicher den Datensatz in der Variable `df`:\n",
    "\n",
    "- Link: https://raw.githubusercontent.com/plotly/datasets/refs/heads/master/auto-mpg.csv"
   ]
  },
  {
   "cell_type": "code",
   "execution_count": null,
   "metadata": {},
   "outputs": [],
   "source": [
    "df = \n",
    "\n",
    "\n",
    "df.rename(columns={\"model-year\":\"model_year\"}, inplace=True)\n",
    "\n",
    "df.head()"
   ]
  },
  {
   "cell_type": "markdown",
   "metadata": {},
   "source": [
    "- **mpg:** Miles per Gallon (Meilen pro Gallone). Dies ist ein Maß für den Kraftstoffverbrauch eines Autos.\n",
    "\n",
    "- **cylinders:** Anzahl der Zylinder im Motor.\n",
    "\n",
    "- **displacement:** Hubraum des Motors. Der Hubraum ist ein Maß für das Arbeitsvolumen des Motors.\n",
    "\n",
    "- **horsepower:** Leistung des Motors in Pferdestärken. \n",
    "\n",
    "- **weight:** Gewicht des Autos. \n",
    "\n",
    "- **acceleration:** Beschleunigung des Autos. Die Beschleunigung gibt an, wie schnell ein Auto von 0 auf eine bestimmte Geschwindigkeit beschleunigt.\n",
    "\n",
    "- **model-year:** Baujahr des Autos."
   ]
  },
  {
   "cell_type": "markdown",
   "metadata": {},
   "source": [
    "Aufgabe 3.\n",
    "---\n",
    "\n",
    "Gibt euch eine Statischte zusammenfassung der Daten wieder:\n",
    "\n",
    "count / mean / std / min / 25% / 50% / 75% / max"
   ]
  },
  {
   "cell_type": "code",
   "execution_count": 3,
   "metadata": {},
   "outputs": [],
   "source": [
    "# Statischtische zusammenfassung:\n"
   ]
  },
  {
   "cell_type": "markdown",
   "metadata": {},
   "source": [
    "Aufgabe 4. \n",
    "---\n",
    "\n",
    "Erstellt ein Code wo ihr für jede Spalte die NaN values betrachtet könnt\n",
    "\n",
    "Hierbei empfehle ich eine Internet recherse oder ihr schaut in die anderen Skripte rein"
   ]
  },
  {
   "cell_type": "code",
   "execution_count": null,
   "metadata": {},
   "outputs": [],
   "source": [
    "# Überprüfe die NaN values:\n"
   ]
  },
  {
   "cell_type": "markdown",
   "metadata": {},
   "source": [
    "Aufgabe 5.\n",
    "---\n"
   ]
  },
  {
   "cell_type": "code",
   "execution_count": null,
   "metadata": {},
   "outputs": [],
   "source": [
    "df.query('horsepower.isnull()')"
   ]
  },
  {
   "cell_type": "markdown",
   "metadata": {},
   "source": [
    "Im folgenden Code seht ihr die Zeilen wo NaN Werte stehen.\n",
    "\n",
    "Entscheidet nun wie ihr am *SINNVOLLSTEN* eure Daten ersetzten wollt.\n",
    "*Seit bereit eure entscheidung zu begrüden.*"
   ]
  },
  {
   "cell_type": "code",
   "execution_count": 6,
   "metadata": {},
   "outputs": [],
   "source": [
    "# Ersetzte die NaN values\n"
   ]
  },
  {
   "cell_type": "markdown",
   "metadata": {},
   "source": [
    "Da wir bereits *Visualisierungen* besprochen haben werden wir diesen Teil abkürzen, indem wir ein `Pairplot` erstellen um ein groben überblick der Daten zu erhalten.\n",
    "\n",
    "Die Dokumentation für die Funktion `pairplot` findet ihr [hier](https://seaborn.pydata.org/generated/seaborn.pairplot.html)."
   ]
  },
  {
   "cell_type": "code",
   "execution_count": null,
   "metadata": {},
   "outputs": [],
   "source": [
    "sns.pairplot(df)\n",
    "plt.show()"
   ]
  },
  {
   "cell_type": "markdown",
   "metadata": {},
   "source": [
    "Aufgabe 7.\n",
    "---\n",
    "\n",
    "7.1 Erstellt ein Korrelations Matrix\n",
    "\n",
    "7.2 Visualsiert bitte die Korrelation Matrix mit der Funktion `heatmap` aus seabron.\n",
    "\n",
    "7.3 Speichert nur die Visualsierte Korrelations Matrix in der Variable `Corr_Vis =` \n",
    "\n",
    "\n",
    "Als nützliche Hilfestellung könnt ihr folgende Internetseite nutzen: \n",
    "\n",
    "https://medium.com/@szabo.bibor/how-to-create-a-seaborn-correlation-heatmap-in-python-834c0686b88e\n",
    "\n",
    "\n",
    "\n"
   ]
  },
  {
   "cell_type": "code",
   "execution_count": 8,
   "metadata": {},
   "outputs": [],
   "source": [
    "# Aufgabe 7.1\n",
    "\n",
    "\n",
    "\n",
    "\n",
    "# Aufgabe 7.2 und 7.3\n",
    "\n",
    "\n"
   ]
  },
  {
   "cell_type": "markdown",
   "metadata": {},
   "source": [
    "## Mutiple Lineare Regression:\n",
    "---\n",
    "\n",
    "Die folgende Regression werden wir aufbauen:\n",
    "\n",
    "-> *mpg = cylinders + displacement + horsepower + weight + acceleration + model-year*"
   ]
  },
  {
   "cell_type": "markdown",
   "metadata": {},
   "source": [
    "Aufgabe 7.\n",
    "---\n",
    "\n",
    "Erstelle zwei Variabeln\n",
    "1. Die erste Variable `(X)` soll die abhängigen Spalten beinhalten\n",
    "2. Die zweite Variable `(y)` soll die unabhängige Variable enthalten\n",
    "\n",
    "*Wie Ihr dies erreicht ist euch überlassen, Ihr könnte gerne das Internet zu hilfe nutzen.*\n"
   ]
  },
  {
   "cell_type": "code",
   "execution_count": 9,
   "metadata": {},
   "outputs": [],
   "source": [
    "X = \n",
    "y = "
   ]
  },
  {
   "cell_type": "markdown",
   "metadata": {},
   "source": [
    "Wir werden für die Mutiple aber auch Simple Lineare Regression das Package Statsmodels nutzen\n",
    "Die Dokumentation findet ihr hier: https://www.statsmodels.org/stable/regression.html\n",
    "\n",
    "In `Statsmodels` muss bevor die Regression durchgeführt wird ein Konstante hinzugefügt werden. \n",
    "\n",
    "Folgender Code führt dies aus."
   ]
  },
  {
   "cell_type": "code",
   "execution_count": null,
   "metadata": {},
   "outputs": [],
   "source": [
    "X = sm.add_constant(X)\n",
    "X.head()"
   ]
  },
  {
   "cell_type": "markdown",
   "metadata": {},
   "source": [
    "#### Um eine Regression aufzubauen haben wir zwei möglichkeiten:\n",
    "Die erste Möglichkeit ist durch nutzung der beiden Variabelen X und y die weiter oben definiert haben.\n",
    "\n",
    "### 1. Möglichkeit"
   ]
  },
  {
   "cell_type": "code",
   "execution_count": null,
   "metadata": {},
   "outputs": [],
   "source": [
    "model_stats = sm.OLS(y, X)\n",
    "model_stats = model_stats.fit()\n",
    "print(model_stats)"
   ]
  },
  {
   "cell_type": "markdown",
   "metadata": {},
   "source": [
    "### 2. Möglichkeit die mehr an R erinnert\n",
    "---"
   ]
  },
  {
   "cell_type": "code",
   "execution_count": null,
   "metadata": {},
   "outputs": [],
   "source": [
    "model_R = ols('mpg ~ cylinders + displacement + horsepower + weight + acceleration + model_year', \n",
    "                   data=df).fit()\n",
    "\n",
    "print(model_R.summary())\n"
   ]
  },
  {
   "cell_type": "markdown",
   "metadata": {},
   "source": [
    "### 8. Evaluierung des Models:\n",
    "---\n",
    "#### *8.1 Welche Metriken sind für euch Relevant und was sagen Sie aus ?*\n",
    "*Hier habt ihr Platz um kurz und prägnet die wichtigsten Metriken auszuwerten und eure Gedanken aufzuschreiben*\n",
    "\n",
    "Metriken:\n",
    "\n",
    "\n",
    "\n",
    "#### *8.2 Beantwortet bitte folgenden Fragen:*\n",
    "\n",
    "- *was stellt der Intercept dar?*\n",
    "- *was sagen die Slopes aus ?*\n",
    "- *und wie beeinflusst das die Ziel Variable \"mpg\"*\n",
    "\n",
    "#### 8.3 *Erstelle nun die Mathematische Formel*\n",
    "\n",
    "Ersetzte den Intercept und slope 1 - 6 mit nummerischen Werte aus den Regressions Ergebnis"
   ]
  },
  {
   "cell_type": "code",
   "execution_count": null,
   "metadata": {},
   "outputs": [],
   "source": [
    "formel = Intercept + slope_1 * \"cylinders\" + slope_2 * \"displacement\" + slope_3 * \"horsepower\" + slope_4 * \"weight\" + slope_5 * \"acceleration\" + slope_6 * \"model_year\"\n",
    "print(formel)"
   ]
  },
  {
   "cell_type": "markdown",
   "metadata": {},
   "source": [
    "#### Wir können ebenso die Formel per Funktion uns ausgeben indem wir die einzelen Parameter uns ausgeben"
   ]
  },
  {
   "cell_type": "code",
   "execution_count": 86,
   "metadata": {},
   "outputs": [],
   "source": [
    "Intercept = model_R.params[0]\n",
    "cylinders_slope = model_R.params[1]\n",
    "displacement_slope = model_R.params[2]\n",
    "horsepower_slope = model_R.params[3]\n",
    "weight_slope = model_R.params[4]\n",
    "acceleration_slope = model_R.params[5]\n",
    "model_year_slope = model_R.params[6]"
   ]
  },
  {
   "cell_type": "code",
   "execution_count": null,
   "metadata": {},
   "outputs": [],
   "source": [
    "# Regressionsformel als String formatieren\n",
    "formula = f'mpg = {Intercept:.3f} + {cylinders_slope:.3f} * cylinders + {displacement_slope:.3f} * displacement + {horsepower_slope:.3f} * horsepower+ {weight_slope:.3f} * weight + {acceleration_slope:.3f} * acceleration + {model_year_slope:.3f} * model_year'\n",
    "print(formula)"
   ]
  },
  {
   "cell_type": "markdown",
   "metadata": {},
   "source": [
    "Vohersagen treffen\n",
    "---"
   ]
  },
  {
   "cell_type": "code",
   "execution_count": null,
   "metadata": {},
   "outputs": [],
   "source": [
    "prediction = model_R.predict(X)\n",
    "\n",
    "# Die ersten 5 Vohersagen, um alle zu sehen entferne die [:5]\n",
    "prediction[:5]"
   ]
  },
  {
   "cell_type": "code",
   "execution_count": null,
   "metadata": {},
   "outputs": [],
   "source": [
    "# Scatterplot erstellen \n",
    "plt.figure(figsize=(17, 6))\n",
    "sns.regplot(x=prediction, y=y)  # s=80 macht die Punkte größer\n",
    "\n",
    "# Die Regressionsformel in die Grafik einfügen\n",
    "plt.text(x=min(prediction), y=max(y), s=formula, fontsize=12, color='darkgreen', ha='left')\n",
    "\n",
    "# Plot-Titel und Achsenbeschriftungen\n",
    "plt.title(\"Tatsächliche Werte vs Vorhergesagte Werte\", fontsize=16)\n",
    "plt.xlabel(\"Tatsächliche Werte\", fontsize=14)\n",
    "plt.ylabel(\"Vorhergesagte Werte\", fontsize=14)\n",
    "\n",
    "\n",
    "\n",
    "# Plot anzeigen und speichern\n",
    "plt.savefig(\"MLR_Output/Title_Actual_vs_Predicted_with_formula.png\", dpi=150)\n",
    "plt.show()\n"
   ]
  },
  {
   "cell_type": "code",
   "execution_count": null,
   "metadata": {},
   "outputs": [],
   "source": [
    "sns.scatterplot(x=X[\"weight\"], y=y, alpha=0.5)\n",
    "\n",
    "# Regressionslinie hinzufügen\n",
    "sns.lineplot(x=df[\"weight\"], y=prediction, color='red')\n",
    "\n",
    "plt.title(\"Tatsächliche Werte vs Vorhergesagte Werte (mit Regressionslinie)\")\n",
    "plt.xlabel(\"Gewicht (weight)\")\n",
    "plt.ylabel(\"Miles per Gallon (mpg)\")\n",
    "\n",
    "plt.savefig(\"MLR_Output/Tatsächliche Werte vs Vorhergesagte Werte.png\")\n",
    "plt.show()"
   ]
  },
  {
   "cell_type": "markdown",
   "metadata": {},
   "source": [
    "### Residuale berechnen\n",
    "---\n",
    "\n",
    "Resiudale sind die tatsächlichen Werte abzgl. die vorhersage Werte"
   ]
  },
  {
   "cell_type": "markdown",
   "metadata": {},
   "source": [
    "### Aufgabe 9. \n",
    "\n",
    "Berechnet die Residuale eingenständig:\n",
    "Nutz dafür Rechen Operatoren speichert die Ergebnis in der Variabel `resi =`\n"
   ]
  },
  {
   "cell_type": "code",
   "execution_count": null,
   "metadata": {},
   "outputs": [],
   "source": [
    "# Resiudale eingentständig berechnen\n",
    "\n",
    "resi = "
   ]
  },
  {
   "cell_type": "code",
   "execution_count": null,
   "metadata": {},
   "outputs": [],
   "source": [
    "residuals = model_R.resid\n",
    "residuals"
   ]
  },
  {
   "cell_type": "markdown",
   "metadata": {},
   "source": [
    "### Aufgabe 10.\n",
    "\n",
    "Visuallisiere die Residuale:\n",
    "\n",
    "1. Erstelle ein Scatterplot wo du die Vorhersage werte und die Residuale darstellt:"
   ]
  },
  {
   "cell_type": "code",
   "execution_count": null,
   "metadata": {},
   "outputs": [],
   "source": [
    "# Scatterplot der Vorhersagen gegen Residualen\n",
    "\n",
    "\n",
    "plt.title(\"Vorhersagen vs Residualen\")\n",
    "plt.axhline(y = 0, color = 'r', linestyle = '--') # fügt eine rote horziontale Linie hinzu\n",
    "plt.xlabel(\"Vorhersagen\")\n",
    "plt.ylabel(\"Residualen\")\n",
    "\n",
    "\n",
    "plt.savefig(\"MLR_Output/Title_Residuals_vs_Predictions.png\")\n",
    "plt.show()"
   ]
  },
  {
   "cell_type": "markdown",
   "metadata": {},
   "source": [
    "### Erstelle ein Histogramm mit den Resiudalen"
   ]
  },
  {
   "cell_type": "code",
   "execution_count": null,
   "metadata": {},
   "outputs": [],
   "source": [
    "\n",
    "plt.title(\"Histogramm der Residualen\")\n",
    "plt.xlabel(\"Residualen\")\n",
    "plt.ylabel(\"Anzahl\")\n",
    "\n",
    "\n",
    "plt.savefig(\"MLR_Output/Title_\")\n",
    "plt.show()"
   ]
  },
  {
   "cell_type": "markdown",
   "metadata": {},
   "source": [
    "### Aufgabe 11.\n",
    "Interpretieren den Histogramm und nimm stellung zu der Verteilung der Resiudale ? \n",
    "\n",
    "\n",
    "Stellungsnahme: Hier rein schreiben\n",
    "\n",
    "\n",
    "\n",
    "\n",
    "\n"
   ]
  },
  {
   "cell_type": "code",
   "execution_count": null,
   "metadata": {},
   "outputs": [],
   "source": [
    "fig = sm.qqplot(residuals, line='r')  # 'r' fügt die Referenzlinie hinzu\n",
    "plt.title(\"Q-Q Plot der Residuen\")\n",
    "plt.savefig(\"MLR_Output/Title_\")\n",
    "plt.show()"
   ]
  },
  {
   "cell_type": "markdown",
   "metadata": {},
   "source": [
    "## Multikollinearität\n",
    "---\n",
    "\n",
    "\n",
    "*Der Variance Inflation Factor (VIF)* ist ein Maß dafür, wie stark die Varianz einer geschätzten Regressionskoeffizienten erhöht wird, wenn mehrere unabhängige Variablen in einem Regressionsmodell verwendet werden. Ein hoher VIF-Wert deutet darauf hin, dass die betreffende Variable stark mit anderen unabhängigen Variablen korreliert ist, was auf ein Problem der Multikollinearität hinweisen kann.\n",
    "\n",
    "\n",
    "VIF-Werte:\n",
    "- VIF < 5: Geringe Multikollinearität. Es besteht kein ernsthaftes Problem.\n",
    "- 5 ≤ VIF < 10: Moderate Multikollinearität, die möglicherweise problematisch ist.\n",
    "- VIF ≥ 10: Hohe Multikollinearität, die sehr problematisch ist und die Genauigkeit der Schätzung beeinträchtigen kann."
   ]
  },
  {
   "cell_type": "code",
   "execution_count": null,
   "metadata": {},
   "outputs": [],
   "source": [
    "from statsmodels.stats.outliers_influence import variance_inflation_factor\n",
    "\n",
    "# VIF Berechnung nur für die Variablen in X\n",
    "vif_data = pd.DataFrame()\n",
    "vif_data[\"Feature\"] = X.columns\n",
    "\n",
    "# Berechne den VIF für jede unabhängige Variable\n",
    "vif_data[\"VIF\"] = [variance_inflation_factor(X.values, i) for i in range(X.shape[1])]\n",
    "\n",
    "vif_data\n"
   ]
  },
  {
   "cell_type": "markdown",
   "metadata": {},
   "source": [
    "Welche Code können wir nutzen um den VIF zu untermauern"
   ]
  },
  {
   "cell_type": "code",
   "execution_count": null,
   "metadata": {},
   "outputs": [],
   "source": [
    "#### Hier eure Vermutgen reinschreiben und Schreibe die passende bereits definierte Variable dafür "
   ]
  },
  {
   "cell_type": "code",
   "execution_count": null,
   "metadata": {},
   "outputs": [],
   "source": [
    "sns.regplot(x=X[\"displacement\"], y=y)"
   ]
  },
  {
   "cell_type": "markdown",
   "metadata": {},
   "source": [
    "### Analysis of variance (Anova)\n",
    "---\n",
    "\n",
    "Die ANOVA (Analysis of Variance) ist eine statistische Methode, die verwendet wird, um zu testen, ob es signifikante Unterschiede zwischen den Mittelwerten von drei oder mehr Gruppen gibt. Im Kontext einer linearen Regression (wie mit der Funktion anova_lm() von statsmodels) hilft sie uns zu verstehen, wie gut das Modell die Varianz in der abhängigen Variable erklärt."
   ]
  },
  {
   "cell_type": "code",
   "execution_count": null,
   "metadata": {},
   "outputs": [],
   "source": [
    "from statsmodels.stats.anova import anova_lm\n",
    "\n",
    "# ANOVA-Test durchführen\n",
    "anova_results = anova_lm(model_R) \n",
    "anova_results"
   ]
  },
  {
   "cell_type": "markdown",
   "metadata": {},
   "source": [
    "- *df:* Wie viele Freiheitsgrade (unabhängige Informationen) für jede Variable vorhanden sind.\n",
    "\n",
    "- *sum_sq:* Die Gesamtmenge der durch die Variable erklärten Variabilität (höher ist besser).\n",
    "\n",
    "- *mean_sq:* Die pro Freiheitsgrad erklärte Variabilität (höher ist besser).\n",
    "\n",
    "- *F:* Gibt die Signifikanz des Einflusses der Variablen an (höher bedeutet ein signifikanterer Einfluss).\n",
    "\n",
    "- *PR(>F):* Der p-Wert, der die statistische Signifikanz testet (kleiner p-Wert bedeutet signifikanter Einfluss).\n"
   ]
  },
  {
   "cell_type": "markdown",
   "metadata": {},
   "source": [
    "Homoskedastizität oder Heteroskedastizität ?\n",
    "---\n",
    "\n",
    "\n",
    "<img src=\"Pictures_for_Explanation/heteroskedastizität.jpg\" alt=\"heteroskedastizität\" width=\"600\"/>\n"
   ]
  },
  {
   "cell_type": "code",
   "execution_count": 98,
   "metadata": {},
   "outputs": [],
   "source": [
    "from statsmodels.stats.diagnostic import het_breuschpagan\n",
    "from statsmodels.stats.diagnostic import het_white"
   ]
  },
  {
   "cell_type": "markdown",
   "metadata": {},
   "source": [
    "Durchführung eines Breusch-Pagan-Test:\n",
    "---\n",
    "\n",
    "Der Breusch-Pagan-Test prüft die Nullhypothese von Homoskedastizität. Ein geringer p-Wert verwirft diese und nimmt die Alternativhypothese von Heteroskedastizität an.\n",
    "\n",
    "\n",
    "**Nullhypothese (H0):** Die Varianz der Residuen ist konstant (Homoskedastizität).\n",
    "\n",
    "**Alternativhypothese (H1):** Die Varianz der Residuen ist nicht konstant (Heteroskedastizität), wobei die Varianz möglicherweise eine Funktion der unabhängigen Variablen ist.\n",
    "\n",
    "Wenn der p-Wert klein ist (typischerweise < 0.05), lehnen wir die Nullhypothese der Homoskedastizität ab und schließen auf das Vorhandensein von Heteroskedastizität\n",
    "Ein größerer p-Wert (> 0.05) bedeutet, dass wir nicht genügend Beweise haben, um die Nullhypothese der Homoskedastizität abzulehnen\n",
    "\n",
    "*Unsere Daten Analyse:*\n",
    "In der Regel wird ein Wert < 10 als Heteroskedastizität angesehen\n",
    "\n",
    "In unseren fall haben wir Heteroskedastizität!"
   ]
  },
  {
   "cell_type": "code",
   "execution_count": null,
   "metadata": {},
   "outputs": [],
   "source": [
    "bp_test = het_breuschpagan(resid=residuals, exog_het=X)\n",
    "\n",
    "print(\"LM-Statistik (Lagrange-Multiplier-Wert)\", bp_test[0])\n",
    "print(\"pvalue\", bp_test[1])"
   ]
  },
  {
   "cell_type": "markdown",
   "metadata": {},
   "source": [
    "White-Test:\n",
    "---\n",
    "Definition: Die LM-Statistik des White-Tests prüft, ob die Varianz der Residuen konstant ist (Homoskedastizität) oder ob sie abhängig von den unabhängigen Variablen variiert (Heteroskedastizität). Dabei berücksichtigt der White-Test zusätzlich auch nicht-lineare Beziehungen und Wechselwirkungen zwischen den unabhängigen Variablen.\n",
    "\n",
    "Interpretation: \n",
    "- Eine höhere LM-Statistik zeigt eine größere Wahrscheinlichkeit an, dass Heteroskedastizität vorliegt.\n",
    "- P-Value geringer P wert deutet auf Heteroskedastizität\n",
    "\n",
    "\n",
    "- **Nullhypothese (H0):** Es liegt keine Heteroskedastizität vor (Homoskedastizität).\n",
    "\n",
    "- **Alternativhypothese (H1):** Es liegt Heteroskedastizität vor, und die Varianz der Residuen könnte nicht nur von den unabhängigen Variablen abhängen, sondern auch von ihren quadrierten Werten und Kreuzprodukten.\n",
    "\n",
    "-> Generell wird ein LM-Wert von 10 oder mehr als signifikante *Heteroskedastizität* angesehen. In usneren Fall ist der Wert von 89.5357 sehr hoch, was auf deutliche Hinweise für Heteroskedastizität hinweist.\n"
   ]
  },
  {
   "cell_type": "markdown",
   "metadata": {},
   "source": [
    "Durchführung eines White test"
   ]
  },
  {
   "cell_type": "code",
   "execution_count": null,
   "metadata": {},
   "outputs": [],
   "source": [
    "wtest = het_white(resid=residuals, exog = X)\n",
    "print(\"lm\", wtest[0], \"lm_pvalue\", wtest[1])"
   ]
  },
  {
   "cell_type": "markdown",
   "metadata": {},
   "source": [
    "**Vergleich mit dem Breusch-Pagan-Test:**\n",
    "Breusch-Pagan-Test: Testet nur auf lineare Abhängigkeiten zwischen den Residuen und den unabhängigen Variablen.\n",
    "\n",
    "\n",
    "**White-Test:** Erweitert den Test, indem er auch nicht-lineare Effekte (wie quadratische oder interaktive) zwischen den unabhängigen Variablen prüft. Dadurch ist der White-Test allgemeiner und kann auch komplexere Formen von Heteroskedastizität erkennen."
   ]
  },
  {
   "cell_type": "code",
   "execution_count": null,
   "metadata": {},
   "outputs": [],
   "source": []
  },
  {
   "cell_type": "code",
   "execution_count": null,
   "metadata": {},
   "outputs": [],
   "source": [
    "ols = sm.OLS(y, X).fit(cov_type=\"HC1\")\n",
    "print(ols.summary())"
   ]
  },
  {
   "cell_type": "markdown",
   "metadata": {},
   "source": []
  }
 ],
 "metadata": {
  "kernelspec": {
   "display_name": "venv",
   "language": "python",
   "name": "python3"
  },
  "language_info": {
   "codemirror_mode": {
    "name": "ipython",
    "version": 3
   },
   "file_extension": ".py",
   "mimetype": "text/x-python",
   "name": "python",
   "nbconvert_exporter": "python",
   "pygments_lexer": "ipython3",
   "version": "3.10.9"
  }
 },
 "nbformat": 4,
 "nbformat_minor": 2
}
