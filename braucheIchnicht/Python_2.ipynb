{
  "cells": [
    {
      "cell_type": "markdown",
      "metadata": {
        "id": "Q5ckYdU_zyHW"
      },
      "source": [
        "# Einführung\n",
        "\n",
        "## Über dieses Notebook\n",
        "In diesem Notebook zeige ich euch die **Grundlagen der Python-Programmierung** mit Schwerpunkt auf maschinellem Lernen. Ich stelle wichtige Bibliotheken wie **Numpy**, **Pandas**, **Scikit-learn** und **Matplotlib** vor und zeige euch, wie ihr diese für die Analyse und Modellierung von Daten verwenden könnt. Am Ende dieses Tutorials solltet ihr mit den Python-Grundlagen vertraut sein und diese Bibliotheken verwenden können, um einfache Modelle für maschinelles Lernen zu erstellen."
      ]
    },
    {
      "cell_type": "markdown",
      "metadata": {
        "id": "VDOmX9phz61S"
      },
      "source": [
        "----\n",
        "# Machine Learning\n",
        "Machine Learning ist ein Bereich der künstlichen Intelligenz, der es Computern ermöglicht, aus Daten zu lernen und Muster oder Zusammenhänge zu erkennen.\n",
        "\n",
        "Im kommenden Abschnitt werden wir das Thema anhand eines Beispiels näher beleuchten. Konkret werden wir eine einfache Klassifikation mit Hilfe einer logistischen Regression durchführen."
      ]
    },
    {
      "cell_type": "markdown",
      "metadata": {
        "id": "5Ci3B_waz-QN"
      },
      "source": [
        "## Einrichten der Umgebung\n",
        "In diesem Abschnitt erfährst du, wie du notwendige Python-Bibliotheken wie numpy, pandas, scikit-learn und matplotlib usw. installierst und erhältst eine kurze Erklärung zu den Funktionen jeder Bibliothek."
      ]
    },
    {
      "cell_type": "code",
      "execution_count": 12,
      "metadata": {
        "id": "qgILlk110HKE"
      },
      "outputs": [],
      "source": [
        "# Name der Bibliothek und Abküzung\n",
        "import numpy as np\n",
        "import pandas as pd\n",
        "import matplotlib.pyplot as plt\n",
        "import seaborn as sns\n",
        "\n",
        "# Hier werden nur bestimmte Funktion aus der Bibliothek sklearn importiert\n",
        "from sklearn.linear_model import LogisticRegression\n",
        "from sklearn.model_selection import train_test_split\n",
        "from sklearn.metrics import accuracy_score\n",
        "from sklearn.metrics import roc_auc_score\n",
        "\n",
        "# Hier wird der Download für den Datensatz vorbereitet\n",
        "file_id = '1uujka4TJygnHSrai5rDmao8z9SeP_PsE'\n",
        "download_link = f\"https://drive.google.com/uc?id={file_id}\""
      ]
    },
    {
      "cell_type": "code",
      "execution_count": null,
      "metadata": {},
      "outputs": [],
      "source": [
        "# Hier wird der Download für den Datensatz vorbereitet\n",
        "file_id = '1uujka4TJygnHSrai5rDmao8z9SeP_PsE'\n",
        "download_link = f\"https://drive.google.com/uc?id={file_id}\""
      ]
    },
    {
      "cell_type": "markdown",
      "metadata": {
        "id": "TIffGTTn0P8T"
      },
      "source": [
        "## Den Datensatz verstehen\n",
        "Hier geht es darum, einen geeigneten Datensatz auszuwählen, ihn mit pandas zu laden und die verschiedenen Merkmale und grundlegende Statistiken des Datensatzes zu verstehen."
      ]
    },
    {
      "cell_type": "code",
      "execution_count": 39,
      "metadata": {
        "id": "vl9DaOeM0Qhd"
      },
      "outputs": [],
      "source": [
        "# Einen Datensatz mit Pandas laden\n",
        "df = pd.read_csv(download_link)"
      ]
    },
    {
      "cell_type": "code",
      "execution_count": 40,
      "metadata": {
        "id": "qTWPRBab0W8R"
      },
      "outputs": [
        {
          "data": {
            "text/html": [
              "<div>\n",
              "<style scoped>\n",
              "    .dataframe tbody tr th:only-of-type {\n",
              "        vertical-align: middle;\n",
              "    }\n",
              "\n",
              "    .dataframe tbody tr th {\n",
              "        vertical-align: top;\n",
              "    }\n",
              "\n",
              "    .dataframe thead th {\n",
              "        text-align: right;\n",
              "    }\n",
              "</style>\n",
              "<table border=\"1\" class=\"dataframe\">\n",
              "  <thead>\n",
              "    <tr style=\"text-align: right;\">\n",
              "      <th></th>\n",
              "      <th>PassengerId</th>\n",
              "      <th>Survived</th>\n",
              "      <th>Pclass</th>\n",
              "      <th>Name</th>\n",
              "      <th>Sex</th>\n",
              "      <th>Age</th>\n",
              "      <th>SibSp</th>\n",
              "      <th>Parch</th>\n",
              "      <th>Ticket</th>\n",
              "      <th>Fare</th>\n",
              "      <th>Cabin</th>\n",
              "      <th>Embarked</th>\n",
              "    </tr>\n",
              "  </thead>\n",
              "  <tbody>\n",
              "    <tr>\n",
              "      <th>0</th>\n",
              "      <td>1</td>\n",
              "      <td>0</td>\n",
              "      <td>3</td>\n",
              "      <td>Braund, Mr. Owen Harris</td>\n",
              "      <td>male</td>\n",
              "      <td>22.0</td>\n",
              "      <td>1</td>\n",
              "      <td>0</td>\n",
              "      <td>A/5 21171</td>\n",
              "      <td>7.2500</td>\n",
              "      <td>NaN</td>\n",
              "      <td>S</td>\n",
              "    </tr>\n",
              "    <tr>\n",
              "      <th>1</th>\n",
              "      <td>2</td>\n",
              "      <td>1</td>\n",
              "      <td>1</td>\n",
              "      <td>Cumings, Mrs. John Bradley (Florence Briggs Th...</td>\n",
              "      <td>female</td>\n",
              "      <td>38.0</td>\n",
              "      <td>1</td>\n",
              "      <td>0</td>\n",
              "      <td>PC 17599</td>\n",
              "      <td>71.2833</td>\n",
              "      <td>C85</td>\n",
              "      <td>C</td>\n",
              "    </tr>\n",
              "    <tr>\n",
              "      <th>2</th>\n",
              "      <td>3</td>\n",
              "      <td>1</td>\n",
              "      <td>3</td>\n",
              "      <td>Heikkinen, Miss. Laina</td>\n",
              "      <td>female</td>\n",
              "      <td>26.0</td>\n",
              "      <td>0</td>\n",
              "      <td>0</td>\n",
              "      <td>STON/O2. 3101282</td>\n",
              "      <td>7.9250</td>\n",
              "      <td>NaN</td>\n",
              "      <td>S</td>\n",
              "    </tr>\n",
              "    <tr>\n",
              "      <th>3</th>\n",
              "      <td>4</td>\n",
              "      <td>1</td>\n",
              "      <td>1</td>\n",
              "      <td>Futrelle, Mrs. Jacques Heath (Lily May Peel)</td>\n",
              "      <td>female</td>\n",
              "      <td>35.0</td>\n",
              "      <td>1</td>\n",
              "      <td>0</td>\n",
              "      <td>113803</td>\n",
              "      <td>53.1000</td>\n",
              "      <td>C123</td>\n",
              "      <td>S</td>\n",
              "    </tr>\n",
              "    <tr>\n",
              "      <th>4</th>\n",
              "      <td>5</td>\n",
              "      <td>0</td>\n",
              "      <td>3</td>\n",
              "      <td>Allen, Mr. William Henry</td>\n",
              "      <td>male</td>\n",
              "      <td>35.0</td>\n",
              "      <td>0</td>\n",
              "      <td>0</td>\n",
              "      <td>373450</td>\n",
              "      <td>8.0500</td>\n",
              "      <td>NaN</td>\n",
              "      <td>S</td>\n",
              "    </tr>\n",
              "  </tbody>\n",
              "</table>\n",
              "</div>"
            ],
            "text/plain": [
              "   PassengerId  Survived  Pclass  \\\n",
              "0            1         0       3   \n",
              "1            2         1       1   \n",
              "2            3         1       3   \n",
              "3            4         1       1   \n",
              "4            5         0       3   \n",
              "\n",
              "                                                Name     Sex   Age  SibSp  \\\n",
              "0                            Braund, Mr. Owen Harris    male  22.0      1   \n",
              "1  Cumings, Mrs. John Bradley (Florence Briggs Th...  female  38.0      1   \n",
              "2                             Heikkinen, Miss. Laina  female  26.0      0   \n",
              "3       Futrelle, Mrs. Jacques Heath (Lily May Peel)  female  35.0      1   \n",
              "4                           Allen, Mr. William Henry    male  35.0      0   \n",
              "\n",
              "   Parch            Ticket     Fare Cabin Embarked  \n",
              "0      0         A/5 21171   7.2500   NaN        S  \n",
              "1      0          PC 17599  71.2833   C85        C  \n",
              "2      0  STON/O2. 3101282   7.9250   NaN        S  \n",
              "3      0            113803  53.1000  C123        S  \n",
              "4      0            373450   8.0500   NaN        S  "
            ]
          },
          "execution_count": 40,
          "metadata": {},
          "output_type": "execute_result"
        }
      ],
      "source": [
        "# Die ersten fünf Zeilen des Datensatzes anzeigen lassen\n",
        "df.head()"
      ]
    },
    {
      "cell_type": "code",
      "execution_count": 41,
      "metadata": {
        "id": "2i5kOAwl0fPv"
      },
      "outputs": [
        {
          "name": "stdout",
          "output_type": "stream",
          "text": [
            "<class 'pandas.core.frame.DataFrame'>\n",
            "RangeIndex: 891 entries, 0 to 890\n",
            "Data columns (total 12 columns):\n",
            " #   Column       Non-Null Count  Dtype  \n",
            "---  ------       --------------  -----  \n",
            " 0   PassengerId  891 non-null    int64  \n",
            " 1   Survived     891 non-null    int64  \n",
            " 2   Pclass       891 non-null    int64  \n",
            " 3   Name         891 non-null    object \n",
            " 4   Sex          891 non-null    object \n",
            " 5   Age          714 non-null    float64\n",
            " 6   SibSp        891 non-null    int64  \n",
            " 7   Parch        891 non-null    int64  \n",
            " 8   Ticket       891 non-null    object \n",
            " 9   Fare         891 non-null    float64\n",
            " 10  Cabin        204 non-null    object \n",
            " 11  Embarked     889 non-null    object \n",
            "dtypes: float64(2), int64(5), object(5)\n",
            "memory usage: 83.7+ KB\n"
          ]
        }
      ],
      "source": [
        "# Übersicht über den Datensatz und seine Eigenschaften anzeigen lassen\n",
        "df.info()"
      ]
    },
    {
      "cell_type": "markdown",
      "metadata": {
        "id": "_QsN4p6T0j9W"
      },
      "source": [
        "Diese Übersicht bietet wertvolle Informationen:\n",
        "*   Der Datensatz umfasst 891 Zeilen und 12 Spalten.\n",
        "*   Die Spalten [\"Name\", \"Sex\", \"Ticket\", \"Cabin\", \"Embarked\"] haben den Datentyp 'object', der später in einen numerischen Datentyp umgewandelt werden muss.\n",
        "*   In den Spalten [\"Age\", \"Cabin\", \"Embarked\"] sind Nullwerte vorhanden."
      ]
    },
    {
      "cell_type": "code",
      "execution_count": 42,
      "metadata": {
        "id": "s7Dc9jrLFr-C"
      },
      "outputs": [
        {
          "data": {
            "text/html": [
              "<div>\n",
              "<style scoped>\n",
              "    .dataframe tbody tr th:only-of-type {\n",
              "        vertical-align: middle;\n",
              "    }\n",
              "\n",
              "    .dataframe tbody tr th {\n",
              "        vertical-align: top;\n",
              "    }\n",
              "\n",
              "    .dataframe thead th {\n",
              "        text-align: right;\n",
              "    }\n",
              "</style>\n",
              "<table border=\"1\" class=\"dataframe\">\n",
              "  <thead>\n",
              "    <tr style=\"text-align: right;\">\n",
              "      <th></th>\n",
              "      <th>PassengerId</th>\n",
              "      <th>Survived</th>\n",
              "      <th>Pclass</th>\n",
              "      <th>Age</th>\n",
              "      <th>SibSp</th>\n",
              "      <th>Parch</th>\n",
              "      <th>Fare</th>\n",
              "    </tr>\n",
              "  </thead>\n",
              "  <tbody>\n",
              "    <tr>\n",
              "      <th>count</th>\n",
              "      <td>891.000000</td>\n",
              "      <td>891.000000</td>\n",
              "      <td>891.000000</td>\n",
              "      <td>714.000000</td>\n",
              "      <td>891.000000</td>\n",
              "      <td>891.000000</td>\n",
              "      <td>891.000000</td>\n",
              "    </tr>\n",
              "    <tr>\n",
              "      <th>mean</th>\n",
              "      <td>446.000000</td>\n",
              "      <td>0.383838</td>\n",
              "      <td>2.308642</td>\n",
              "      <td>29.699118</td>\n",
              "      <td>0.523008</td>\n",
              "      <td>0.381594</td>\n",
              "      <td>32.204208</td>\n",
              "    </tr>\n",
              "    <tr>\n",
              "      <th>std</th>\n",
              "      <td>257.353842</td>\n",
              "      <td>0.486592</td>\n",
              "      <td>0.836071</td>\n",
              "      <td>14.526497</td>\n",
              "      <td>1.102743</td>\n",
              "      <td>0.806057</td>\n",
              "      <td>49.693429</td>\n",
              "    </tr>\n",
              "    <tr>\n",
              "      <th>min</th>\n",
              "      <td>1.000000</td>\n",
              "      <td>0.000000</td>\n",
              "      <td>1.000000</td>\n",
              "      <td>0.420000</td>\n",
              "      <td>0.000000</td>\n",
              "      <td>0.000000</td>\n",
              "      <td>0.000000</td>\n",
              "    </tr>\n",
              "    <tr>\n",
              "      <th>25%</th>\n",
              "      <td>223.500000</td>\n",
              "      <td>0.000000</td>\n",
              "      <td>2.000000</td>\n",
              "      <td>20.125000</td>\n",
              "      <td>0.000000</td>\n",
              "      <td>0.000000</td>\n",
              "      <td>7.910400</td>\n",
              "    </tr>\n",
              "    <tr>\n",
              "      <th>50%</th>\n",
              "      <td>446.000000</td>\n",
              "      <td>0.000000</td>\n",
              "      <td>3.000000</td>\n",
              "      <td>28.000000</td>\n",
              "      <td>0.000000</td>\n",
              "      <td>0.000000</td>\n",
              "      <td>14.454200</td>\n",
              "    </tr>\n",
              "    <tr>\n",
              "      <th>75%</th>\n",
              "      <td>668.500000</td>\n",
              "      <td>1.000000</td>\n",
              "      <td>3.000000</td>\n",
              "      <td>38.000000</td>\n",
              "      <td>1.000000</td>\n",
              "      <td>0.000000</td>\n",
              "      <td>31.000000</td>\n",
              "    </tr>\n",
              "    <tr>\n",
              "      <th>max</th>\n",
              "      <td>891.000000</td>\n",
              "      <td>1.000000</td>\n",
              "      <td>3.000000</td>\n",
              "      <td>80.000000</td>\n",
              "      <td>8.000000</td>\n",
              "      <td>6.000000</td>\n",
              "      <td>512.329200</td>\n",
              "    </tr>\n",
              "  </tbody>\n",
              "</table>\n",
              "</div>"
            ],
            "text/plain": [
              "       PassengerId    Survived      Pclass         Age       SibSp  \\\n",
              "count   891.000000  891.000000  891.000000  714.000000  891.000000   \n",
              "mean    446.000000    0.383838    2.308642   29.699118    0.523008   \n",
              "std     257.353842    0.486592    0.836071   14.526497    1.102743   \n",
              "min       1.000000    0.000000    1.000000    0.420000    0.000000   \n",
              "25%     223.500000    0.000000    2.000000   20.125000    0.000000   \n",
              "50%     446.000000    0.000000    3.000000   28.000000    0.000000   \n",
              "75%     668.500000    1.000000    3.000000   38.000000    1.000000   \n",
              "max     891.000000    1.000000    3.000000   80.000000    8.000000   \n",
              "\n",
              "            Parch        Fare  \n",
              "count  891.000000  891.000000  \n",
              "mean     0.381594   32.204208  \n",
              "std      0.806057   49.693429  \n",
              "min      0.000000    0.000000  \n",
              "25%      0.000000    7.910400  \n",
              "50%      0.000000   14.454200  \n",
              "75%      0.000000   31.000000  \n",
              "max      6.000000  512.329200  "
            ]
          },
          "execution_count": 42,
          "metadata": {},
          "output_type": "execute_result"
        }
      ],
      "source": [
        "# Die Funktion describe() erzeugt eine statistische Zusammenfassung des DataFrames 'df'\n",
        "df.describe()"
      ]
    },
    {
      "cell_type": "markdown",
      "metadata": {
        "id": "BTOW3k7OGAnI"
      },
      "source": [
        "  - Der Datensatz enthält Informationen über 891 Passagiere.\n",
        "  - Etwa __38,38% der Passagiere in diesem Datensatz haben überlebt__, wie der Durchschnittswert von 0,3838 zeigt.\n",
        "  - Die __durchschnittliche Klasse (Pclass) der Passagiere liegt bei ungefähr 2,31__, was darauf hindeutet, dass die Mehrheit der Passagiere in der 2. und 3. Klasse waren.\n",
        "  - Das __durchschnittliche Alter der Passagiere beträgt ungefähr 29,7 Jahre__. Der jüngste Passagier ist etwa 0,42 Jahre alt (wahrscheinlich einige Monate alt) und der älteste 80 Jahre.\n",
        "  - Im Durchschnitt haben Passagiere __0,52 Geschwister oder Ehepartner__ bei sich. Die höchste beobachtete Anzahl liegt bei 8.\n",
        "  - Die __meisten Passagiere reisten ohne Eltern oder Kinder__ (durchschnittlicher Parch-Wert beträgt etwa 0,38). Einige hatten jedoch bis zu 6 Eltern oder Kinder bei sich.\n",
        "  - Der __durchschnittliche Fahrpreis für Passagiere beträgt etwa 32,20 USD__. Die Fahrpreise variieren stark, wobei 50% der Passagiere zwischen 7,91 und 31 USD zahlen. Der höchste beobachtete Fahrpreis beträgt 512,33 USD."
      ]
    },
    {
      "cell_type": "code",
      "execution_count": 43,
      "metadata": {
        "id": "nFezbiLAH5Yl"
      },
      "outputs": [
        {
          "name": "stdout",
          "output_type": "stream",
          "text": [
            "Unique Values:  ['S' 'C' 'Q' nan]\n",
            "Embarked\n",
            "S    644\n",
            "C    168\n",
            "Q     77\n",
            "Name: count, dtype: int64\n"
          ]
        }
      ],
      "source": [
        "# \"Unique Values\" einer bestimmten Spalte anzeigen lassen\n",
        "print(\"Unique Values: \", df['Embarked'].unique())\n",
        "print(df['Embarked'].value_counts()) # Ignoriert fehlende Werte"
      ]
    },
    {
      "cell_type": "markdown",
      "metadata": {
        "id": "IYXYZPrkIPbm"
      },
      "source": [
        "__Aufgabe:__ Finde heraus welche \"Unique Values\" die Spalte \"Pclass\" hat"
      ]
    },
    {
      "cell_type": "code",
      "execution_count": 44,
      "metadata": {
        "id": "Jj-DTGa5IO0o"
      },
      "outputs": [
        {
          "data": {
            "text/plain": [
              "PassengerId      0\n",
              "Survived         0\n",
              "Pclass           0\n",
              "Name             0\n",
              "Sex              0\n",
              "Age            177\n",
              "SibSp            0\n",
              "Parch            0\n",
              "Ticket           0\n",
              "Fare             0\n",
              "Cabin          687\n",
              "Embarked         2\n",
              "dtype: int64"
            ]
          },
          "execution_count": 44,
          "metadata": {},
          "output_type": "execute_result"
        }
      ],
      "source": []
    },
    {
      "cell_type": "markdown",
      "metadata": {
        "id": "VIofMm5F0rny"
      },
      "source": [
        "----\n",
        "## Exploratory Data Analysis (EDA)\n",
        "Die explorative Datenanalyse spielt eine entscheidende Rolle im maschinellen Lernen, da sie dabei hilft, ein tieferes Verständnis der Daten zu gewinnen. Dieser Prozess kann mithilfe von Bibliotheken wie pandas, matplotlib und seaborn durchgeführt werden, um verschiedene Visualisierungen wie Histogramme, Boxplots und Streudiagramme zu erstellen, die dabei helfen, Muster, Ausreißer und Beziehungen in den Daten zu identifizieren und zu interpretieren."
      ]
    },
    {
      "cell_type": "markdown",
      "metadata": {
        "id": "NcXjOnrK03pH"
      },
      "source": [
        "### Histogramm: Welcher Anteil hat überlebt?"
      ]
    },
    {
      "cell_type": "code",
      "execution_count": 18,
      "metadata": {
        "id": "kMb-k7B404Kb"
      },
      "outputs": [
        {
          "data": {
            "image/png": "[encoded data removed]",
            "text/plain": [
              "<Figure size 1000x500 with 1 Axes>"
            ]
          },
          "metadata": {},
          "output_type": "display_data"
        }
      ],
      "source": [
        "# Erstellen einer Abbildung\n",
        "plt.figure(figsize=(10, 5))\n",
        "# Ein Countplot (Balkendiagramm) auf dem Unterpunkt zeichnen\n",
        "sns.countplot(x='Survived', data=df)\n",
        "# Titel für den Unterpunkt festlegen\n",
        "plt.title('Überlebt')\n",
        "# Das Diagramm anzeigen\n",
        "plt.show()"
      ]
    },
    {
      "cell_type": "markdown",
      "metadata": {
        "id": "jfdJbOqObEGQ"
      },
      "source": [
        "**Aufgabe:** Erstelle ein ähnliches Histogram für die Variable \"Sex\""
      ]
    },
    {
      "cell_type": "code",
      "execution_count": null,
      "metadata": {
        "id": "vpio0sa_sZtp"
      },
      "outputs": [],
      "source": []
    },
    {
      "cell_type": "markdown",
      "metadata": {
        "id": "1dzq0uuaJUSU"
      },
      "source": [
        "### Histogramm: Für die Variablen Age und Fare, um zu wissen, wie die Verteilungen der Werte aussehen"
      ]
    },
    {
      "cell_type": "code",
      "execution_count": 38,
      "metadata": {
        "id": "DceXeIfilmhn"
      },
      "outputs": [
        {
          "data": {
            "image/png": "[encoded data removed]",
            "text/plain": [
              "<Figure size 1000x500 with 1 Axes>"
            ]
          },
          "metadata": {},
          "output_type": "display_data"
        }
      ],
      "source": [
        "# Percentiles berechnen\n",
        "q25_age = np.percentile(df.Age, 25)\n",
        "q50_age = np.percentile(df.Age, 50)\n",
        "q75_age = np.percentile(df.Age, 75)\n",
        "\n",
        "# Verteilung plotten\n",
        "plt.figure(figsize=(10, 5))\n",
        "sns.histplot(df.Age, kde=True, bins=30)\n",
        "\n",
        "# Vertikale Linien für Perzentile hinzufügen\n",
        "plt.axvline(x=q25_age, color='red', linestyle='--', label='25. Perzentil')\n",
        "plt.axvline(x=q50_age, color='green', linestyle='--', label='50. Perzentile (median)')\n",
        "plt.axvline(x=q75_age, color='blue', linestyle='--', label='75. Perzentile')\n",
        "\n",
        "plt.legend()\n",
        "plt.grid()\n",
        "plt.title('Verteilung der Variable \"Age\" mit Perzentilen')\n",
        "plt.show()"
      ]
    },
    {
      "cell_type": "markdown",
      "metadata": {
        "id": "IeuQb_ZzsXnY"
      },
      "source": [
        "**Aufgabe:** Erstelle ein ähnliches Histogram für die Variable \"Fare\""
      ]
    },
    {
      "cell_type": "code",
      "execution_count": null,
      "metadata": {
        "id": "iDae9xKPsYpN"
      },
      "outputs": [],
      "source": []
    },
    {
      "cell_type": "markdown",
      "metadata": {
        "id": "wu7oJdsFtb9h"
      },
      "source": [
        "Die Variable 'Fare' hat einen Ausreißer, den wir entfernen sollten\n"
      ]
    },
    {
      "cell_type": "code",
      "execution_count": 20,
      "metadata": {
        "id": "EGSCZMAPuImK"
      },
      "outputs": [],
      "source": [
        "# Finde den maximalen Wert in der Spalte 'Fare'\n",
        "max_fare = df['Fare'].max()\n",
        "\n",
        "# Entferne Zeilen, in denen 'Fare' diesen maximalen Wert hat\n",
        "df = df[df['Fare'] != max_fare]"
      ]
    },
    {
      "cell_type": "markdown",
      "metadata": {
        "id": "XP6i-cll077w"
      },
      "source": [
        "### Korrelation: Wie groß ist der Zusammenhang zwischen den Variablen im Datensatz"
      ]
    },
    {
      "cell_type": "code",
      "execution_count": 21,
      "metadata": {
        "id": "Tds3LV0E09Xt"
      },
      "outputs": [
        {
          "data": {
            "image/png": "[encoded data removed]",
            "text/plain": [
              "<Figure size 800x600 with 2 Axes>"
            ]
          },
          "metadata": {},
          "output_type": "display_data"
        }
      ],
      "source": [
        "# Heatmap erstellen\n",
        "sns.heatmap(df.corr(numeric_only=True), annot=True, cmap='coolwarm')\n",
        "fig=plt.gcf()\n",
        "fig.set_size_inches(8,6)\n",
        "plt.show()"
      ]
    },
    {
      "cell_type": "markdown",
      "metadata": {
        "id": "l3J_pxZn1Dc0"
      },
      "source": [
        "**Aufgabe:** Prüfe, ob starke Korrelationen zwischen den Variablen vorliegen (nahe an 1 oder -1)"
      ]
    },
    {
      "cell_type": "markdown",
      "metadata": {
        "id": "IAkk7OPU1IfQ"
      },
      "source": [
        "----\n",
        "## Datenbereinigung\n",
        "In diesem Abschnitt kümmern wir uns um die Nullwerte und werden alle Spalten mit dem Datentyp 'object' in einen numerischen Datentyp umwandeln."
      ]
    },
    {
      "cell_type": "markdown",
      "metadata": {
        "id": "Qp2lMcXB1VeT"
      },
      "source": [
        "### Mit Nullwerten umgehen"
      ]
    },
    {
      "cell_type": "code",
      "execution_count": 22,
      "metadata": {
        "id": "lkZock68cK3I"
      },
      "outputs": [
        {
          "name": "stdout",
          "output_type": "stream",
          "text": [
            "<class 'pandas.core.frame.DataFrame'>\n",
            "Index: 888 entries, 0 to 890\n",
            "Data columns (total 12 columns):\n",
            " #   Column       Non-Null Count  Dtype  \n",
            "---  ------       --------------  -----  \n",
            " 0   PassengerId  888 non-null    int64  \n",
            " 1   Survived     888 non-null    int64  \n",
            " 2   Pclass       888 non-null    int64  \n",
            " 3   Name         888 non-null    object \n",
            " 4   Sex          888 non-null    object \n",
            " 5   Age          711 non-null    float64\n",
            " 6   SibSp        888 non-null    int64  \n",
            " 7   Parch        888 non-null    int64  \n",
            " 8   Ticket       888 non-null    object \n",
            " 9   Fare         888 non-null    float64\n",
            " 10  Cabin        202 non-null    object \n",
            " 11  Embarked     886 non-null    object \n",
            "dtypes: float64(2), int64(5), object(5)\n",
            "memory usage: 90.2+ KB\n"
          ]
        }
      ],
      "source": [
        "# Wiederholung: In welchen Spalten waren Nullwerte?\n",
        "df.info()"
      ]
    },
    {
      "cell_type": "markdown",
      "metadata": {
        "id": "6g_9LtuNcens"
      },
      "source": [
        "- Age: 177 Nullwerte\n",
        "- Cabin: 687 Nullwerte\n",
        "- Embarked: 2 Nullwerte"
      ]
    },
    {
      "cell_type": "code",
      "execution_count": 23,
      "metadata": {
        "id": "gLgu8H6EeWvq"
      },
      "outputs": [],
      "source": [
        "# Da in der Spalte 'Cabin' viele Werte fehlen, werden wir die gesamte Spalte aus dem Datensatz entfernen\n",
        "df.drop('Cabin', axis=1, inplace=True) # (axis=1 entfernt Spalten)"
      ]
    },
    {
      "cell_type": "code",
      "execution_count": 24,
      "metadata": {
        "id": "TWU95kEBeeWa"
      },
      "outputs": [],
      "source": [
        "# Entferne alle Zeilen, mit einem Nullwert in der Spalte 'Age'\n",
        "df.dropna(subset=['Age'], axis=0, inplace=True) # (axis=0 entfernt Zeilen)"
      ]
    },
    {
      "cell_type": "markdown",
      "metadata": {
        "id": "_RSNdUW4foG3"
      },
      "source": [
        "**Aufgabe:** Entferne alle Zeilen, mit einem Nullwert in der Spalte 'Embarked'"
      ]
    },
    {
      "cell_type": "code",
      "execution_count": null,
      "metadata": {
        "id": "77DFpca7C7Ks"
      },
      "outputs": [],
      "source": []
    },
    {
      "cell_type": "markdown",
      "metadata": {
        "id": "snxDRMrr1hts"
      },
      "source": [
        "### Feature Engineering\n",
        "Feature Engineering ist ein Prozess im Machine Learning, bei dem aus vorhandenen Daten neue relevante Merkmale oder Attribute extrahiert werden. Beispielsweise kann es sinnvoll sein, die Werte des Attributs 'Alter' zu modifizieren. Kontinuierliche Werte wie beim 'Alter' können bei der Modellierung Herausforderungen darstellen. Deshalb könnte ein neues Attribut erstellt werden, das das Alter in verschiedene Altersgruppen einteilt."
      ]
    },
    {
      "cell_type": "code",
      "execution_count": 25,
      "metadata": {
        "id": "ADdwVh-K1n6w"
      },
      "outputs": [],
      "source": [
        "# Erstelle neues Attribut mit Altergruppen\n",
        "df['Age_group'] = 0\n",
        "df.loc[df['Age'] <= q25_age, 'Age_group'] = 0\n",
        "df.loc[(df['Age'] > q25_age) & (df['Age'] <= q50_age), 'Age_group'] = 1\n",
        "df.loc[(df['Age'] > q50_age) & (df['Age'] <= q75_age), 'Age_group'] = 2\n",
        "df.loc[df['Age'] > q75_age, 'Age_group'] = 3"
      ]
    },
    {
      "cell_type": "markdown",
      "metadata": {
        "id": "0J7Umvspgx1C"
      },
      "source": [
        "**Aufgabe:** Erstelle ein neues Attribut, in welchem die Werte aus 'Fare' kategorisch umgewandelt werden. Verwende dafür die berechneten Percentile aus der EDA (q25_fare, q50_fare und q75_fare). Entferne anschließend die Attribute 'Age' und 'Fare'."
      ]
    },
    {
      "cell_type": "code",
      "execution_count": null,
      "metadata": {
        "id": "FLILR-0KC8_x"
      },
      "outputs": [],
      "source": []
    },
    {
      "cell_type": "markdown",
      "metadata": {
        "id": "RW-VYnjW14xf"
      },
      "source": [
        "### Strings in numerische Werte umwandeln\n",
        "In Machine-Learning-Projekten ist es oft erforderlich, Strings in numerische Werte umzuwandeln, da viele Algorithmen nur mit numerischen Werten arbeiten können."
      ]
    },
    {
      "cell_type": "code",
      "execution_count": 26,
      "metadata": {
        "id": "NzCPA09K2AoK"
      },
      "outputs": [
        {
          "name": "stderr",
          "output_type": "stream",
          "text": [
            "/var/folders/13/3pzxxwtd6cbdvdzq_lc6112r0000gn/T/ipykernel_60675/22350698.py:1: FutureWarning: A value is trying to be set on a copy of a DataFrame or Series through chained assignment using an inplace method.\n",
            "The behavior will change in pandas 3.0. This inplace method will never work because the intermediate object on which we are setting values always behaves as a copy.\n",
            "\n",
            "For example, when doing 'df[col].method(value, inplace=True)', try using 'df.method({col: value}, inplace=True)' or df[col] = df[col].method(value) instead, to perform the operation inplace on the original object.\n",
            "\n",
            "\n",
            "  df['Sex'].replace(['male','female'], [0, 1], inplace=True)\n",
            "/var/folders/13/3pzxxwtd6cbdvdzq_lc6112r0000gn/T/ipykernel_60675/22350698.py:1: FutureWarning: Downcasting behavior in `replace` is deprecated and will be removed in a future version. To retain the old behavior, explicitly call `result.infer_objects(copy=False)`. To opt-in to the future behavior, set `pd.set_option('future.no_silent_downcasting', True)`\n",
            "  df['Sex'].replace(['male','female'], [0, 1], inplace=True)\n"
          ]
        }
      ],
      "source": [
        "df['Sex'].replace(['male','female'], [0, 1], inplace=True)"
      ]
    },
    {
      "cell_type": "markdown",
      "metadata": {
        "id": "7mf9ru8WgI-i"
      },
      "source": [
        "**Aufgabe:** Konvertiere die Werte der Spalte 'Embarked' in numerische Werte."
      ]
    },
    {
      "cell_type": "code",
      "execution_count": null,
      "metadata": {
        "id": "u4l2q7mnC-m2"
      },
      "outputs": [],
      "source": []
    },
    {
      "cell_type": "markdown",
      "metadata": {
        "id": "N29HHFuj2cJV"
      },
      "source": [
        "### Weitere unwichtigen Attribute entfernen"
      ]
    },
    {
      "cell_type": "markdown",
      "metadata": {
        "id": "IKiLLbd-g8nr"
      },
      "source": [
        "**Aufgabe:** Die Attribute 'Name', 'Ticket' und 'PassengerId' erscheinen irrelevant. Bitte entferne diese."
      ]
    },
    {
      "cell_type": "code",
      "execution_count": null,
      "metadata": {
        "id": "e9lqWUuJDBlw"
      },
      "outputs": [],
      "source": []
    },
    {
      "cell_type": "markdown",
      "metadata": {
        "id": "czwwbH01Zz0p"
      },
      "source": [
        "----\n",
        "## Predictive Modeling\n",
        "In diesem Abschnitt konzentrieren wir uns auf das prädiktive Modellieren. Dabei verwenden wir unser DataFrame 'df', um unsere Feature-Variablen 'X' und die Zielvariable 'y' zu erstellen, wobei 'y' die zu prognostizierende Spalte 'Sex' darstellt. Nachdem wir unsere Daten in Trainings- und Testsets unterteilt haben, trainieren wir ein LogisticRegression-Modell und evaluieren dessen Leistung anhand von Accuracy (Genauigkeit) und ROC AUC (Area under the curve)."
      ]
    },
    {
      "cell_type": "code",
      "execution_count": 58,
      "metadata": {
        "id": "t969vehWbG-0"
      },
      "outputs": [],
      "source": [
        "# Hier wird die Spalte 'Sex' aus dem DataFrame 'df' entfernt und der resultierende DataFrame in 'X' gespeichert.\n",
        "# 'X' enthält somit alle Feature-Variablen, die für die Vorhersage verwendet werden sollen.\n",
        "X = df.drop(df[[\"Sex\",\"Name\", \"Ticket\",\"Cabin\",\"Embarked\"]], axis=1)\n",
        "\n",
        "# 'y' wird als die Zielvariable definiert und enthält die Werte der Spalte 'Sex' aus 'df'.\n",
        "# Dies ist die Variable, die wir mit unserem Modell vorhersagen möchten.\n",
        "y = df['Sex']"
      ]
    },
    {
      "cell_type": "code",
      "execution_count": 59,
      "metadata": {},
      "outputs": [
        {
          "data": {
            "text/html": [
              "<div>\n",
              "<style scoped>\n",
              "    .dataframe tbody tr th:only-of-type {\n",
              "        vertical-align: middle;\n",
              "    }\n",
              "\n",
              "    .dataframe tbody tr th {\n",
              "        vertical-align: top;\n",
              "    }\n",
              "\n",
              "    .dataframe thead th {\n",
              "        text-align: right;\n",
              "    }\n",
              "</style>\n",
              "<table border=\"1\" class=\"dataframe\">\n",
              "  <thead>\n",
              "    <tr style=\"text-align: right;\">\n",
              "      <th></th>\n",
              "      <th>PassengerId</th>\n",
              "      <th>Survived</th>\n",
              "      <th>Pclass</th>\n",
              "      <th>Age</th>\n",
              "      <th>SibSp</th>\n",
              "      <th>Parch</th>\n",
              "      <th>Fare</th>\n",
              "    </tr>\n",
              "  </thead>\n",
              "  <tbody>\n",
              "    <tr>\n",
              "      <th>0</th>\n",
              "      <td>1</td>\n",
              "      <td>0</td>\n",
              "      <td>3</td>\n",
              "      <td>22.0</td>\n",
              "      <td>1</td>\n",
              "      <td>0</td>\n",
              "      <td>7.2500</td>\n",
              "    </tr>\n",
              "    <tr>\n",
              "      <th>1</th>\n",
              "      <td>2</td>\n",
              "      <td>1</td>\n",
              "      <td>1</td>\n",
              "      <td>38.0</td>\n",
              "      <td>1</td>\n",
              "      <td>0</td>\n",
              "      <td>71.2833</td>\n",
              "    </tr>\n",
              "    <tr>\n",
              "      <th>2</th>\n",
              "      <td>3</td>\n",
              "      <td>1</td>\n",
              "      <td>3</td>\n",
              "      <td>26.0</td>\n",
              "      <td>0</td>\n",
              "      <td>0</td>\n",
              "      <td>7.9250</td>\n",
              "    </tr>\n",
              "    <tr>\n",
              "      <th>3</th>\n",
              "      <td>4</td>\n",
              "      <td>1</td>\n",
              "      <td>1</td>\n",
              "      <td>35.0</td>\n",
              "      <td>1</td>\n",
              "      <td>0</td>\n",
              "      <td>53.1000</td>\n",
              "    </tr>\n",
              "    <tr>\n",
              "      <th>4</th>\n",
              "      <td>5</td>\n",
              "      <td>0</td>\n",
              "      <td>3</td>\n",
              "      <td>35.0</td>\n",
              "      <td>0</td>\n",
              "      <td>0</td>\n",
              "      <td>8.0500</td>\n",
              "    </tr>\n",
              "  </tbody>\n",
              "</table>\n",
              "</div>"
            ],
            "text/plain": [
              "   PassengerId  Survived  Pclass   Age  SibSp  Parch     Fare\n",
              "0            1         0       3  22.0      1      0   7.2500\n",
              "1            2         1       1  38.0      1      0  71.2833\n",
              "2            3         1       3  26.0      0      0   7.9250\n",
              "3            4         1       1  35.0      1      0  53.1000\n",
              "4            5         0       3  35.0      0      0   8.0500"
            ]
          },
          "execution_count": 59,
          "metadata": {},
          "output_type": "execute_result"
        }
      ],
      "source": [
        "X.head()"
      ]
    },
    {
      "cell_type": "code",
      "execution_count": 60,
      "metadata": {
        "id": "kEZ-uzF8bc_O"
      },
      "outputs": [],
      "source": [
        "# Mit Hilfe der 'train_test_split'-Funktion wird der Datensatz in Trainings- und Testdaten unterteilt.\n",
        "# 'random_state=42' stellt sicher, dass die Aufteilung reproduzierbar ist (seed).\n",
        "# 'stratify=y' sorgt dafür, dass die Aufteilung der Daten in Training und Test die gleiche Verteilung der Zielvariable 'Survived' beibehält.\n",
        "xtrain, xtest, ytrain, ytest = train_test_split(X, y, random_state=42, stratify=y)"
      ]
    },
    {
      "cell_type": "code",
      "execution_count": null,
      "metadata": {
        "id": "sTZhEPiqbvjO"
      },
      "outputs": [],
      "source": [
        "# Hier wird ein Modell mit der Klasse LogisticRegression erstellt.\n",
        "# Die Funktion .fit() sorgt dann dafür, dass unser Modell trainiert wird.\n",
        "model = LogisticRegression()\n",
        "model.fit(xtrain, ytrain)"
      ]
    },
    {
      "cell_type": "code",
      "execution_count": null,
      "metadata": {
        "id": "M4HCQv4De3Vt"
      },
      "outputs": [],
      "source": [
        "# Die Genauigkeit (Accuracy) / ROC AUC des Modells auf dem Testdatensatz wird berechnet und ausgegeben.\n",
        "print('Accuracy: ', accuracy_score(model.predict(xtest), ytest))\n",
        "print('ROC AUC: ', roc_auc_score(ytest, model.predict_proba(xtest)[:, 1]))"
      ]
    },
    {
      "cell_type": "markdown",
      "metadata": {
        "id": "0SnAONE7kaYx"
      },
      "source": [
        "**Aufgabe:** Wiederhole den Teil 'Predictive Modeling' mit dem Attribut 'Survived' als Zielvariable (y)"
      ]
    }
  ],
  "metadata": {
    "colab": {
      "provenance": []
    },
    "kernelspec": {
      "display_name": "Python 3",
      "name": "python3"
    },
    "language_info": {
      "codemirror_mode": {
        "name": "ipython",
        "version": 3
      },
      "file_extension": ".py",
      "mimetype": "text/x-python",
      "name": "python",
      "nbconvert_exporter": "python",
      "pygments_lexer": "ipython3",
      "version": "3.10.9"
    }
  },
  "nbformat": 4,
  "nbformat_minor": 0
}
