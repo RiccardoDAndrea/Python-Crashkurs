{
 "cells": [
  {
   "cell_type": "markdown",
   "metadata": {},
   "source": [
    "# 1. Empirisches Projekt\n",
    "---\n",
    "### **Skript zu Daten Manipulation, Visulallisierung und zur Regressions Analyse**\n",
    "\n",
    "Dieses Sktipt soll euch helfen eine Datenanalyse sowie eine `Logitische Regression` aufzubauen.\n",
    "-> Falls ihr fragen habt bitte sagt mir bescheid ich helfe gerne aus!\n",
    "\n",
    "> E-Mail: riccardo.dandrea@live.de\n",
    "> Ihr könnte gerne eine Mail schreiben wo wir uns Per zoom treffen können, falls ihr schwierigkeiten habt bei der Programmierung:\n",
    "> BITTE schreibt in der MAIL:\n",
    "> - Was habt ihr vor ?\n",
    "> - Wo liegt das Problem mit Code und Fehlermeldung\n",
    "> - und wann ihr euch Per zoom treffen wollt Tag und Uhrzeit.\n",
    "\n",
    "\n",
    "Für die Datenanalyse kann als unterstützung der Leitfaden \"Leitfaden.ipynbn\" als unterstützung genutzt werden.\n",
    "Ab Punkt 2. wird erklärt wie Libaries installiert werden und wie die Daten eingelesen werden können. Sowie weitere Schritte zur Datenanalyse."
   ]
  },
  {
   "cell_type": "code",
   "execution_count": null,
   "metadata": {},
   "outputs": [],
   "source": [
    "file_id = '1uujka4TJygnHSrai5rDmao8z9SeP_PsE'\n",
    "download_link = f\"https://drive.google.com/uc?id={file_id}\""
   ]
  },
  {
   "cell_type": "code",
   "execution_count": null,
   "metadata": {},
   "outputs": [],
   "source": []
  },
  {
   "cell_type": "code",
   "execution_count": null,
   "metadata": {},
   "outputs": [],
   "source": []
  },
  {
   "cell_type": "code",
   "execution_count": null,
   "metadata": {},
   "outputs": [],
   "source": []
  },
  {
   "cell_type": "code",
   "execution_count": null,
   "metadata": {},
   "outputs": [],
   "source": []
  }
 ],
 "metadata": {
  "language_info": {
   "name": "python"
  }
 },
 "nbformat": 4,
 "nbformat_minor": 2
}
