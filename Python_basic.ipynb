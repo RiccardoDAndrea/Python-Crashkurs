{
 "cells": [
  {
   "cell_type": "markdown",
   "metadata": {},
   "source": [
    "# 1. Einführung in Python Basic Syntax.\n",
    "---\n",
    "Im Folgenden werden die Grundlagen der Python-Syntax erläutert.\n",
    "Dabei werden wir uns auf den Leitfaden beziehen und darauf die Fragen aufbauen."
   ]
  },
  {
   "cell_type": "markdown",
   "metadata": {},
   "source": [
    "## 1.1 Variablen\n",
    "Die erste Aufgabe besteht darin, Variablen zu definieren, die die folgenden Informationen enthalten:\n"
   ]
  },
  {
   "cell_type": "code",
   "execution_count": 44,
   "metadata": {},
   "outputs": [],
   "source": [
    "first_name = \"Hier ein Name einfügen\"\n",
    "last_name = \"Hier ein Nachname einfügen\""
   ]
  },
  {
   "cell_type": "code",
   "execution_count": null,
   "metadata": {},
   "outputs": [],
   "source": [
    "print(\"Hallo, mein Name ist\", first_name, last_name)"
   ]
  },
  {
   "cell_type": "markdown",
   "metadata": {},
   "source": [
    "*Erwarterter Output:*\n",
    "\n",
    "<span style=\"color:lightgray\"> **Hallo, mein Name ist Max Musterman** </span>"
   ]
  },
  {
   "cell_type": "markdown",
   "metadata": {},
   "source": [
    "## 1.2 Definere nun dein Alter in der Varaible `alter`"
   ]
  },
  {
   "cell_type": "code",
   "execution_count": null,
   "metadata": {},
   "outputs": [],
   "source": [
    "alter = \n",
    "\n",
    "print(\"Mein Name ist\" , first_name, last_name, \"und ich bin\", alter, \"Jahre alt\")"
   ]
  },
  {
   "cell_type": "markdown",
   "metadata": {},
   "source": [
    "*Erwarterter Output:*\n",
    "\n",
    "<span style=\"color:lightgray\"> Mein Name ist Max Mustermann und ich bin 20 Jahre alt </span>"
   ]
  },
  {
   "cell_type": "markdown",
   "metadata": {},
   "source": [
    "## 1.3 Kommentare\n",
    "\n",
    "Ersetzte den Kommentar nach den `#` und trage dein Wert der in der Variable gespeichert ist"
   ]
  },
  {
   "cell_type": "code",
   "execution_count": null,
   "metadata": {},
   "outputs": [],
   "source": [
    "print(first_name)  # was ist in der Variable first_name gespeichert? \n",
    "print(last_name)   # was ist in der Variable last_name gespeichert?\n",
    "print(alter)       # was ist in der Variable alter gespeichert?"
   ]
  },
  {
   "cell_type": "markdown",
   "metadata": {},
   "source": [
    "*Erwarterter Output:*\n",
    "\n",
    "\n",
    "<span style=\"color:lightgray\">**Max           # Max** </span>\n",
    "\n",
    "<span style=\"color:lightgray\">**Mustermann   # Musterman** </span>\n",
    "\n",
    "<span style=\"color:lightgray\">**20           # 20** </span>"
   ]
  },
  {
   "cell_type": "markdown",
   "metadata": {},
   "source": [
    "### 1.4 Datentypen\n",
    "Definiere im folgeden die Datentypen \n",
    "1. `Integer` , \n",
    "2. `Float`, \n",
    "3. `String`, \n",
    "4. `Boolean` \n",
    "\n",
    "in einer ***Variable***.\n",
    "Und **unter** der Variable eine kurze erklärung was der jeweilige Datentyp ist woran erkennst du Sie"
   ]
  },
  {
   "cell_type": "code",
   "execution_count": 5,
   "metadata": {},
   "outputs": [],
   "source": [
    "# int:\n",
    "\n",
    "\n",
    "# Erklärung: \n",
    "\n",
    "\n",
    "#-----------\n",
    "\n",
    "# float:\n",
    "\n",
    "\n",
    "# Erklärung:\n",
    "\n",
    "\n",
    "#-----------\n",
    "# str: \n",
    "\n",
    "\n",
    "# Erklärung:\n",
    "\n",
    "\n",
    "#-----------\n",
    "# bool:\n",
    "\n",
    "\n",
    "# Erklärung:\n",
    "\n",
    "\n",
    "#-----------"
   ]
  },
  {
   "cell_type": "markdown",
   "metadata": {},
   "source": [
    "## 1.5 Rechen Operationen:\n",
    "Führe folgende Mathematische Operation durch speicher das Ergebnis bitte immer in einer neuen Variable:\n",
    "\n",
    "*Auf dein Sparkonte sind 1.000 €, auf dein Depot sind weitere 10.000 €. Du schuldest ein Freund 200 €.\n",
    "Führe mit den gegeben Information Rechen operation durch.*\n",
    "\n",
    "1. **Addition:** Berechne dein Gesamtvermögen, indem du dein Sparkonto und dein Depot zusammenzählst. \n",
    "\n",
    "2. **Subtraktion:** Berechne dein Nettovermögen (Gesamtvermögen abzgl. Schulden), indem du deine Schulden von deinem Gesamtvermögen abziehst.\n",
    "\n",
    "3. **Multiplikation:** Berechne, wie viel Prozent deiner Schulden dein Gesamtvermögen ausmachen. Dazu multiplizierst du den Anteil deiner Schulden am Gesamtvermögen mit 100.\n",
    "\n",
    "4. **Division:**\n",
    "Du hast 1.000 € auf deinem Sparkonto und möchtest das Geld gleichmäßig auf 4 Monate verteilen. Wie viel Geld kannst du jeden Monat ausgeben?\n",
    "\n"
   ]
  },
  {
   "cell_type": "code",
   "execution_count": 6,
   "metadata": {},
   "outputs": [],
   "source": [
    "Sparkonto = 1_000\n",
    "Depot = 10_000\n",
    "Verschuldung = 200\n"
   ]
  },
  {
   "cell_type": "markdown",
   "metadata": {},
   "source": [
    "Erstelle drei Listen (list):\n",
    "\n",
    "- Die erste Liste soll Länder enthalten als Strings (str).\n",
    "    - Deutschland, Frankreich, Italien\n",
    "\n",
    "- Die zweite Liste soll das BIP enthalten als Integers (int). \n",
    "    -  z.B Werte : 3800, 2700, 2000\n",
    "\n",
    "- Die dritte Liste soll die Jahre enthalten als Integers (int). \n",
    "    - 2021, 2022, 2023\n",
    "\n",
    "Wähle für alle Listen den passenden `Datentypen` aus. Und sei bereit sie kurz zu erklären."
   ]
  },
  {
   "cell_type": "code",
   "execution_count": 46,
   "metadata": {},
   "outputs": [],
   "source": [
    "Land = []              # Hier die erste Liste erstellen   \n",
    "BIP = []               # Hier die zweite Liste erstellen  \n",
    "Jahre = []             # Hier die Jahre-Liste erstellen   "
   ]
  },
  {
   "cell_type": "markdown",
   "metadata": {},
   "source": [
    "Erstelle ein Dictionary mit den folgenden Keys und Values:\n",
    "- Keys: \n",
    "    - \"Länder\", \"BIP in Mrd.\", \"Jahr\"\n",
    "\n",
    "- Iteams: \n",
    "    - füge in den Bereich Iteam deine erstellen Listen ein."
   ]
  },
  {
   "cell_type": "code",
   "execution_count": null,
   "metadata": {},
   "outputs": [],
   "source": [
    "my_dictionary = {\n",
    "    \"Key1\": \"Item1\",\n",
    "    \"Key2\": \"Item2\",\n",
    "    \"Key3\": \"Item3\"\n",
    "}\n",
    "my_dictionary"
   ]
  },
  {
   "cell_type": "code",
   "execution_count": null,
   "metadata": {},
   "outputs": [],
   "source": []
  },
  {
   "cell_type": "markdown",
   "metadata": {},
   "source": [
    "## 2. Packages\n",
    "---"
   ]
  },
  {
   "cell_type": "markdown",
   "metadata": {},
   "source": [
    "#### Aufgabe: \n",
    "- **Installiere** die Packages `pandas` `seaborn` und `Matplotlib`.\n",
    "\n",
    "\n",
    "- **Importiere** die Packages `seaborn` und `matplotlib` selbstständig."
   ]
  },
  {
   "cell_type": "code",
   "execution_count": null,
   "metadata": {},
   "outputs": [],
   "source": [
    "# füge hinzu seaborn und matplotlib unter pandas hinzu\n",
    "%pip install pandas\n",
    "\n",
    "\n",
    "# - Installiere seaborn \n",
    "\n",
    "\n",
    "\n",
    "# - Installiere matplotlib\n",
    "\n"
   ]
  },
  {
   "cell_type": "code",
   "execution_count": 50,
   "metadata": {},
   "outputs": [],
   "source": [
    "# bsp für die Verwendung von packages\n",
    "import pandas as pd\n",
    "\n",
    "\n",
    "# - importiere seaborn \n",
    "\n",
    "\n",
    "# - importiere matplotlib\n",
    "\n",
    "\n",
    "\n",
    "\n",
    "\n"
   ]
  },
  {
   "cell_type": "markdown",
   "metadata": {},
   "source": [
    "Nachdem wir die Packages erfolgreich Importieren haben können wir diese auch verwenden.\n",
    "\n",
    "- Als erstes nutzen wir `Pandas` um daten einzulesen und zu verarbeiten.\n",
    "\n",
    "- `Seaborn` nutzen wir um die Daten zu visualisieren.\n",
    "\n",
    "- `Matplotlib` nutzen wir um die Visualisierung zu verfeinern."
   ]
  },
  {
   "cell_type": "markdown",
   "metadata": {},
   "source": [
    "Versuche mit hilfe von `Pandas` die Daten zu importieren und in einem DataFrame zu speichern.\n",
    "Nutze dabei die Funktion \n",
    "\n",
    "\n",
    "Link zu dem Datensatz: https://raw.githubusercontent.com/mwaskom/seaborn-data/refs/heads/master/healthexp.csv\n",
    "- pd.read_csv(\"Link hier einfügen\")"
   ]
  },
  {
   "cell_type": "code",
   "execution_count": 73,
   "metadata": {},
   "outputs": [
    {
     "data": {
      "text/html": [
       "<div>\n",
       "<style scoped>\n",
       "    .dataframe tbody tr th:only-of-type {\n",
       "        vertical-align: middle;\n",
       "    }\n",
       "\n",
       "    .dataframe tbody tr th {\n",
       "        vertical-align: top;\n",
       "    }\n",
       "\n",
       "    .dataframe thead th {\n",
       "        text-align: right;\n",
       "    }\n",
       "</style>\n",
       "<table border=\"1\" class=\"dataframe\">\n",
       "  <thead>\n",
       "    <tr style=\"text-align: right;\">\n",
       "      <th></th>\n",
       "      <th>Year</th>\n",
       "      <th>Country</th>\n",
       "      <th>Spending_USD</th>\n",
       "      <th>Life_Expectancy</th>\n",
       "    </tr>\n",
       "  </thead>\n",
       "  <tbody>\n",
       "    <tr>\n",
       "      <th>0</th>\n",
       "      <td>1970</td>\n",
       "      <td>Germany</td>\n",
       "      <td>252.311</td>\n",
       "      <td>70.6</td>\n",
       "    </tr>\n",
       "    <tr>\n",
       "      <th>1</th>\n",
       "      <td>1970</td>\n",
       "      <td>France</td>\n",
       "      <td>192.143</td>\n",
       "      <td>72.2</td>\n",
       "    </tr>\n",
       "    <tr>\n",
       "      <th>2</th>\n",
       "      <td>1970</td>\n",
       "      <td>Great Britain</td>\n",
       "      <td>123.993</td>\n",
       "      <td>71.9</td>\n",
       "    </tr>\n",
       "    <tr>\n",
       "      <th>3</th>\n",
       "      <td>1970</td>\n",
       "      <td>Japan</td>\n",
       "      <td>150.437</td>\n",
       "      <td>72.0</td>\n",
       "    </tr>\n",
       "    <tr>\n",
       "      <th>4</th>\n",
       "      <td>1970</td>\n",
       "      <td>USA</td>\n",
       "      <td>326.961</td>\n",
       "      <td>70.9</td>\n",
       "    </tr>\n",
       "  </tbody>\n",
       "</table>\n",
       "</div>"
      ],
      "text/plain": [
       "   Year        Country  Spending_USD  Life_Expectancy\n",
       "0  1970        Germany       252.311             70.6\n",
       "1  1970         France       192.143             72.2\n",
       "2  1970  Great Britain       123.993             71.9\n",
       "3  1970          Japan       150.437             72.0\n",
       "4  1970            USA       326.961             70.9"
      ]
     },
     "execution_count": 73,
     "metadata": {},
     "output_type": "execute_result"
    }
   ],
   "source": [
    "df = pd.read_csv(filepath_or_buffer=\"https://raw.githubusercontent.com/mwaskom/seaborn-data/refs/heads/master/healthexp.csv\", \n",
    "                 sep=\",\")                               # Hier den Pfad einfügen\n",
    "\n",
    "\n",
    "\n",
    "df.head()"
   ]
  },
  {
   "cell_type": "code",
   "execution_count": 76,
   "metadata": {},
   "outputs": [
    {
     "name": "stdout",
     "output_type": "stream",
     "text": [
      "<class 'pandas.core.frame.DataFrame'>\n",
      "RangeIndex: 274 entries, 0 to 273\n",
      "Data columns (total 4 columns):\n",
      " #   Column           Non-Null Count  Dtype  \n",
      "---  ------           --------------  -----  \n",
      " 0   Year             274 non-null    int64  \n",
      " 1   Country          274 non-null    string \n",
      " 2   Spending_USD     274 non-null    float64\n",
      " 3   Life_Expectancy  274 non-null    float64\n",
      "dtypes: float64(2), int64(1), string(1)\n",
      "memory usage: 8.7 KB\n"
     ]
    }
   ],
   "source": [
    "df.info()"
   ]
  },
  {
   "cell_type": "code",
   "execution_count": 75,
   "metadata": {},
   "outputs": [],
   "source": [
    "df[\"Country\"] = df[\"Country\"].astype(\"string\")"
   ]
  },
  {
   "cell_type": "code",
   "execution_count": 77,
   "metadata": {},
   "outputs": [
    {
     "data": {
      "text/html": [
       "<div>\n",
       "<style scoped>\n",
       "    .dataframe tbody tr th:only-of-type {\n",
       "        vertical-align: middle;\n",
       "    }\n",
       "\n",
       "    .dataframe tbody tr th {\n",
       "        vertical-align: top;\n",
       "    }\n",
       "\n",
       "    .dataframe thead th {\n",
       "        text-align: right;\n",
       "    }\n",
       "</style>\n",
       "<table border=\"1\" class=\"dataframe\">\n",
       "  <thead>\n",
       "    <tr style=\"text-align: right;\">\n",
       "      <th></th>\n",
       "      <th>Year</th>\n",
       "      <th>Spending_USD</th>\n",
       "      <th>Life_Expectancy</th>\n",
       "    </tr>\n",
       "  </thead>\n",
       "  <tbody>\n",
       "    <tr>\n",
       "      <th>count</th>\n",
       "      <td>274.00</td>\n",
       "      <td>274.00</td>\n",
       "      <td>274.00</td>\n",
       "    </tr>\n",
       "    <tr>\n",
       "      <th>mean</th>\n",
       "      <td>1996.99</td>\n",
       "      <td>2789.34</td>\n",
       "      <td>77.91</td>\n",
       "    </tr>\n",
       "    <tr>\n",
       "      <th>std</th>\n",
       "      <td>14.18</td>\n",
       "      <td>2194.94</td>\n",
       "      <td>3.28</td>\n",
       "    </tr>\n",
       "    <tr>\n",
       "      <th>min</th>\n",
       "      <td>1970.00</td>\n",
       "      <td>123.99</td>\n",
       "      <td>70.60</td>\n",
       "    </tr>\n",
       "    <tr>\n",
       "      <th>25%</th>\n",
       "      <td>1985.25</td>\n",
       "      <td>1038.36</td>\n",
       "      <td>75.53</td>\n",
       "    </tr>\n",
       "    <tr>\n",
       "      <th>50%</th>\n",
       "      <td>1998.00</td>\n",
       "      <td>2295.58</td>\n",
       "      <td>78.10</td>\n",
       "    </tr>\n",
       "    <tr>\n",
       "      <th>75%</th>\n",
       "      <td>2009.00</td>\n",
       "      <td>4055.61</td>\n",
       "      <td>80.57</td>\n",
       "    </tr>\n",
       "    <tr>\n",
       "      <th>max</th>\n",
       "      <td>2020.00</td>\n",
       "      <td>11859.18</td>\n",
       "      <td>84.70</td>\n",
       "    </tr>\n",
       "  </tbody>\n",
       "</table>\n",
       "</div>"
      ],
      "text/plain": [
       "          Year  Spending_USD  Life_Expectancy\n",
       "count   274.00        274.00           274.00\n",
       "mean   1996.99       2789.34            77.91\n",
       "std      14.18       2194.94             3.28\n",
       "min    1970.00        123.99            70.60\n",
       "25%    1985.25       1038.36            75.53\n",
       "50%    1998.00       2295.58            78.10\n",
       "75%    2009.00       4055.61            80.57\n",
       "max    2020.00      11859.18            84.70"
      ]
     },
     "execution_count": 77,
     "metadata": {},
     "output_type": "execute_result"
    }
   ],
   "source": [
    "df.describe().round(2)"
   ]
  },
  {
   "cell_type": "markdown",
   "metadata": {},
   "source": [
    "Nachdem wir die Daten erfolgreich Importiert haben Filtern wir nun die Daten nach Bedigungen die uns passen sind.\n",
    "Wir haben festgestellt das die Daten mehre Ländern Daten enthalten haben.\n",
    "\n",
    "Nun werden wir für `Germany`und `Japan` zwei Seprate Variabelen erstellen.\n",
    "\n",
    "In der Variable `Germany` soll nur Informationen zu Deutschland sein und \n",
    "in der Variable `Japan`soll nur Informatioen über Japan sein."
   ]
  },
  {
   "cell_type": "code",
   "execution_count": 78,
   "metadata": {},
   "outputs": [
    {
     "data": {
      "text/plain": [
       "<StringArray>\n",
       "['Germany', 'France', 'Great Britain', 'Japan', 'USA', 'Canada']\n",
       "Length: 6, dtype: string"
      ]
     },
     "execution_count": 78,
     "metadata": {},
     "output_type": "execute_result"
    }
   ],
   "source": [
    "df[\"Country\"].unique()  # folgender Code gibt dir an welche Länder in der Spalte \"Country\" vorkommen"
   ]
  },
  {
   "cell_type": "code",
   "execution_count": null,
   "metadata": {},
   "outputs": [],
   "source": [
    "Germany = df[df[\"Country\"] == \" \"]  # Hier filtern wir die Daten nach Deutschland\n",
    "Germany.head()"
   ]
  },
  {
   "cell_type": "code",
   "execution_count": null,
   "metadata": {},
   "outputs": [],
   "source": [
    "Japan = # hier die Daten für Japan filtern\n",
    "Japan.head()"
   ]
  },
  {
   "cell_type": "markdown",
   "metadata": {},
   "source": [
    "Visualisierung:\n",
    "---\n",
    "Für die **Visualisierung** verwenden wir die Bibliothek `seaborn` und `matplotlib`.\n",
    "\n",
    "Da wir bereits `seaborn` und `matplotlib` installiert und importiert haben, können wir diese nun verwenden.\n",
    "\n",
    "Folgende Funktion können wir zur Visualisierung nutzen\n",
    "\n",
    "- sns.histplot()\n",
    "- sns.scatterplot()\n",
    "- sns.lineplot()\n",
    "- sns.barplot()\n",
    "und viele mehr findest du auf der offizielen Seite von seaborn.\n",
    "\n",
    "\n",
    "\n"
   ]
  },
  {
   "cell_type": "code",
   "execution_count": 72,
   "metadata": {},
   "outputs": [
    {
     "data": {
      "text/plain": [
       "<Axes: >"
      ]
     },
     "execution_count": 72,
     "metadata": {},
     "output_type": "execute_result"
    },
    {
     "data": {
      "image/png": "[encoded data removed]",
      "text/plain": [
       "<Figure size 640x480 with 1 Axes>"
      ]
     },
     "metadata": {},
     "output_type": "display_data"
    }
   ],
   "source": []
  },
  {
   "cell_type": "code",
   "execution_count": null,
   "metadata": {},
   "outputs": [],
   "source": []
  },
  {
   "cell_type": "code",
   "execution_count": null,
   "metadata": {},
   "outputs": [],
   "source": []
  },
  {
   "cell_type": "code",
   "execution_count": null,
   "metadata": {},
   "outputs": [],
   "source": []
  },
  {
   "cell_type": "code",
   "execution_count": null,
   "metadata": {},
   "outputs": [],
   "source": []
  }
 ],
 "metadata": {
  "kernelspec": {
   "display_name": "venv",
   "language": "python",
   "name": "python3"
  },
  "language_info": {
   "codemirror_mode": {
    "name": "ipython",
    "version": 3
   },
   "file_extension": ".py",
   "mimetype": "text/x-python",
   "name": "python",
   "nbconvert_exporter": "python",
   "pygments_lexer": "ipython3",
   "version": "3.10.9"
  }
 },
 "nbformat": 4,
 "nbformat_minor": 2
}
