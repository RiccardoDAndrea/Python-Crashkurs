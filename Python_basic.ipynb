{
 "cells": [
  {
   "cell_type": "markdown",
   "metadata": {},
   "source": [
    "# 1. Einführung in Python Basic Syntax.\n",
    "---\n",
    "Im Folgenden werden die Grundlagen der Python-Syntax erläutert.\n",
    "Dabei werden bezogen auf den Leitfaden Unterstützung angeboten was immer wieder nachgelesen werden kann."
   ]
  },
  {
   "cell_type": "markdown",
   "metadata": {},
   "source": [
    "## 1.1 Variablen\n",
    "Die erste Aufgabe besteht darin, Variablen zu definieren, die die folgenden Informationen enthalten:\n"
   ]
  },
  {
   "cell_type": "code",
   "execution_count": 38,
   "metadata": {},
   "outputs": [],
   "source": [
    "first_name = \"Riccardo\"\n",
    "last_name = \"Dandrea\""
   ]
  },
  {
   "cell_type": "code",
   "execution_count": null,
   "metadata": {},
   "outputs": [],
   "source": [
    "print(\"Hallo, mein Name ist\", first_name, last_name)"
   ]
  },
  {
   "cell_type": "markdown",
   "metadata": {},
   "source": [
    "*Erwarterter Output:*\n",
    "\n",
    "<span style=\"color:lightgray\"> **Hallo, mein Name ist Max Musterman** </span>"
   ]
  },
  {
   "cell_type": "markdown",
   "metadata": {},
   "source": [
    "## 1.2 Definere nun dein Alter in der Varaible `alter`"
   ]
  },
  {
   "cell_type": "code",
   "execution_count": null,
   "metadata": {},
   "outputs": [],
   "source": [
    "alter = 20\n",
    "\n",
    "print(\"Mein Name ist\" , first_name, last_name, \"und ich bin\", alter, \"Jahre alt\")"
   ]
  },
  {
   "cell_type": "markdown",
   "metadata": {},
   "source": [
    "*Erwarterter Output:*\n",
    "\n",
    "<span style=\"color:lightgray\"> Mein Name ist Max Mustermann und ich bin 20 Jahre alt </span>"
   ]
  },
  {
   "cell_type": "markdown",
   "metadata": {},
   "source": [
    "## 1.3 Kommentare\n",
    "\n",
    "- Ersetzte den Kommentar nach den `#` und trage dein Wert der in der Variable gespeichert ist"
   ]
  },
  {
   "cell_type": "code",
   "execution_count": null,
   "metadata": {},
   "outputs": [],
   "source": [
    "print(first_name)  # was ist in der Variable first_name gespeichert? \n",
    "print(last_name)   # was ist in der Variable last_name gespeichert?\n",
    "print(alter)       # was ist in der Variable alter gespeichert?"
   ]
  },
  {
   "cell_type": "markdown",
   "metadata": {},
   "source": [
    "*Erwarterter Output:*\n",
    "\n",
    "\n",
    "<span style=\"color:lightgray\">**Max           # Max** </span>\n",
    "\n",
    "<span style=\"color:lightgray\">**Mustermann   # Musterman** </span>\n",
    "\n",
    "<span style=\"color:lightgray\">**20           # 20** </span>"
   ]
  },
  {
   "cell_type": "markdown",
   "metadata": {},
   "source": [
    "### 1.4 Datentypen\n",
    "Definiere im folgeden die Datentypen \n",
    "1. `Integer` , \n",
    "2. `Float`, \n",
    "3. `String`, \n",
    "4. `Boolean` \n",
    "\n",
    "in einer ***Variable***.\n",
    "Und **unter** der Variable eine kurze erklärung was der jeweilige Datentyp ist woran erkennst du Sie"
   ]
  },
  {
   "cell_type": "code",
   "execution_count": 42,
   "metadata": {},
   "outputs": [],
   "source": [
    "# int:\n",
    "\n",
    "\n",
    "# Erklärung: \n",
    "\n",
    "\n",
    "#-----------\n",
    "\n",
    "# float:\n",
    "\n",
    "\n",
    "# Erklärung:\n",
    "\n",
    "\n",
    "#-----------\n",
    "# str: \n",
    "\n",
    "\n",
    "# Erklärung:\n",
    "\n",
    "\n",
    "#-----------\n",
    "# bool:\n",
    "\n",
    "\n",
    "# Erklärung:\n",
    "\n",
    "\n",
    "#-----------"
   ]
  },
  {
   "cell_type": "markdown",
   "metadata": {},
   "source": [
    "Rechen Operationen:\n",
    "Führe folgende Mathematische Operation durch speicher das Ergebnis bitte immer in einer neuen Variable:\n",
    "1. Addition\n",
    "2. Subtraktion\n",
    "3. Multiplikation\n",
    "4. Division\n",
    "5. Potenz\n",
    "\n",
    "Auf dein Sparkonte sind 1.000 €, auf dein Depot sind weitere 10_000 €.\n",
    "Führe mit den gegeben Information Rechen operatioen durch \n",
    "Wodurch du dein \n",
    "- Gesamtvermögen \n",
    "- Gesamtvermögen abzgl. Verschuldung\n",
    "- Deine Monatliche Sparrate \n",
    "- "
   ]
  },
  {
   "cell_type": "code",
   "execution_count": 43,
   "metadata": {},
   "outputs": [],
   "source": [
    "Sparkonto = 1_000\n",
    "Depot = 10_000\n",
    "Verschuldung = 200\n",
    "multiplikator = 0.10\n",
    "\n",
    "\n"
   ]
  },
  {
   "cell_type": "code",
   "execution_count": null,
   "metadata": {},
   "outputs": [],
   "source": []
  },
  {
   "cell_type": "code",
   "execution_count": null,
   "metadata": {},
   "outputs": [],
   "source": []
  },
  {
   "cell_type": "code",
   "execution_count": null,
   "metadata": {},
   "outputs": [],
   "source": []
  },
  {
   "cell_type": "code",
   "execution_count": null,
   "metadata": {},
   "outputs": [],
   "source": []
  }
 ],
 "metadata": {
  "kernelspec": {
   "display_name": "venv",
   "language": "python",
   "name": "python3"
  },
  "language_info": {
   "codemirror_mode": {
    "name": "ipython",
    "version": 3
   },
   "file_extension": ".py",
   "mimetype": "text/x-python",
   "name": "python",
   "nbconvert_exporter": "python",
   "pygments_lexer": "ipython3",
   "version": "3.10.9"
  }
 },
 "nbformat": 4,
 "nbformat_minor": 2
}
