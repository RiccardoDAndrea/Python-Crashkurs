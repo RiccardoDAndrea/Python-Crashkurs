{
 "cells": [
  {
   "cell_type": "markdown",
   "metadata": {
    "vscode": {
     "languageId": "plaintext"
    }
   },
   "source": [
    "# 1. Empirisches Projekt\n",
    "---\n",
    "### **Übung zur Erstellung einer Mutiplen Linearen Regression**\n",
    "Dieses Sktipt soll euch helfen eine Datenanalyse sowie eine Simple oder eine Mutiple Regression aufzubauen.\n",
    "-> Falls ihr fragen habt bitte sagt mir bescheid ich helfe gerne aus!\n",
    "\n",
    "\n",
    "> E-Mail: riccardo.dandrea@live.de\n",
    "> Ihr könnte gerne eine Mail schreiben wo wir uns Per zoom treffen können, falls ihr schwierigkeiten habt bei der Programmierung:\n",
    "> BITTE schreibt in der MAIL:\n",
    "> - Was habt ihr vor ?\n",
    "> - Wo liegt das Problem mit Code und Fehlermeldung\n",
    "> - und wann ihr euch Per zoom treffen wollt Tag und Uhrzeit.\n",
    ">\n",
    "> Gerne bitte ich auch eine Sprechstunde neben den Vorlesungen wo wir uns einmal wöchentlich treffen und Ihr mir direkt Fragen stellt könnte.\n",
    "\n",
    "\n",
    "Für die Datenanalyse kann als unterstützung der Leitfaden \"Leitfaden.ipynbn\" als unterstützung genutzt werden.\n",
    "Ab Punkt 2. wird erklärt wie Libaries installiert werden und wie die Daten eingelesen werden können. Sowie weitere Schritte zur Datenanalyse."
   ]
  },
  {
   "cell_type": "markdown",
   "metadata": {
    "vscode": {
     "languageId": "plaintext"
    }
   },
   "source": [
    "# Google Colab:\n",
    "---\n",
    "##### 1. [Python Programmierung mit Google Colab link](https://colab.research.google.com/drive/1_LOqSLE3ogQIeh5_ho03JoLbuJAGTnwF)\n",
    "\n",
    "<img src=\"Pictures_for_Explanation/1_Google_Colab_Starten.png\" alt=\"Bildbeschreibung\" width=\"600\"/>\n",
    "\n",
    "\n",
    "\n",
    "##### 2. Um ein Skript zu öffnen Navigiert auf Datei was oben Rechts vorzufinden ist und klickt \"Notebook öffnen\"\n",
    "\n",
    "<img src=\"Pictures_for_Explanation/2_Datei_Optionen_öffnen.png\" alt=\"Bildbeschreibung\" width=\"600\"/>\n",
    "\n",
    "##### 3. Danach geht ihr  auf Github und fügt folgenden Link hinzu https://github.com/RiccardoDAndrea/Python-Crashkurs\n",
    "\n",
    "<img src=\"Pictures_for_Explanation/3_Zuletzt_Geöffnet.png\" alt=\"Bildbeschreibung\" width=\"600\"/>\n",
    "\n",
    "##### 4. Nachdem Laden werdet ihr mehere Datein wie Skripte vorfinden.\n",
    "<img src=\"Pictures_for_Explanation/4_Github_URL_eingeben.png\" alt=\"Bildbeschreibung\" width=\"600\"/>\n",
    "\n",
    "##### 5. Für die Mutiple Lineare Regression wählt ihr Python_regression.ipynb und somit habt ihr erfolgreich das Skript zur bearbeitung eingeladen\n",
    "<img src=\"Pictures_for_Explanation/5_Python_MLR.png\" alt=\"Bildbeschreibung\" width=\"600\"/>\n"
   ]
  },
  {
   "cell_type": "code",
   "execution_count": null,
   "metadata": {},
   "outputs": [],
   "source": [
    "import os\n",
    "if not os.path.exists(\"Data\"):\n",
    "    print(\"Ordner Data erstellt\")\n",
    "    os.makedirs(\"Data\") \n",
    "elif os.path.exists(\"Data\"):\n",
    "    print(\"Ordner Data ist bereits vorhanden\")\n",
    "\n",
    "\n",
    "if not os.path.exists(\"MLR_Output\"):\n",
    "    print(\"Ordner Data erstellt\")\n",
    "    os.makedirs(\"MLR_Output\") \n",
    "elif os.path.exists(\"MLR_Output\"):\n",
    "    print(\"Ordner Data ist bereits vorhanden\")\n",
    "\n",
    "# Erstellt dir ein Ordner wo du deine Daten speichern kannst"
   ]
  },
  {
   "cell_type": "markdown",
   "metadata": {},
   "source": [
    "Aufgabe 1\n",
    "---\n",
    "\n",
    "1. Importiert mit den richtigen abkürzung folgenden Packes:\n",
    "- pandas\n",
    "- matplotlib\n",
    "- seaborn\n",
    "- numpy\n",
    "\n",
    "\n",
    "Ihr werdet wahrscheinlich eine kleine internet recherse betreiben müssen oder die anderen Skript euch angucken"
   ]
  },
  {
   "cell_type": "code",
   "execution_count": 1,
   "metadata": {},
   "outputs": [],
   "source": [
    "# pandas\n",
    "import pandas as pd\n",
    "\n",
    "# matplotlib\n",
    "import matplotlib.pyplot as plt\n",
    "\n",
    "# seaborn\n",
    "import seaborn as sns\n",
    "\n",
    "# numpy\n",
    "import numpy as np\n",
    "\n",
    "import statsmodels.api as sm\n",
    "from statsmodels.formula.api import ols \n",
    "import sklearn as sk\n",
    "import warnings\n",
    "warnings.filterwarnings('ignore')"
   ]
  },
  {
   "cell_type": "markdown",
   "metadata": {},
   "source": [
    "Aufgabe 2. Daten einlesen\n",
    "--- \n",
    "Lese folgenden Link mit `Pandas` ein und speicher den Datensatz in der Variable `df`:\n",
    "\n",
    "- Link: https://raw.githubusercontent.com/plotly/datasets/refs/heads/master/auto-mpg.csv"
   ]
  },
  {
   "cell_type": "code",
   "execution_count": null,
   "metadata": {},
   "outputs": [],
   "source": [
    "df = pd.read_csv(filepath_or_buffer=\"https://raw.githubusercontent.com/plotly/datasets/refs/heads/master/auto-mpg.csv\")\n",
    "\n",
    "\n",
    "df.rename(columns={\"model-year\":\"model_year\"}, inplace=True)\n",
    "\n",
    "df.head()"
   ]
  },
  {
   "cell_type": "markdown",
   "metadata": {},
   "source": [
    "- **mpg:** Miles per Gallon (Meilen pro Gallone). Dies ist ein Maß für den Kraftstoffverbrauch eines Autos.\n",
    "\n",
    "- **cylinders:** Anzahl der Zylinder im Motor.\n",
    "\n",
    "- **displacement:** Hubraum des Motors. Der Hubraum ist ein Maß für das Arbeitsvolumen des Motors.\n",
    "\n",
    "- **horsepower:** Leistung des Motors in Pferdestärken. \n",
    "\n",
    "- **weight:** Gewicht des Autos. \n",
    "\n",
    "- **acceleration:** Beschleunigung des Autos. Die Beschleunigung gibt an, wie schnell ein Auto von 0 auf eine bestimmte Geschwindigkeit beschleunigt.\n",
    "\n",
    "- **model-year:** Baujahr des Autos."
   ]
  },
  {
   "cell_type": "markdown",
   "metadata": {},
   "source": [
    "Aufgabe 3.\n",
    "---\n",
    "\n",
    "Gibt euch eine Statischte zusammenfassung der Daten wieder:\n",
    "\n",
    "count / mean / std / min / 25% / 50% / 75% / max"
   ]
  },
  {
   "cell_type": "code",
   "execution_count": null,
   "metadata": {},
   "outputs": [],
   "source": [
    "# Statischtische zusammenfassung:\n",
    "df.describe()"
   ]
  },
  {
   "cell_type": "markdown",
   "metadata": {},
   "source": [
    "Aufgabe 4. \n",
    "---\n",
    "\n",
    "Erstellt ein Code wo ihr für jede Spalte die NaN values betrachtet könnt\n",
    "\n",
    "Hierbei empfehle ich eine Internet recherse oder ihr schaut in die anderen Skripte rein"
   ]
  },
  {
   "cell_type": "code",
   "execution_count": null,
   "metadata": {},
   "outputs": [],
   "source": [
    "## Überprüfe die NaN values:\n",
    "df.isna().sum()"
   ]
  },
  {
   "cell_type": "markdown",
   "metadata": {},
   "source": [
    "Aufgabe 5.\n",
    "---\n"
   ]
  },
  {
   "cell_type": "code",
   "execution_count": null,
   "metadata": {},
   "outputs": [],
   "source": [
    "df.query('horsepower.isnull()')"
   ]
  },
  {
   "cell_type": "markdown",
   "metadata": {},
   "source": [
    "Im folgenden Code seht ihr die Zeilen wo NaN Werte stehen.\n",
    "\n",
    "Entscheidet nun wie ihr am *SINNVOLLSTEN* eure Daten ersetzten wollt.\n",
    "*Seit bereit eure entscheidung zu begrüden.*"
   ]
  },
  {
   "cell_type": "code",
   "execution_count": 6,
   "metadata": {},
   "outputs": [],
   "source": [
    "# Ersetzte die NaN values\n",
    "df.dropna(inplace=True)"
   ]
  },
  {
   "cell_type": "markdown",
   "metadata": {},
   "source": [
    "Da wir bereits *Visualisierungen* besprochen haben werden wir diesen Teil abkürzen, indem wir ein `Pairplot` erstellen um ein groben überblick der Daten zu erhalten.\n",
    "\n",
    "Die Dokumentation für die Funktion `pairplot` findet ihr [hier](https://seaborn.pydata.org/generated/seaborn.pairplot.html)."
   ]
  },
  {
   "cell_type": "code",
   "execution_count": null,
   "metadata": {},
   "outputs": [],
   "source": [
    "sns.pairplot(df)\n",
    "plt.show()"
   ]
  },
  {
   "cell_type": "markdown",
   "metadata": {},
   "source": [
    "Aufgabe 7.\n",
    "---\n",
    "\n",
    "7.1 Erstellt ein Korrelations Matrix\n",
    "\n",
    "7.2 Visualsiert bitte die Korrelation Matrix mit der Funktion `heatmap` aus seabron.\n",
    "\n",
    "7.3 Speichert nur die Visualsierte Korrelations Matrix in der Variable `Corr_Vis =` \n",
    "\n",
    "\n",
    "Als nützliche Hilfestellung könnt ihr folgende Internetseite nutzen: \n",
    "\n",
    "https://medium.com/@szabo.bibor/how-to-create-a-seaborn-correlation-heatmap-in-python-834c0686b88e\n",
    "\n",
    "\n",
    "\n"
   ]
  },
  {
   "cell_type": "code",
   "execution_count": null,
   "metadata": {},
   "outputs": [],
   "source": [
    "# Aufgabe 7.1\n",
    "\n",
    "df.corr()\n",
    "\n",
    "\n",
    "# Aufgabe 7.2 und 7.3\n",
    "Corr_Vis = sns.heatmap(df.corr(), annot=True)\n",
    "plt.show()\n"
   ]
  }
 ],
 "metadata": {
  "kernelspec": {
   "display_name": "venv",
   "language": "python",
   "name": "python3"
  },
  "language_info": {
   "codemirror_mode": {
    "name": "ipython",
    "version": 3
   },
   "file_extension": ".py",
   "mimetype": "text/x-python",
   "name": "python",
   "nbconvert_exporter": "python",
   "pygments_lexer": "ipython3",
   "version": "3.10.9"
  }
 },
 "nbformat": 4,
 "nbformat_minor": 2
}
