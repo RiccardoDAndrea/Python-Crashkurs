{
  "nbformat": 4,
  "nbformat_minor": 0,
  "metadata": {
    "colab": {
      "provenance": []
    },
    "kernelspec": {
      "name": "python3",
      "display_name": "Python 3"
    },
    "language_info": {
      "name": "python"
    }
  },
  "cells": [
    {
      "cell_type": "markdown",
      "source": [
        "# Einführung\n",
        "\n",
        "## Über dieses Notebook\n",
        "In diesem Notebook zeige ich euch die **Grundlagen der Python-Programmierung** mit Schwerpunkt auf maschinellem Lernen. Ich stelle wichtige Bibliotheken wie **Numpy**, **Pandas**, **Scikit-learn** und **Matplotlib** vor und zeige euch, wie ihr diese für die Analyse und Modellierung von Daten verwenden könnt. Am Ende dieses Tutorials solltet ihr mit den Python-Grundlagen vertraut sein und diese Bibliotheken verwenden können, um einfache Modelle für maschinelles Lernen zu erstellen."
      ],
      "metadata": {
        "id": "Q5ckYdU_zyHW"
      }
    },
    {
      "cell_type": "markdown",
      "source": [
        "----\n",
        "# Machine Learning\n",
        "Machine Learning ist ein Bereich der künstlichen Intelligenz, der es Computern ermöglicht, aus Daten zu lernen und Muster oder Zusammenhänge zu erkennen.\n",
        "\n",
        "Im kommenden Abschnitt werden wir das Thema anhand eines Beispiels näher beleuchten. Konkret werden wir eine einfache Klassifikation mit Hilfe einer logistischen Regression durchführen."
      ],
      "metadata": {
        "id": "VDOmX9phz61S"
      }
    },
    {
      "cell_type": "markdown",
      "source": [
        "## Einrichten der Umgebung\n",
        "In diesem Abschnitt erfährst du, wie du notwendige Python-Bibliotheken wie numpy, pandas, scikit-learn und matplotlib usw. installierst und erhältst eine kurze Erklärung zu den Funktionen jeder Bibliothek."
      ],
      "metadata": {
        "id": "5Ci3B_waz-QN"
      }
    },
    {
      "cell_type": "code",
      "source": [
        "# Name der Bibliothek und Abküzung\n",
        "import numpy as np\n",
        "import pandas as pd\n",
        "import matplotlib.pyplot as plt\n",
        "import seaborn as sns\n",
        "\n",
        "# Hier werden nur bestimmte Funktion aus der Bibliothek sklearn importiert\n",
        "from sklearn.linear_model import LogisticRegression\n",
        "from sklearn.model_selection import train_test_split\n",
        "from sklearn.metrics import accuracy_score\n",
        "from sklearn.metrics import roc_auc_score\n",
        "\n",
        "# Hier wird der Download für den Datensatz vorbereitet\n",
        "file_id = '1uujka4TJygnHSrai5rDmao8z9SeP_PsE'\n",
        "download_link = f\"https://drive.google.com/uc?id={file_id}\""
      ],
      "metadata": {
        "id": "qgILlk110HKE"
      },
      "execution_count": null,
      "outputs": []
    },
    {
      "cell_type": "markdown",
      "source": [
        "## Den Datensatz verstehen\n",
        "Hier geht es darum, einen geeigneten Datensatz auszuwählen, ihn mit pandas zu laden und die verschiedenen Merkmale und grundlegende Statistiken des Datensatzes zu verstehen."
      ],
      "metadata": {
        "id": "TIffGTTn0P8T"
      }
    },
    {
      "cell_type": "code",
      "source": [
        "# Einen Datensatz mit Pandas laden\n",
        "df = pd.read_csv(download_link)"
      ],
      "metadata": {
        "id": "vl9DaOeM0Qhd"
      },
      "execution_count": null,
      "outputs": []
    },
    {
      "cell_type": "code",
      "source": [
        "# Die ersten fünf Zeilen des Datensatzes anzeigen lassen\n",
        "df.head()"
      ],
      "metadata": {
        "id": "qTWPRBab0W8R"
      },
      "execution_count": null,
      "outputs": []
    },
    {
      "cell_type": "code",
      "source": [
        "# Übersicht über den Datensatz und seine Eigenschaften anzeigen lassen\n",
        "df.info()"
      ],
      "metadata": {
        "id": "2i5kOAwl0fPv"
      },
      "execution_count": null,
      "outputs": []
    },
    {
      "cell_type": "markdown",
      "source": [
        "Diese Übersicht bietet wertvolle Informationen:\n",
        "*   Der Datensatz umfasst 891 Zeilen und 12 Spalten.\n",
        "*   Die Spalten [\"Name\", \"Sex\", \"Ticket\", \"Cabin\", \"Embarked\"] haben den Datentyp 'object', der später in einen numerischen Datentyp umgewandelt werden muss.\n",
        "*   In den Spalten [\"Age\", \"Cabin\", \"Embarked\"] sind Nullwerte vorhanden."
      ],
      "metadata": {
        "id": "_QsN4p6T0j9W"
      }
    },
    {
      "cell_type": "code",
      "source": [
        "# Die Funktion describe() erzeugt eine statistische Zusammenfassung des DataFrames 'df'\n",
        "df.describe()"
      ],
      "metadata": {
        "id": "s7Dc9jrLFr-C"
      },
      "execution_count": null,
      "outputs": []
    },
    {
      "cell_type": "markdown",
      "source": [
        "  - Der Datensatz enthält Informationen über 891 Passagiere.\n",
        "  - Etwa __38,38% der Passagiere in diesem Datensatz haben überlebt__, wie der Durchschnittswert von 0,3838 zeigt.\n",
        "  - Die __durchschnittliche Klasse (Pclass) der Passagiere liegt bei ungefähr 2,31__, was darauf hindeutet, dass die Mehrheit der Passagiere in der 2. und 3. Klasse waren.\n",
        "  - Das __durchschnittliche Alter der Passagiere beträgt ungefähr 29,7 Jahre__. Der jüngste Passagier ist etwa 0,42 Jahre alt (wahrscheinlich einige Monate alt) und der älteste 80 Jahre.\n",
        "  - Im Durchschnitt haben Passagiere __0,52 Geschwister oder Ehepartner__ bei sich. Die höchste beobachtete Anzahl liegt bei 8.\n",
        "  - Die __meisten Passagiere reisten ohne Eltern oder Kinder__ (durchschnittlicher Parch-Wert beträgt etwa 0,38). Einige hatten jedoch bis zu 6 Eltern oder Kinder bei sich.\n",
        "  - Der __durchschnittliche Fahrpreis für Passagiere beträgt etwa 32,20 USD__. Die Fahrpreise variieren stark, wobei 50% der Passagiere zwischen 7,91 und 31 USD zahlen. Der höchste beobachtete Fahrpreis beträgt 512,33 USD."
      ],
      "metadata": {
        "id": "BTOW3k7OGAnI"
      }
    },
    {
      "cell_type": "code",
      "source": [
        "# \"Unique Values\" einer bestimmten Spalte anzeigen lassen\n",
        "print(\"Unique Values: \", df['Embarked'].unique())\n",
        "print(df['Embarked'].value_counts()) # Ignoriert fehlende Werte"
      ],
      "metadata": {
        "id": "nFezbiLAH5Yl"
      },
      "execution_count": null,
      "outputs": []
    },
    {
      "cell_type": "markdown",
      "source": [
        "__Aufgabe:__ Finde heraus welche \"Unique Values\" die Spalte \"Pclass\" hat"
      ],
      "metadata": {
        "id": "IYXYZPrkIPbm"
      }
    },
    {
      "cell_type": "code",
      "source": [],
      "metadata": {
        "id": "Jj-DTGa5IO0o"
      },
      "execution_count": null,
      "outputs": []
    },
    {
      "cell_type": "markdown",
      "source": [
        "----\n",
        "## Exploratory Data Analysis (EDA)\n",
        "Die explorative Datenanalyse spielt eine entscheidende Rolle im maschinellen Lernen, da sie dabei hilft, ein tieferes Verständnis der Daten zu gewinnen. Dieser Prozess kann mithilfe von Bibliotheken wie pandas, matplotlib und seaborn durchgeführt werden, um verschiedene Visualisierungen wie Histogramme, Boxplots und Streudiagramme zu erstellen, die dabei helfen, Muster, Ausreißer und Beziehungen in den Daten zu identifizieren und zu interpretieren."
      ],
      "metadata": {
        "id": "VIofMm5F0rny"
      }
    },
    {
      "cell_type": "markdown",
      "source": [
        "### Histogramm: Welcher Anteil hat überlebt?"
      ],
      "metadata": {
        "id": "NcXjOnrK03pH"
      }
    },
    {
      "cell_type": "code",
      "source": [
        "# Erstellen einer Abbildung\n",
        "plt.figure(figsize=(10, 5))\n",
        "# Ein Countplot (Balkendiagramm) auf dem Unterpunkt zeichnen\n",
        "sns.countplot(x='Survived', data=df)\n",
        "# Titel für den Unterpunkt festlegen\n",
        "plt.title('Überlebt')\n",
        "# Das Diagramm anzeigen\n",
        "plt.show()"
      ],
      "metadata": {
        "id": "kMb-k7B404Kb"
      },
      "execution_count": null,
      "outputs": []
    },
    {
      "cell_type": "markdown",
      "source": [
        "**Aufgabe:** Erstelle ein ähnliches Histogram für die Variable \"Sex\""
      ],
      "metadata": {
        "id": "jfdJbOqObEGQ"
      }
    },
    {
      "cell_type": "code",
      "source": [],
      "metadata": {
        "id": "vpio0sa_sZtp"
      },
      "execution_count": null,
      "outputs": []
    },
    {
      "cell_type": "markdown",
      "source": [
        "### Histogramm: Für die Variablen Age und Fare, um zu wissen, wie die Verteilungen der Werte aussehen"
      ],
      "metadata": {
        "id": "1dzq0uuaJUSU"
      }
    },
    {
      "cell_type": "code",
      "source": [
        "# Percentiles berechnen\n",
        "q25_age = np.percentile(df.Age, 25)\n",
        "q50_age = np.percentile(df.Age, 50)\n",
        "q75_age = np.percentile(df.Age, 75)\n",
        "\n",
        "# Verteilung plotten\n",
        "plt.figure(figsize=(10, 5))\n",
        "sns.histplot(df.Age, kde=True, bins=30)\n",
        "\n",
        "# Vertikale Linien für Perzentile hinzufügen\n",
        "plt.axvline(x=q25_age, color='red', linestyle='--', label='25. Perzentil')\n",
        "plt.axvline(x=q50_age, color='green', linestyle='--', label='50. Perzentile (median)')\n",
        "plt.axvline(x=q75_age, color='blue', linestyle='--', label='75. Perzentile')\n",
        "\n",
        "plt.legend()\n",
        "plt.grid()\n",
        "plt.title('Verteilung der Variable \"Age\" mit Perzentilen')\n",
        "plt.show()"
      ],
      "metadata": {
        "id": "DceXeIfilmhn"
      },
      "execution_count": null,
      "outputs": []
    },
    {
      "cell_type": "markdown",
      "source": [
        "**Aufgabe:** Erstelle ein ähnliches Histogram für die Variable \"Fare\""
      ],
      "metadata": {
        "id": "IeuQb_ZzsXnY"
      }
    },
    {
      "cell_type": "code",
      "source": [],
      "metadata": {
        "id": "iDae9xKPsYpN"
      },
      "execution_count": null,
      "outputs": []
    },
    {
      "cell_type": "markdown",
      "source": [
        "Die Variable 'Fare' hat einen Ausreißer, den wir entfernen sollten\n"
      ],
      "metadata": {
        "id": "wu7oJdsFtb9h"
      }
    },
    {
      "cell_type": "code",
      "source": [
        "# Finde den maximalen Wert in der Spalte 'Fare'\n",
        "max_fare = df['Fare'].max()\n",
        "\n",
        "# Entferne Zeilen, in denen 'Fare' diesen maximalen Wert hat\n",
        "df = df[df['Fare'] != max_fare]"
      ],
      "metadata": {
        "id": "EGSCZMAPuImK"
      },
      "execution_count": null,
      "outputs": []
    },
    {
      "cell_type": "markdown",
      "source": [
        "### Korrelation: Wie groß ist der Zusammenhang zwischen den Variablen im Datensatz"
      ],
      "metadata": {
        "id": "XP6i-cll077w"
      }
    },
    {
      "cell_type": "code",
      "source": [
        "# Heatmap erstellen\n",
        "sns.heatmap(df.corr(), annot=True, cmap='coolwarm')\n",
        "fig=plt.gcf()\n",
        "fig.set_size_inches(8,6)\n",
        "plt.show()"
      ],
      "metadata": {
        "id": "Tds3LV0E09Xt"
      },
      "execution_count": null,
      "outputs": []
    },
    {
      "cell_type": "markdown",
      "source": [
        "**Aufgabe:** Prüfe, ob starke Korrelationen zwischen den Variablen vorliegen (nahe an 1 oder -1)"
      ],
      "metadata": {
        "id": "l3J_pxZn1Dc0"
      }
    },
    {
      "cell_type": "markdown",
      "source": [
        "----\n",
        "## Datenbereinigung\n",
        "In diesem Abschnitt kümmern wir uns um die Nullwerte und werden alle Spalten mit dem Datentyp 'object' in einen numerischen Datentyp umwandeln."
      ],
      "metadata": {
        "id": "IAkk7OPU1IfQ"
      }
    },
    {
      "cell_type": "markdown",
      "source": [
        "### Mit Nullwerten umgehen"
      ],
      "metadata": {
        "id": "Qp2lMcXB1VeT"
      }
    },
    {
      "cell_type": "code",
      "source": [
        "# Wiederholung: In welchen Spalten waren Nullwerte?\n",
        "df.info()"
      ],
      "metadata": {
        "id": "lkZock68cK3I"
      },
      "execution_count": null,
      "outputs": []
    },
    {
      "cell_type": "markdown",
      "source": [
        "- Age: 177 Nullwerte\n",
        "- Cabin: 687 Nullwerte\n",
        "- Embarked: 2 Nullwerte"
      ],
      "metadata": {
        "id": "6g_9LtuNcens"
      }
    },
    {
      "cell_type": "code",
      "source": [
        "# Da in der Spalte 'Cabin' viele Werte fehlen, werden wir die gesamte Spalte aus dem Datensatz entfernen\n",
        "df.drop('Cabin', axis=1, inplace=True) # (axis=1 entfernt Spalten)"
      ],
      "metadata": {
        "id": "gLgu8H6EeWvq"
      },
      "execution_count": null,
      "outputs": []
    },
    {
      "cell_type": "code",
      "source": [
        "# Entferne alle Zeilen, mit einem Nullwert in der Spalte 'Age'\n",
        "df.dropna(subset=['Age'], axis=0, inplace=True) # (axis=0 entfernt Zeilen)"
      ],
      "metadata": {
        "id": "TWU95kEBeeWa"
      },
      "execution_count": null,
      "outputs": []
    },
    {
      "cell_type": "markdown",
      "source": [
        "**Aufgabe:** Entferne alle Zeilen, mit einem Nullwert in der Spalte 'Embarked'"
      ],
      "metadata": {
        "id": "_RSNdUW4foG3"
      }
    },
    {
      "cell_type": "code",
      "source": [],
      "metadata": {
        "id": "77DFpca7C7Ks"
      },
      "execution_count": null,
      "outputs": []
    },
    {
      "cell_type": "markdown",
      "source": [
        "### Feature Engineering\n",
        "Feature Engineering ist ein Prozess im Machine Learning, bei dem aus vorhandenen Daten neue relevante Merkmale oder Attribute extrahiert werden. Beispielsweise kann es sinnvoll sein, die Werte des Attributs 'Alter' zu modifizieren. Kontinuierliche Werte wie beim 'Alter' können bei der Modellierung Herausforderungen darstellen. Deshalb könnte ein neues Attribut erstellt werden, das das Alter in verschiedene Altersgruppen einteilt."
      ],
      "metadata": {
        "id": "snxDRMrr1hts"
      }
    },
    {
      "cell_type": "code",
      "source": [
        "# Erstelle neues Attribut mit Altergruppen\n",
        "df['Age_group'] = 0\n",
        "df.loc[df['Age'] <= q25_age, 'Age_group'] = 0\n",
        "df.loc[(df['Age'] > q25_age) & (df['Age'] <= q50_age), 'Age_group'] = 1\n",
        "df.loc[(df['Age'] > q50_age) & (df['Age'] <= q75_age), 'Age_group'] = 2\n",
        "df.loc[df['Age'] > q75_age, 'Age_group'] = 3"
      ],
      "metadata": {
        "id": "ADdwVh-K1n6w"
      },
      "execution_count": null,
      "outputs": []
    },
    {
      "cell_type": "markdown",
      "source": [
        "**Aufgabe:** Erstelle ein neues Attribut, in welchem die Werte aus 'Fare' kategorisch umgewandelt werden. Verwende dafür die berechneten Percentile aus der EDA (q25_fare, q50_fare und q75_fare). Entferne anschließend die Attribute 'Age' und 'Fare'."
      ],
      "metadata": {
        "id": "0J7Umvspgx1C"
      }
    },
    {
      "cell_type": "code",
      "source": [],
      "metadata": {
        "id": "FLILR-0KC8_x"
      },
      "execution_count": null,
      "outputs": []
    },
    {
      "cell_type": "markdown",
      "source": [
        "### Strings in numerische Werte umwandeln\n",
        "In Machine-Learning-Projekten ist es oft erforderlich, Strings in numerische Werte umzuwandeln, da viele Algorithmen nur mit numerischen Werten arbeiten können."
      ],
      "metadata": {
        "id": "RW-VYnjW14xf"
      }
    },
    {
      "cell_type": "code",
      "source": [
        "df['Sex'].replace(['male','female'], [0, 1], inplace=True)"
      ],
      "metadata": {
        "id": "NzCPA09K2AoK"
      },
      "execution_count": null,
      "outputs": []
    },
    {
      "cell_type": "markdown",
      "source": [
        "**Aufgabe:** Konvertiere die Werte der Spalte 'Embarked' in numerische Werte."
      ],
      "metadata": {
        "id": "7mf9ru8WgI-i"
      }
    },
    {
      "cell_type": "code",
      "source": [],
      "metadata": {
        "id": "u4l2q7mnC-m2"
      },
      "execution_count": null,
      "outputs": []
    },
    {
      "cell_type": "markdown",
      "source": [
        "### Weitere unwichtigen Attribute entfernen"
      ],
      "metadata": {
        "id": "N29HHFuj2cJV"
      }
    },
    {
      "cell_type": "markdown",
      "source": [
        "**Aufgabe:** Die Attribute 'Name', 'Ticket' und 'PassengerId' erscheinen irrelevant. Bitte entferne diese."
      ],
      "metadata": {
        "id": "IKiLLbd-g8nr"
      }
    },
    {
      "cell_type": "code",
      "source": [],
      "metadata": {
        "id": "e9lqWUuJDBlw"
      },
      "execution_count": null,
      "outputs": []
    },
    {
      "cell_type": "markdown",
      "source": [
        "----\n",
        "## Predictive Modeling\n",
        "In diesem Abschnitt konzentrieren wir uns auf das prädiktive Modellieren. Dabei verwenden wir unser DataFrame 'df', um unsere Feature-Variablen 'X' und die Zielvariable 'y' zu erstellen, wobei 'y' die zu prognostizierende Spalte 'Sex' darstellt. Nachdem wir unsere Daten in Trainings- und Testsets unterteilt haben, trainieren wir ein LogisticRegression-Modell und evaluieren dessen Leistung anhand von Accuracy (Genauigkeit) und ROC AUC (Area under the curve)."
      ],
      "metadata": {
        "id": "czwwbH01Zz0p"
      }
    },
    {
      "cell_type": "code",
      "source": [
        "# Hier wird die Spalte 'Sex' aus dem DataFrame 'df' entfernt und der resultierende DataFrame in 'X' gespeichert.\n",
        "# 'X' enthält somit alle Feature-Variablen, die für die Vorhersage verwendet werden sollen.\n",
        "X = df.drop('Sex', axis=1)\n",
        "\n",
        "# 'y' wird als die Zielvariable definiert und enthält die Werte der Spalte 'Sex' aus 'df'.\n",
        "# Dies ist die Variable, die wir mit unserem Modell vorhersagen möchten.\n",
        "y = df['Sex']"
      ],
      "metadata": {
        "id": "t969vehWbG-0"
      },
      "execution_count": null,
      "outputs": []
    },
    {
      "cell_type": "code",
      "source": [
        "# Mit Hilfe der 'train_test_split'-Funktion wird der Datensatz in Trainings- und Testdaten unterteilt.\n",
        "# 'random_state=42' stellt sicher, dass die Aufteilung reproduzierbar ist (seed).\n",
        "# 'stratify=y' sorgt dafür, dass die Aufteilung der Daten in Training und Test die gleiche Verteilung der Zielvariable 'Survived' beibehält.\n",
        "xtrain, xtest, ytrain, ytest = train_test_split(X, y, random_state=42, stratify=y)"
      ],
      "metadata": {
        "id": "kEZ-uzF8bc_O"
      },
      "execution_count": null,
      "outputs": []
    },
    {
      "cell_type": "code",
      "source": [
        "# Hier wird ein Modell mit der Klasse LogisticRegression erstellt.\n",
        "# Die Funktion .fit() sorgt dann dafür, dass unser Modell trainiert wird.\n",
        "model = LogisticRegression()\n",
        "model.fit(xtrain, ytrain)"
      ],
      "metadata": {
        "id": "sTZhEPiqbvjO"
      },
      "execution_count": null,
      "outputs": []
    },
    {
      "cell_type": "code",
      "source": [
        "# Die Genauigkeit (Accuracy) / ROC AUC des Modells auf dem Testdatensatz wird berechnet und ausgegeben.\n",
        "print('Accuracy: ', accuracy_score(model.predict(xtest), ytest))\n",
        "print('ROC AUC: ', roc_auc_score(ytest, model.predict_proba(xtest)[:, 1]))"
      ],
      "metadata": {
        "id": "M4HCQv4De3Vt"
      },
      "execution_count": null,
      "outputs": []
    },
    {
      "cell_type": "markdown",
      "source": [
        "**Aufgabe:** Wiederhole den Teil 'Predictive Modeling' mit dem Attribut 'Survived' als Zielvariable (y)"
      ],
      "metadata": {
        "id": "0SnAONE7kaYx"
      }
    },
    {
      "cell_type": "code",
      "source": [],
      "metadata": {
        "id": "xlDXJ4UdDEQO"
      },
      "execution_count": null,
      "outputs": []
    }
  ]
}