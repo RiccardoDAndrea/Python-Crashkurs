{
 "cells": [
  {
   "cell_type": "markdown",
   "metadata": {},
   "source": [
    "# 1. Empirisches Projekt\n",
    "---\n",
    "### **Skript zu Daten Manipulation, Visulallisierung und zur Regressions Analyse**\n",
    "\n",
    "Dieses Sktipt soll euch helfen eine Datenanalyse sowie eine Regression aufzubauen.\n",
    "-> Falls ihr fragen habt bitte sagt mir bescheid ich helfe gerne aus!\n",
    "\n",
    "Für die Datenanalyse kann als unterstützung der Leitfaden \"Leitfaden.ipynbn\" als unterstützung genutzt werden.\n",
    "Ab Punkt 2. wird erklärt wie Libaries installiert werden und wie die Daten eingelesen werden können. Sowie weitere Schritte zur Datenanalyse."
   ]
  },
  {
   "cell_type": "code",
   "execution_count": null,
   "metadata": {},
   "outputs": [],
   "source": [
    "import os\n",
    "if not os.path.exists(\"Data\"):\n",
    "    print(\"Ordner Data erstellt\")\n",
    "    os.makedirs(\"Data\") \n",
    "elif os.path.exists(\"Data\"):\n",
    "    print(\"Ordner Data ist bereits vorhanden\")\n",
    "\n",
    "# Erstellt dir ein Ordner wo du deine Daten speichern kannst"
   ]
  },
  {
   "cell_type": "markdown",
   "metadata": {},
   "source": [
    "### Füge hier alle benötigten Libaries ein:\n",
    "---"
   ]
  },
  {
   "cell_type": "code",
   "execution_count": null,
   "metadata": {},
   "outputs": [],
   "source": [
    "import importlib\n",
    "import subprocess\n",
    "import sys\n",
    "\n",
    "def install_and_import(package):\n",
    "    try:\n",
    "        # Überprüfen, ob das Paket bereits installiert ist\n",
    "        importlib.import_module(package)\n",
    "        print(f\"'{package}' ist bereits installiert.\")\n",
    "    except ImportError:\n",
    "        # Falls das Paket nicht installiert ist, wird es installiert\n",
    "        print(f\"'{package}' wird installiert.\")\n",
    "        subprocess.check_call([sys.executable, \"-m\", \"pip\", \"install\", package])\n",
    "\n",
    "\n",
    "install_and_import('scipy')  # Ersetzt 'numpy' mit dem gewünschten Paketnamen"
   ]
  },
  {
   "cell_type": "markdown",
   "metadata": {},
   "source": [
    "## Manuelle Installation \n",
    "---"
   ]
  },
  {
   "cell_type": "code",
   "execution_count": 151,
   "metadata": {},
   "outputs": [],
   "source": [
    "# %pip install pandas\n",
    "# %pip install matplotlib\n",
    "# %pip install seaborn\n",
    "# %pip install scikit-learn\n"
   ]
  },
  {
   "cell_type": "code",
   "execution_count": 1,
   "metadata": {},
   "outputs": [],
   "source": [
    "import pandas as pd\n",
    "import matplotlib.pyplot as plt\n",
    "import sklearn as sk\n",
    "import seaborn as sns\n",
    "import numpy as np"
   ]
  },
  {
   "cell_type": "markdown",
   "metadata": {},
   "source": [
    "#### Lese hier deine Daten ein:\n",
    "---\n",
    "\n",
    "gebe dazu in den \"`Path to your file\"` wo deine Datei liegt, sowie den passenden Seprator"
   ]
  },
  {
   "cell_type": "code",
   "execution_count": 7,
   "metadata": {},
   "outputs": [],
   "source": [
    "df = pd.read_csv(\"Data/wage.csv\", sep=';')\n",
    "#df['metro'] = df['metro'].astype('category')"
   ]
  },
  {
   "cell_type": "markdown",
   "metadata": {},
   "source": [
    "#### Begutachte deine Daten:"
   ]
  },
  {
   "cell_type": "code",
   "execution_count": 8,
   "metadata": {},
   "outputs": [
    {
     "data": {
      "text/html": [
       "<div>\n",
       "<style scoped>\n",
       "    .dataframe tbody tr th:only-of-type {\n",
       "        vertical-align: middle;\n",
       "    }\n",
       "\n",
       "    .dataframe tbody tr th {\n",
       "        vertical-align: top;\n",
       "    }\n",
       "\n",
       "    .dataframe thead th {\n",
       "        text-align: right;\n",
       "    }\n",
       "</style>\n",
       "<table border=\"1\" class=\"dataframe\">\n",
       "  <thead>\n",
       "    <tr style=\"text-align: right;\">\n",
       "      <th></th>\n",
       "      <th>wage</th>\n",
       "      <th>educ</th>\n",
       "      <th>exper</th>\n",
       "      <th>metro</th>\n",
       "    </tr>\n",
       "  </thead>\n",
       "  <tbody>\n",
       "    <tr>\n",
       "      <th>0</th>\n",
       "      <td>2.07</td>\n",
       "      <td>12</td>\n",
       "      <td>7</td>\n",
       "      <td>1</td>\n",
       "    </tr>\n",
       "    <tr>\n",
       "      <th>1</th>\n",
       "      <td>2.12</td>\n",
       "      <td>12</td>\n",
       "      <td>35</td>\n",
       "      <td>1</td>\n",
       "    </tr>\n",
       "    <tr>\n",
       "      <th>2</th>\n",
       "      <td>2.54</td>\n",
       "      <td>16</td>\n",
       "      <td>20</td>\n",
       "      <td>1</td>\n",
       "    </tr>\n",
       "    <tr>\n",
       "      <th>3</th>\n",
       "      <td>2.68</td>\n",
       "      <td>12</td>\n",
       "      <td>24</td>\n",
       "      <td>1</td>\n",
       "    </tr>\n",
       "    <tr>\n",
       "      <th>4</th>\n",
       "      <td>3.09</td>\n",
       "      <td>13</td>\n",
       "      <td>4</td>\n",
       "      <td>1</td>\n",
       "    </tr>\n",
       "  </tbody>\n",
       "</table>\n",
       "</div>"
      ],
      "text/plain": [
       "   wage  educ  exper  metro\n",
       "0  2.07    12      7      1\n",
       "1  2.12    12     35      1\n",
       "2  2.54    16     20      1\n",
       "3  2.68    12     24      1\n",
       "4  3.09    13      4      1"
      ]
     },
     "execution_count": 8,
     "metadata": {},
     "output_type": "execute_result"
    }
   ],
   "source": [
    "# gebe dir die ersten 5 reihen des Datensatzes aus:\n",
    "df.head()"
   ]
  },
  {
   "cell_type": "code",
   "execution_count": 4,
   "metadata": {},
   "outputs": [
    {
     "name": "stdout",
     "output_type": "stream",
     "text": [
      "<class 'pandas.core.frame.DataFrame'>\n",
      "RangeIndex: 998 entries, 0 to 997\n",
      "Data columns (total 4 columns):\n",
      " #   Column  Non-Null Count  Dtype   \n",
      "---  ------  --------------  -----   \n",
      " 0   wage    998 non-null    float64 \n",
      " 1   educ    998 non-null    int64   \n",
      " 2   exper   998 non-null    int64   \n",
      " 3   metro   998 non-null    category\n",
      "dtypes: category(1), float64(1), int64(2)\n",
      "memory usage: 24.6 KB\n"
     ]
    }
   ],
   "source": [
    "df.info()"
   ]
  },
  {
   "cell_type": "code",
   "execution_count": null,
   "metadata": {},
   "outputs": [],
   "source": [
    "Reihen, Spalten = df.shape\n",
    "\n",
    "# gebe die Anzahl der Reihen und Spalten aus:\n",
    "print(\"Anzahl der Reihen: \", Reihen)\n",
    "print(\"Anzahl der Spalten: \", Spalten)"
   ]
  },
  {
   "cell_type": "markdown",
   "metadata": {},
   "source": [
    "Im folgenden Code wirst du eine Statitische Zusammenfassung des Datensatzes erhalten.\n",
    "Nimm dir eigene Minuten Zeit dein Daten satz zu analysieren und die wichtigsten Informationen herauszufinden.\n",
    "\n",
    "- Hinterfrage deine Daten und versuche Zusammenhänge zu finden."
   ]
  },
  {
   "cell_type": "code",
   "execution_count": 10,
   "metadata": {},
   "outputs": [
    {
     "data": {
      "text/html": [
       "<div>\n",
       "<style scoped>\n",
       "    .dataframe tbody tr th:only-of-type {\n",
       "        vertical-align: middle;\n",
       "    }\n",
       "\n",
       "    .dataframe tbody tr th {\n",
       "        vertical-align: top;\n",
       "    }\n",
       "\n",
       "    .dataframe thead th {\n",
       "        text-align: right;\n",
       "    }\n",
       "</style>\n",
       "<table border=\"1\" class=\"dataframe\">\n",
       "  <thead>\n",
       "    <tr style=\"text-align: right;\">\n",
       "      <th></th>\n",
       "      <th>wage</th>\n",
       "      <th>educ</th>\n",
       "      <th>exper</th>\n",
       "      <th>metro</th>\n",
       "    </tr>\n",
       "  </thead>\n",
       "  <tbody>\n",
       "    <tr>\n",
       "      <th>count</th>\n",
       "      <td>998.000</td>\n",
       "      <td>998.000</td>\n",
       "      <td>998.000</td>\n",
       "      <td>998.000</td>\n",
       "    </tr>\n",
       "    <tr>\n",
       "      <th>mean</th>\n",
       "      <td>10.228</td>\n",
       "      <td>13.287</td>\n",
       "      <td>18.794</td>\n",
       "      <td>0.809</td>\n",
       "    </tr>\n",
       "    <tr>\n",
       "      <th>std</th>\n",
       "      <td>6.244</td>\n",
       "      <td>2.470</td>\n",
       "      <td>11.317</td>\n",
       "      <td>0.394</td>\n",
       "    </tr>\n",
       "    <tr>\n",
       "      <th>min</th>\n",
       "      <td>2.070</td>\n",
       "      <td>1.000</td>\n",
       "      <td>0.000</td>\n",
       "      <td>0.000</td>\n",
       "    </tr>\n",
       "    <tr>\n",
       "      <th>25%</th>\n",
       "      <td>5.530</td>\n",
       "      <td>12.000</td>\n",
       "      <td>10.000</td>\n",
       "      <td>1.000</td>\n",
       "    </tr>\n",
       "    <tr>\n",
       "      <th>50%</th>\n",
       "      <td>8.825</td>\n",
       "      <td>13.000</td>\n",
       "      <td>18.000</td>\n",
       "      <td>1.000</td>\n",
       "    </tr>\n",
       "    <tr>\n",
       "      <th>75%</th>\n",
       "      <td>12.840</td>\n",
       "      <td>16.000</td>\n",
       "      <td>26.000</td>\n",
       "      <td>1.000</td>\n",
       "    </tr>\n",
       "    <tr>\n",
       "      <th>max</th>\n",
       "      <td>60.190</td>\n",
       "      <td>18.000</td>\n",
       "      <td>52.000</td>\n",
       "      <td>1.000</td>\n",
       "    </tr>\n",
       "  </tbody>\n",
       "</table>\n",
       "</div>"
      ],
      "text/plain": [
       "          wage     educ    exper    metro\n",
       "count  998.000  998.000  998.000  998.000\n",
       "mean    10.228   13.287   18.794    0.809\n",
       "std      6.244    2.470   11.317    0.394\n",
       "min      2.070    1.000    0.000    0.000\n",
       "25%      5.530   12.000   10.000    1.000\n",
       "50%      8.825   13.000   18.000    1.000\n",
       "75%     12.840   16.000   26.000    1.000\n",
       "max     60.190   18.000   52.000    1.000"
      ]
     },
     "execution_count": 10,
     "metadata": {},
     "output_type": "execute_result"
    }
   ],
   "source": [
    "df.describe().round(3)\n",
    "\n",
    "\n",
    "# save output of the describtion as a text file\n",
    "# with open('Regression_Output/out.txt', 'w') as f:\n",
    "#     f.write(df.describe().round(2).to_string()) "
   ]
  },
  {
   "cell_type": "markdown",
   "metadata": {},
   "source": [
    "Solltest du im folgenden mehrere NaN values haben, wähle eine der folgenden Optionen:\n",
    "1. Lösche die Zeilen mit NaN values\n",
    "2. Fülle die NaN values mit einem Wert deiner Wahl\n",
    "3. Fülle die NaN values mit dem Durchschnittswert der Spalte (mean, mode, median)"
   ]
  },
  {
   "cell_type": "code",
   "execution_count": null,
   "metadata": {},
   "outputs": [],
   "source": [
    "df.isnull().sum()"
   ]
  },
  {
   "cell_type": "code",
   "execution_count": 158,
   "metadata": {},
   "outputs": [],
   "source": [
    "# Lösche die Zeilen mit NaN values \n",
    "#df = df.dropna()\n",
    "\n",
    "# Fülle die NaN values mit einem Wert deiner Wahl\n",
    "#df = df.fillna()\n",
    "\n",
    "# Fülle die NaN values mit dem Durchschnittswert der Spalte\n",
    "#df[\"wage\"]= df[\"wage\"].fillna(df[\"wage\"].mean()) # nur eine Spalte werden die Daten ersetzt\n",
    "#df = df.fillna(df.mean()) #<- mean(), mode(), median() / Alle Spalten werden ersetzt"
   ]
  },
  {
   "cell_type": "markdown",
   "metadata": {},
   "source": [
    "## Filterung der Daten"
   ]
  },
  {
   "cell_type": "markdown",
   "metadata": {},
   "source": [
    "weitere Informationen findest du im Leitfaden\n",
    "Daten filterung:"
   ]
  },
  {
   "cell_type": "markdown",
   "metadata": {},
   "source": [
    "1. Filterung nach einer Kondition:\n",
    "\n",
    "`df_filtered = df[df[\"wage\"] > 12.00]`"
   ]
  },
  {
   "cell_type": "code",
   "execution_count": null,
   "metadata": {},
   "outputs": [],
   "source": [
    "df_filtered = df[df[\"wage\"] > 12]\n",
    "df_filtered"
   ]
  },
  {
   "cell_type": "markdown",
   "metadata": {},
   "source": [
    "2. Filterung mit mehreren Kondition \n",
    "\n",
    "`df_filtered_educ = df[(df[\"wage\"] > 12.00) & (df[\"educ\"] == 12)]`"
   ]
  },
  {
   "cell_type": "code",
   "execution_count": null,
   "metadata": {},
   "outputs": [],
   "source": [
    "df_filtered_educ = df[(df[\"wage\"] > 12.00) & \n",
    "                      (df[\"educ\"] == 12) & \n",
    "                      (df[\"metro\"] == 0) &\n",
    "                      (df[\"exper\"] > 1) ] # Beachte das du nun deine gewünschte Spalten namen hinzufügen musst\n",
    "df_filtered_educ"
   ]
  },
  {
   "cell_type": "markdown",
   "metadata": {},
   "source": [
    "# Visualisierungen:"
   ]
  },
  {
   "cell_type": "markdown",
   "metadata": {},
   "source": [
    "## Histogramm\n",
    "---"
   ]
  },
  {
   "cell_type": "code",
   "execution_count": null,
   "metadata": {},
   "outputs": [],
   "source": [
    "sns.histplot(data=df, x=\"wage\", bins=30)\n",
    "plt.xlabel(\"Lohn\")\n",
    "plt.ylabel(\"Anzahl\")\n",
    "plt.title(\"Histogramm des Lohns\")\n",
    "# plt.savefig(\"Vis/Title_\") # speicher die Visualisierung"
   ]
  },
  {
   "cell_type": "markdown",
   "metadata": {},
   "source": [
    "### Korrelations Matrix\n",
    "---\n",
    "Folgenden Methoden sind möglich: `pearson, kendall, spearman`"
   ]
  },
  {
   "cell_type": "code",
   "execution_count": null,
   "metadata": {},
   "outputs": [],
   "source": [
    "sns.heatmap(df.corr(method = \"pearson\", numeric_only=True), annot=True) \n",
    "# in \"method\" kann du folgenden Mehthoden aussuchen pearson, kendall, spearman\n",
    "# plt.savefig(\"Vis/Title_\")"
   ]
  },
  {
   "cell_type": "markdown",
   "metadata": {},
   "source": [
    "## Scatterplot\n",
    "---"
   ]
  },
  {
   "cell_type": "code",
   "execution_count": null,
   "metadata": {},
   "outputs": [],
   "source": [
    "sns.scatterplot(data=df, x=\"exper\", y=\"wage\", alpha=0.5) # alpha fügt transparenz hinzu\n",
    "plt.xlabel(\"Erfahrung\")\n",
    "plt.ylabel(\"Lohn\")\n",
    "plt.title(\"Scatterplot von Erfahrung und Lohn\")\n",
    "# plt.savefig(\"Vis/Title_\") "
   ]
  },
  {
   "cell_type": "markdown",
   "metadata": {},
   "source": [
    "## Balkendiagramm\n",
    "---"
   ]
  },
  {
   "cell_type": "code",
   "execution_count": null,
   "metadata": {},
   "outputs": [],
   "source": [
    "sns.barplot(data=df, x=\"metro\", y=\"wage\")\n",
    "plt.xlabel(\"Metro\")\n",
    "plt.ylabel(\"Lohn\")\n",
    "plt.title(\"Metro und Lohn\")\n",
    "# plt.savefig(\"Vis/Title_\")"
   ]
  },
  {
   "cell_type": "markdown",
   "metadata": {},
   "source": [
    "## Regressions Analyse"
   ]
  },
  {
   "cell_type": "code",
   "execution_count": 165,
   "metadata": {},
   "outputs": [],
   "source": [
    "import statsmodels.api as sm\n",
    "import sklearn as sk\n",
    "from sklearn.metrics import mean_squared_error, r2_score\n",
    "from sklearn.linear_model import LinearRegression"
   ]
  },
  {
   "cell_type": "markdown",
   "metadata": {},
   "source": [
    "## Lege deine Abhängige und Unabhänige Varaible fest"
   ]
  },
  {
   "cell_type": "code",
   "execution_count": 166,
   "metadata": {},
   "outputs": [],
   "source": [
    "X = df[[\"educ\", \"exper\", \"metro\"]]\n",
    "y = df[\"wage\"]"
   ]
  },
  {
   "cell_type": "markdown",
   "metadata": {},
   "source": [
    "### Erstelle deine Regression:\n",
    "1. Möglichkeit:"
   ]
  },
  {
   "cell_type": "code",
   "execution_count": null,
   "metadata": {},
   "outputs": [],
   "source": [
    "X = sm.add_constant(X)\n",
    "model_stats = sm.OLS(y, X)\n",
    "model = model_stats.fit()\n",
    "\n",
    "print(model.summary())\n",
    "\n",
    "\n",
    "with open('Regression_Output/summary.txt', 'w') as fh:\n",
    "    fh.write(model.summary().as_text()) # Speicher dein Regressions Ergebnis in einer Text Datei in dem Odner Regression Output"
   ]
  },
  {
   "cell_type": "code",
   "execution_count": null,
   "metadata": {},
   "outputs": [],
   "source": [
    "parameter = model.params\n",
    "parameter"
   ]
  },
  {
   "cell_type": "markdown",
   "metadata": {},
   "source": [
    "Formel: y_hat = intercept + b1 * educ + b1 * exper + b1 * educ + b1 * metro"
   ]
  },
  {
   "cell_type": "code",
   "execution_count": null,
   "metadata": {},
   "outputs": [],
   "source": [
    "educ = 0\n",
    "exper = 0\n",
    "metro = 0\n",
    "\n",
    "y_hat = parameter[0] + parameter[1] * educ + parameter[2] * exper + parameter[3] + metro\n",
    "\n",
    "y_hat"
   ]
  },
  {
   "cell_type": "markdown",
   "metadata": {},
   "source": [
    "### 2. Möglicheit die mehr an R erinnert:"
   ]
  },
  {
   "cell_type": "code",
   "execution_count": 11,
   "metadata": {},
   "outputs": [
    {
     "data": {
      "text/html": [
       "<table class=\"simpletable\">\n",
       "<caption>OLS Regression Results</caption>\n",
       "<tr>\n",
       "  <th>Dep. Variable:</th>          <td>wage</td>       <th>  R-squared:         </th> <td>   0.266</td>\n",
       "</tr>\n",
       "<tr>\n",
       "  <th>Model:</th>                   <td>OLS</td>       <th>  Adj. R-squared:    </th> <td>   0.264</td>\n",
       "</tr>\n",
       "<tr>\n",
       "  <th>Method:</th>             <td>Least Squares</td>  <th>  F-statistic:       </th> <td>   120.2</td>\n",
       "</tr>\n",
       "<tr>\n",
       "  <th>Date:</th>             <td>Thu, 26 Sep 2024</td> <th>  Prob (F-statistic):</th> <td>2.06e-66</td>\n",
       "</tr>\n",
       "<tr>\n",
       "  <th>Time:</th>                 <td>15:37:12</td>     <th>  Log-Likelihood:    </th> <td> -3089.0</td>\n",
       "</tr>\n",
       "<tr>\n",
       "  <th>No. Observations:</th>      <td>   998</td>      <th>  AIC:               </th> <td>   6186.</td>\n",
       "</tr>\n",
       "<tr>\n",
       "  <th>Df Residuals:</th>          <td>   994</td>      <th>  BIC:               </th> <td>   6206.</td>\n",
       "</tr>\n",
       "<tr>\n",
       "  <th>Df Model:</th>              <td>     3</td>      <th>                     </th>     <td> </td>   \n",
       "</tr>\n",
       "<tr>\n",
       "  <th>Covariance Type:</th>      <td>nonrobust</td>    <th>                     </th>     <td> </td>   \n",
       "</tr>\n",
       "</table>\n",
       "<table class=\"simpletable\">\n",
       "<tr>\n",
       "      <td></td>         <th>coef</th>     <th>std err</th>      <th>t</th>      <th>P>|t|</th>  <th>[0.025</th>    <th>0.975]</th>  \n",
       "</tr>\n",
       "<tr>\n",
       "  <th>Intercept</th> <td>   -9.8581</td> <td>    1.077</td> <td>   -9.154</td> <td> 0.000</td> <td>  -11.971</td> <td>   -7.745</td>\n",
       "</tr>\n",
       "<tr>\n",
       "  <th>educ</th>      <td>    1.2322</td> <td>    0.070</td> <td>   17.609</td> <td> 0.000</td> <td>    1.095</td> <td>    1.369</td>\n",
       "</tr>\n",
       "<tr>\n",
       "  <th>exper</th>     <td>    0.1327</td> <td>    0.015</td> <td>    8.703</td> <td> 0.000</td> <td>    0.103</td> <td>    0.163</td>\n",
       "</tr>\n",
       "<tr>\n",
       "  <th>metro</th>     <td>    1.5091</td> <td>    0.432</td> <td>    3.493</td> <td> 0.000</td> <td>    0.661</td> <td>    2.357</td>\n",
       "</tr>\n",
       "</table>\n",
       "<table class=\"simpletable\">\n",
       "<tr>\n",
       "  <th>Omnibus:</th>       <td>412.972</td> <th>  Durbin-Watson:     </th> <td>   0.501</td>\n",
       "</tr>\n",
       "<tr>\n",
       "  <th>Prob(Omnibus):</th> <td> 0.000</td>  <th>  Jarque-Bera (JB):  </th> <td>2861.174</td>\n",
       "</tr>\n",
       "<tr>\n",
       "  <th>Skew:</th>          <td> 1.744</td>  <th>  Prob(JB):          </th> <td>    0.00</td>\n",
       "</tr>\n",
       "<tr>\n",
       "  <th>Kurtosis:</th>      <td>10.526</td>  <th>  Cond. No.          </th> <td>    160.</td>\n",
       "</tr>\n",
       "</table><br/><br/>Notes:<br/>[1] Standard Errors assume that the covariance matrix of the errors is correctly specified."
      ],
      "text/latex": [
       "\\begin{center}\n",
       "\\begin{tabular}{lclc}\n",
       "\\toprule\n",
       "\\textbf{Dep. Variable:}    &       wage       & \\textbf{  R-squared:         } &     0.266   \\\\\n",
       "\\textbf{Model:}            &       OLS        & \\textbf{  Adj. R-squared:    } &     0.264   \\\\\n",
       "\\textbf{Method:}           &  Least Squares   & \\textbf{  F-statistic:       } &     120.2   \\\\\n",
       "\\textbf{Date:}             & Thu, 26 Sep 2024 & \\textbf{  Prob (F-statistic):} &  2.06e-66   \\\\\n",
       "\\textbf{Time:}             &     15:37:12     & \\textbf{  Log-Likelihood:    } &   -3089.0   \\\\\n",
       "\\textbf{No. Observations:} &         998      & \\textbf{  AIC:               } &     6186.   \\\\\n",
       "\\textbf{Df Residuals:}     &         994      & \\textbf{  BIC:               } &     6206.   \\\\\n",
       "\\textbf{Df Model:}         &           3      & \\textbf{                     } &             \\\\\n",
       "\\textbf{Covariance Type:}  &    nonrobust     & \\textbf{                     } &             \\\\\n",
       "\\bottomrule\n",
       "\\end{tabular}\n",
       "\\begin{tabular}{lcccccc}\n",
       "                   & \\textbf{coef} & \\textbf{std err} & \\textbf{t} & \\textbf{P$> |$t$|$} & \\textbf{[0.025} & \\textbf{0.975]}  \\\\\n",
       "\\midrule\n",
       "\\textbf{Intercept} &      -9.8581  &        1.077     &    -9.154  &         0.000        &      -11.971    &       -7.745     \\\\\n",
       "\\textbf{educ}      &       1.2322  &        0.070     &    17.609  &         0.000        &        1.095    &        1.369     \\\\\n",
       "\\textbf{exper}     &       0.1327  &        0.015     &     8.703  &         0.000        &        0.103    &        0.163     \\\\\n",
       "\\textbf{metro}     &       1.5091  &        0.432     &     3.493  &         0.000        &        0.661    &        2.357     \\\\\n",
       "\\bottomrule\n",
       "\\end{tabular}\n",
       "\\begin{tabular}{lclc}\n",
       "\\textbf{Omnibus:}       & 412.972 & \\textbf{  Durbin-Watson:     } &    0.501  \\\\\n",
       "\\textbf{Prob(Omnibus):} &   0.000 & \\textbf{  Jarque-Bera (JB):  } & 2861.174  \\\\\n",
       "\\textbf{Skew:}          &   1.744 & \\textbf{  Prob(JB):          } &     0.00  \\\\\n",
       "\\textbf{Kurtosis:}      &  10.526 & \\textbf{  Cond. No.          } &     160.  \\\\\n",
       "\\bottomrule\n",
       "\\end{tabular}\n",
       "%\\caption{OLS Regression Results}\n",
       "\\end{center}\n",
       "\n",
       "Notes: \\newline\n",
       " [1] Standard Errors assume that the covariance matrix of the errors is correctly specified."
      ],
      "text/plain": [
       "<class 'statsmodels.iolib.summary.Summary'>\n",
       "\"\"\"\n",
       "                            OLS Regression Results                            \n",
       "==============================================================================\n",
       "Dep. Variable:                   wage   R-squared:                       0.266\n",
       "Model:                            OLS   Adj. R-squared:                  0.264\n",
       "Method:                 Least Squares   F-statistic:                     120.2\n",
       "Date:                Thu, 26 Sep 2024   Prob (F-statistic):           2.06e-66\n",
       "Time:                        15:37:12   Log-Likelihood:                -3089.0\n",
       "No. Observations:                 998   AIC:                             6186.\n",
       "Df Residuals:                     994   BIC:                             6206.\n",
       "Df Model:                           3                                         \n",
       "Covariance Type:            nonrobust                                         \n",
       "==============================================================================\n",
       "                 coef    std err          t      P>|t|      [0.025      0.975]\n",
       "------------------------------------------------------------------------------\n",
       "Intercept     -9.8581      1.077     -9.154      0.000     -11.971      -7.745\n",
       "educ           1.2322      0.070     17.609      0.000       1.095       1.369\n",
       "exper          0.1327      0.015      8.703      0.000       0.103       0.163\n",
       "metro          1.5091      0.432      3.493      0.000       0.661       2.357\n",
       "==============================================================================\n",
       "Omnibus:                      412.972   Durbin-Watson:                   0.501\n",
       "Prob(Omnibus):                  0.000   Jarque-Bera (JB):             2861.174\n",
       "Skew:                           1.744   Prob(JB):                         0.00\n",
       "Kurtosis:                      10.526   Cond. No.                         160.\n",
       "==============================================================================\n",
       "\n",
       "Notes:\n",
       "[1] Standard Errors assume that the covariance matrix of the errors is correctly specified.\n",
       "\"\"\""
      ]
     },
     "execution_count": 11,
     "metadata": {},
     "output_type": "execute_result"
    }
   ],
   "source": [
    "from statsmodels.formula.api import ols \n",
    "linear_model = ols('wage ~ educ + exper + metro', \n",
    "                   data=df).fit()\n",
    "linear_model.summary()"
   ]
  },
  {
   "cell_type": "markdown",
   "metadata": {},
   "source": [
    "## Vorhersagen treffen:"
   ]
  },
  {
   "cell_type": "code",
   "execution_count": 15,
   "metadata": {},
   "outputs": [
    {
     "data": {
      "text/plain": [
       "0     7.366383\n",
       "1    11.082949\n",
       "2    14.020664\n",
       "3     9.622870\n",
       "4     8.200363\n",
       "dtype: float64"
      ]
     },
     "execution_count": 15,
     "metadata": {},
     "output_type": "execute_result"
    }
   ],
   "source": [
    "prediction = linear_model.predict(df[[\"educ\",\"exper\",\"metro\"]])\n",
    "prediction[:5] # Die ersten 5 Vohersagen, um alle zu sehen entferne die [:5]"
   ]
  },
  {
   "cell_type": "code",
   "execution_count": null,
   "metadata": {},
   "outputs": [],
   "source": [
    "sns.scatterplot(x=prediction, y=df[\"wage\"])\n",
    "plt.title(\"Tatsächliche Werte vs Vohergesagten Werte\")\n",
    "plt.xlabel(\"Tatsächliche Werte\")\n",
    "plt.ylabel(\"Vohergesagten Werte\")\n",
    "plt.savefig(\"Vis/Title_\")"
   ]
  },
  {
   "cell_type": "markdown",
   "metadata": {},
   "source": [
    "## Residuale \n",
    "---"
   ]
  },
  {
   "cell_type": "markdown",
   "metadata": {},
   "source": [
    "### Residuale berechen\n",
    "\n",
    "1. Möglichkeit durch eine eingbaute Funktion:"
   ]
  },
  {
   "cell_type": "code",
   "execution_count": 16,
   "metadata": {},
   "outputs": [
    {
     "data": {
      "text/plain": [
       "0      -5.296383\n",
       "1      -8.962949\n",
       "2     -11.480664\n",
       "3      -6.942870\n",
       "4      -5.110363\n",
       "         ...    \n",
       "993    18.536765\n",
       "994    24.544885\n",
       "995    28.493947\n",
       "996    28.743954\n",
       "997    44.443787\n",
       "Length: 998, dtype: float64"
      ]
     },
     "execution_count": 16,
     "metadata": {},
     "output_type": "execute_result"
    }
   ],
   "source": [
    "residuals = linear_model.resid\n",
    "residuals"
   ]
  },
  {
   "cell_type": "markdown",
   "metadata": {},
   "source": [
    "2. Möglichkeit eigene berechnung:"
   ]
  },
  {
   "cell_type": "code",
   "execution_count": null,
   "metadata": {},
   "outputs": [],
   "source": [
    "residuals_model = df[\"wage\"] - prediction # tatsächliche Werte - Vorhersagen\n",
    "residuals_model"
   ]
  },
  {
   "cell_type": "code",
   "execution_count": null,
   "metadata": {},
   "outputs": [],
   "source": [
    "SSResiduals = (residuals**2).sum()\n",
    "\n",
    "SSTotal = ((df[\"wage\"] - df[\"wage\"].mean())**2).sum()\n",
    "\n",
    "# R-squared\n",
    "1 - (SSResiduals/SSTotal)"
   ]
  },
  {
   "cell_type": "code",
   "execution_count": null,
   "metadata": {},
   "outputs": [],
   "source": [
    "# Vorhersagen (Predictions)\n",
    "predictions = linear_model.fittedvalues\n",
    "\n",
    "# Scatterplot der Vorhersagen gegen Residualen\n",
    "sns.scatterplot(x=predictions, y=residuals, alpha = 0.5)\n",
    "plt.title(\"Vorhersagen vs Residualen\")\n",
    "plt.axhline(y = 0, color = 'r', linestyle = '--') # fügt eine rote horziontale Linie hinzu\n",
    "plt.xlabel(\"Vorhersagen\")\n",
    "plt.ylabel(\"Residualen\")\n",
    "plt.savefig(\"Vis/Title_Residuals_vs_Predictions.png\")\n",
    "plt.show()\n"
   ]
  },
  {
   "cell_type": "code",
   "execution_count": null,
   "metadata": {},
   "outputs": [],
   "source": [
    "print(linear_model.fittedvalues.mean())\n",
    "print(linear_model.predict().mean())"
   ]
  },
  {
   "cell_type": "code",
   "execution_count": null,
   "metadata": {},
   "outputs": [],
   "source": [
    "sns.residplot(x=prediction, y=residuals)"
   ]
  },
  {
   "cell_type": "code",
   "execution_count": null,
   "metadata": {},
   "outputs": [],
   "source": [
    "model_residuals = model.resid\n",
    "sns.histplot(model_residuals, kde=True, bins=25)\n",
    "plt.savefig(\"Vis/Title_\")"
   ]
  },
  {
   "cell_type": "code",
   "execution_count": null,
   "metadata": {},
   "outputs": [],
   "source": [
    "linear_model"
   ]
  },
  {
   "cell_type": "markdown",
   "metadata": {},
   "source": [
    "## Simple Lineare Regression aufbauen\n",
    "---"
   ]
  },
  {
   "cell_type": "code",
   "execution_count": null,
   "metadata": {},
   "outputs": [],
   "source": [
    "sns.regplot(data = df, x=\"educ\", y =\"wage\")\n",
    "plt.savefig(\"Vis/Title_\")"
   ]
  },
  {
   "cell_type": "code",
   "execution_count": null,
   "metadata": {},
   "outputs": [],
   "source": [
    "sns.regplot(data = df, x=\"exper\", y =\"wage\", scatter_kws={'color': 'grey'}, line_kws={'color': 'red'})\n",
    "# plt.savefig(\"Vis/Title_\")"
   ]
  },
  {
   "cell_type": "code",
   "execution_count": null,
   "metadata": {},
   "outputs": [],
   "source": [
    "sns.regplot(data = df, x=\"metro\", y =\"wage\", scatter_kws={'color': 'grey'}, line_kws={'color': 'red'})\n",
    "\n",
    "# plt.savefig(\"Vis/Title_\")"
   ]
  },
  {
   "cell_type": "markdown",
   "metadata": {},
   "source": [
    "### Analysis of variance (Anova)"
   ]
  },
  {
   "cell_type": "code",
   "execution_count": 19,
   "metadata": {},
   "outputs": [
    {
     "name": "stdout",
     "output_type": "stream",
     "text": [
      "             df        sum_sq      mean_sq           F        PR(>F)\n",
      "educ        1.0   7864.802216  7864.802216  274.111805  1.465272e-54\n",
      "exper       1.0   2130.117614  2130.117614   74.240950  2.684887e-17\n",
      "metro       1.0    349.980991   349.980991   12.197881  4.994939e-04\n",
      "Residual  994.0  28519.798334    28.691950         NaN           NaN\n"
     ]
    }
   ],
   "source": [
    "import statsmodels.api as sm\n",
    "import statsmodels.formula.api as smf\n",
    "from statsmodels.stats.anova import anova_lm\n",
    "\n",
    "# Daten vorbereiten\n",
    "#df['metro'] = df['metro'].astype('category')  # Falls \"metro\" eine binäre Kategorie ist\n",
    "\n",
    "# Lineares Modell erstellen (OLS = Ordinary Least Squares)\n",
    "model = smf.ols('wage ~ educ + exper + metro', data=df).fit()\n",
    "\n",
    "# ANOVA-Test durchführen\n",
    "anova_results = anova_lm(model)  # Typ 2 ANOVA\n",
    "\n",
    "# Ergebnisse anzeigen\n",
    "print(anova_results)"
   ]
  },
  {
   "cell_type": "markdown",
   "metadata": {},
   "source": [
    "## Heteroskedasticity testen"
   ]
  },
  {
   "cell_type": "code",
   "execution_count": 200,
   "metadata": {},
   "outputs": [],
   "source": [
    "from statsmodels.stats.diagnostic import het_breuschpagan\n",
    "from statsmodels.stats.diagnostic import het_white\n",
    "from statsmodels.formula.api import ols\n"
   ]
  },
  {
   "cell_type": "code",
   "execution_count": null,
   "metadata": {},
   "outputs": [],
   "source": [
    "bp_lm, bp_lm_pvalue, bp_fvalue, bp_f_pvalue = sm.stats.diagnostic.het_breuschpagan(\n",
    "    linear_model.resid, linear_model.model.exog)\n",
    "\n",
    "\n",
    "print(f\"LM Statistic: {bp_lm}\")\n",
    "print(f\"LM p-value: {bp_lm_pvalue}\")\n",
    "print(f\"F Statistic: {bp_fvalue}\")\n",
    "print(f\"F p-value: {bp_f_pvalue}\")"
   ]
  },
  {
   "cell_type": "code",
   "execution_count": null,
   "metadata": {},
   "outputs": [],
   "source": [
    "ols = sm.OLS(y, X).fit(cov_type=\"HC1\")\n",
    "print(ols.summary())"
   ]
  },
  {
   "cell_type": "code",
   "execution_count": null,
   "metadata": {},
   "outputs": [],
   "source": [
    "import scipy.stats as stats\n",
    "plt.figure(figsize=(9,9))\n",
    "\n",
    " "
   ]
  }
 ],
 "metadata": {
  "kernelspec": {
   "display_name": "venv",
   "language": "python",
   "name": "python3"
  },
  "language_info": {
   "codemirror_mode": {
    "name": "ipython",
    "version": 3
   },
   "file_extension": ".py",
   "mimetype": "text/x-python",
   "name": "python",
   "nbconvert_exporter": "python",
   "pygments_lexer": "ipython3",
   "version": "3.10.9"
  }
 },
 "nbformat": 4,
 "nbformat_minor": 2
}
