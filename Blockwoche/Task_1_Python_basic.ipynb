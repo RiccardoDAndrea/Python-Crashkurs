{
 "cells": [
  {
   "cell_type": "markdown",
   "metadata": {},
   "source": [
    "# 1. Einführung in Python Basic Syntax.\n",
    "---\n",
    "Im Folgenden werden die Grundlagen der Python-Syntax erläutert.\n",
    "Dabei werden wir uns auf den Leitfaden beziehen und darauf die Fragen aufbauen."
   ]
  },
  {
   "cell_type": "markdown",
   "metadata": {},
   "source": [
    "## 1.1 Variablen\n",
    "Die erste Aufgabe besteht darin, Variablen zu definieren, die die folgenden Informationen enthalten:\n"
   ]
  },
  {
   "cell_type": "code",
   "execution_count": 87,
   "metadata": {},
   "outputs": [],
   "source": [
    "first_name = \"Hier ein Name einfügen\"\n",
    "last_name = \"Hier ein Nachname einfügen\""
   ]
  },
  {
   "cell_type": "code",
   "execution_count": null,
   "metadata": {},
   "outputs": [],
   "source": [
    "print(\"Hallo, mein Name ist\", first_name, last_name)"
   ]
  },
  {
   "cell_type": "markdown",
   "metadata": {},
   "source": [
    "*Erwarterter Output:*\n",
    "\n",
    "<span style=\"color:lightgray\"> **Hallo, mein Name ist Max Musterman** </span>"
   ]
  },
  {
   "cell_type": "markdown",
   "metadata": {},
   "source": [
    "## 1.2 Definere nun dein Alter in der Varaible `alter`"
   ]
  },
  {
   "cell_type": "code",
   "execution_count": null,
   "metadata": {},
   "outputs": [],
   "source": [
    "alter = \n",
    "\n",
    "print(\"Mein Name ist\" , first_name, last_name, \"und ich bin\", alter, \"Jahre alt\")"
   ]
  },
  {
   "cell_type": "markdown",
   "metadata": {},
   "source": [
    "*Erwarterter Output:*\n",
    "\n",
    "<span style=\"color:lightgray\"> Mein Name ist Max Mustermann und ich bin 20 Jahre alt </span>"
   ]
  },
  {
   "cell_type": "markdown",
   "metadata": {},
   "source": [
    "## 1.3 Kommentare\n",
    "\n",
    "Ersetzte den Kommentar nach den `#` und trage dein Wert der in der Variable gespeichert ist"
   ]
  },
  {
   "cell_type": "code",
   "execution_count": null,
   "metadata": {},
   "outputs": [],
   "source": [
    "print(first_name)  # was ist in der Variable first_name gespeichert? \n",
    "print(last_name)   # was ist in der Variable last_name gespeichert?\n",
    "print(alter)       # was ist in der Variable alter gespeichert?"
   ]
  },
  {
   "cell_type": "markdown",
   "metadata": {},
   "source": [
    "*Erwarterter Output:*\n",
    "\n",
    "\n",
    "<span style=\"color:lightgray\">**Max           # Max** </span>\n",
    "\n",
    "<span style=\"color:lightgray\">**Mustermann   # Musterman** </span>\n",
    "\n",
    "<span style=\"color:lightgray\">**20           # 20** </span>"
   ]
  },
  {
   "cell_type": "markdown",
   "metadata": {},
   "source": [
    "### 1.4 Datentypen\n",
    "Definiere im folgeden die Datentypen \n",
    "1. `Integer` , \n",
    "2. `Float`, \n",
    "3. `String`, \n",
    "4. `Boolean` \n",
    "\n",
    "in einer ***Variable***.\n",
    "Und **unter** der Variable eine kurze erklärung was der jeweilige Datentyp ist woran erkennst du Sie"
   ]
  },
  {
   "cell_type": "code",
   "execution_count": 5,
   "metadata": {},
   "outputs": [],
   "source": [
    "# int:\n",
    "\n",
    "\n",
    "# Erklärung: \n",
    "\n",
    "\n",
    "#-----------\n",
    "\n",
    "# float:\n",
    "\n",
    "\n",
    "# Erklärung:\n",
    "\n",
    "\n",
    "#-----------\n",
    "# str: \n",
    "\n",
    "\n",
    "# Erklärung:\n",
    "\n",
    "\n",
    "#-----------\n",
    "# bool:\n",
    "\n",
    "\n",
    "# Erklärung:\n",
    "\n",
    "\n",
    "#-----------"
   ]
  },
  {
   "cell_type": "markdown",
   "metadata": {},
   "source": [
    "## 1.5 Rechen Operationen:\n",
    "Führe folgende Mathematische Operation durch speicher das Ergebnis bitte immer in einer neuen Variable:\n",
    "\n",
    "*Auf dein Sparkonte sind 1.000 €, auf dein Depot sind weitere 10.000 €. Du schuldest ein Freund 200 €.\n",
    "Führe mit den gegeben Information Rechen operation durch.*\n",
    "\n",
    "1. **Addition:** Berechne dein Gesamtvermögen, indem du dein Sparkonto und dein Depot zusammenzählst. \n",
    "\n",
    "2. **Subtraktion:** Berechne dein Nettovermögen (Gesamtvermögen abzgl. Schulden), indem du deine Schulden von deinem Gesamtvermögen abziehst.\n",
    "\n",
    "3. **Multiplikation:** Berechne, wie viel Prozent deiner Schulden dein Gesamtvermögen ausmachen. Dazu multiplizierst du den Anteil deiner Schulden am Gesamtvermögen mit 100.\n",
    "\n",
    "4. **Division:**\n",
    "Du hast 1.000 € auf deinem Sparkonto und möchtest das Geld gleichmäßig auf 4 Monate verteilen. Wie viel Geld kannst du jeden Monat ausgeben?\n",
    "\n"
   ]
  },
  {
   "cell_type": "code",
   "execution_count": 6,
   "metadata": {},
   "outputs": [],
   "source": [
    "Sparkonto = 1_000\n",
    "Depot = 10_000\n",
    "Verschuldung = 200\n"
   ]
  },
  {
   "cell_type": "markdown",
   "metadata": {},
   "source": [
    "Erstelle drei Listen (list):\n",
    "\n",
    "- Die erste Liste soll Länder enthalten als Strings (str).\n",
    "    - Deutschland, Frankreich, Italien\n",
    "\n",
    "- Die zweite Liste soll das BIP enthalten als Integers (int). \n",
    "    -  z.B Werte : 3800, 2700, 2000\n",
    "\n",
    "- Die dritte Liste soll die Jahre enthalten als Integers (int). \n",
    "    - 2021, 2022, 2023\n",
    "\n",
    "Wähle für alle Listen den passenden `Datentypen` aus. Und sei bereit sie kurz zu erklären."
   ]
  },
  {
   "cell_type": "code",
   "execution_count": 46,
   "metadata": {},
   "outputs": [],
   "source": [
    "Land = []              # Hier die erste Liste erstellen   \n",
    "BIP = []               # Hier die zweite Liste erstellen  \n",
    "Jahre = []             # Hier die Jahre-Liste erstellen   "
   ]
  },
  {
   "cell_type": "markdown",
   "metadata": {},
   "source": [
    "Erstelle ein Dictionary mit den folgenden Keys und Values:\n",
    "- Keys: \n",
    "    - \"Länder\", \"BIP in Mrd.\", \"Jahr\"\n",
    "\n",
    "- Iteams: \n",
    "    - füge in den Bereich Iteam deine erstellen Listen ein."
   ]
  },
  {
   "cell_type": "code",
   "execution_count": null,
   "metadata": {},
   "outputs": [],
   "source": [
    "my_dictionary = {\n",
    "    \"Key1\": \"Item1\",\n",
    "    \"Key2\": \"Item2\",\n",
    "    \"Key3\": \"Item3\"\n",
    "}\n",
    "my_dictionary"
   ]
  },
  {
   "cell_type": "markdown",
   "metadata": {},
   "source": [
    "IF ELIF ELSE Bedigungen\n",
    "---"
   ]
  },
  {
   "cell_type": "code",
   "execution_count": 31,
   "metadata": {},
   "outputs": [
    {
     "name": "stdout",
     "output_type": "stream",
     "text": [
      "Volljährig\n"
     ]
    }
   ],
   "source": [
    "user_age = 20\n",
    "\n",
    "if user_age >= 20:\n",
    "    print(\"Volljährig\")\n"
   ]
  },
  {
   "cell_type": "code",
   "execution_count": 34,
   "metadata": {},
   "outputs": [
    {
     "name": "stdout",
     "output_type": "stream",
     "text": [
      "Leider nicht volljährig\n"
     ]
    }
   ],
   "source": [
    "user_age = 17\n",
    "\n",
    "if user_age >= 18:\n",
    "    print(\"Volljährig\")\n",
    "else:\n",
    "    print(\"Leider nicht volljährig\")"
   ]
  },
  {
   "cell_type": "code",
   "execution_count": null,
   "metadata": {},
   "outputs": [],
   "source": [
    "user_age = 44\n",
    "\n",
    "if user_age >= 18:\n",
    "    print(\"Volljährig\")\n",
    "elif user_age == 16:\n",
    "    print(\"Noch 2 Jahre, dann dürfen Sie mit spielen\")\n",
    "else:\n",
    "    print(\"Leider nicht volljährig\")"
   ]
  },
  {
   "cell_type": "markdown",
   "metadata": {},
   "source": [
    "#### Bearbeitet nun das Arbeitsblatt:\n",
    "***Task_3_Tell_me_a_story***"
   ]
  },
  {
   "cell_type": "markdown",
   "metadata": {},
   "source": [
    "Funktionen:\n",
    "---"
   ]
  },
  {
   "cell_type": "code",
   "execution_count": null,
   "metadata": {},
   "outputs": [],
   "source": [
    "def greet_user(first_name: str, last_name: str):\n",
    "    greet = (f\"Hey {first_name} {last_name} how is your day?\")\n",
    "    return greet\n",
    "\n",
    "greet_user(\"Riccardo\",\"Dandrea\")"
   ]
  },
  {
   "cell_type": "code",
   "execution_count": 17,
   "metadata": {},
   "outputs": [
    {
     "data": {
      "text/plain": [
       "5"
      ]
     },
     "execution_count": 17,
     "metadata": {},
     "output_type": "execute_result"
    }
   ],
   "source": [
    "def add_numbers(num1, num2):\n",
    "    sum = num1 + num2\n",
    "    return sum\n",
    "\n",
    "\n",
    "add_numbers(1,4)"
   ]
  },
  {
   "cell_type": "code",
   "execution_count": null,
   "metadata": {},
   "outputs": [],
   "source": []
  },
  {
   "cell_type": "code",
   "execution_count": null,
   "metadata": {},
   "outputs": [],
   "source": [
    "## Packages entfernen Task 2"
   ]
  },
  {
   "cell_type": "markdown",
   "metadata": {},
   "source": [
    "Filterung der Daten:\n",
    "---"
   ]
  },
  {
   "cell_type": "code",
   "execution_count": null,
   "metadata": {},
   "outputs": [],
   "source": [
    "Germany = df[df[\"Country\"] == \" \"]  # Hier filtern wir die Daten nach Deutschland\n",
    "Germany.head()"
   ]
  },
  {
   "cell_type": "code",
   "execution_count": null,
   "metadata": {},
   "outputs": [],
   "source": [
    "Japan =                             # hier die Daten für Japan filtern\n",
    "\n",
    "\n",
    "Japan.head()"
   ]
  },
  {
   "cell_type": "markdown",
   "metadata": {},
   "source": [
    "Filter nach zwei bedigungen: \n",
    "1. Bedigung `Country` muss nur *Germany* sein\n",
    "2. Nur werte *nach* dem Jahr `Year` *2000*\n",
    "\n",
    "\n",
    "Nutze dabei gerne den Leitfaden `Daten filterung mit Pandas`"
   ]
  },
  {
   "cell_type": "code",
   "execution_count": null,
   "metadata": {},
   "outputs": [],
   "source": [
    "Germany_filtered = df[(df[\"Country\"] == \"\") & \n",
    "                    (df[\"Year\"] > )].round(2)\n",
    "\n",
    "\n",
    "Germany_filtered.head()"
   ]
  },
  {
   "cell_type": "markdown",
   "metadata": {},
   "source": [
    "Das gleiche ebenso für *Japan*:\n",
    "\n",
    "Filter nach *zwei* bedigungen \n",
    "1. Bedigung `Country` muss nur *Japan* sein\n",
    "2. Nur werte nach dem Jahr `Year` *2000*\n",
    "\n",
    "Nutze dabei gerne den Leitfaden `Daten filterung mit Pandas`"
   ]
  },
  {
   "cell_type": "code",
   "execution_count": null,
   "metadata": {},
   "outputs": [],
   "source": [
    "Japan_filtered = "
   ]
  },
  {
   "cell_type": "markdown",
   "metadata": {},
   "source": [
    "Visualisierung:\n",
    "---\n",
    "\n",
    "Für die **Visualisierung** verwenden wir die Bibliotheken `seaborn` und `matplotlib`.\n",
    "\n",
    "Da wir bereits `seaborn` und `matplotlib` installiert und importiert haben, können wir diese nun verwenden.\n",
    "\n",
    "Folgende Funktion können wir zur Visualisierung nutzen\n",
    "\n",
    "- `sns.histplot()`\n",
    "- `sns.scatterplot()`\n",
    "- `sns.lineplot()`\n",
    "- `sns.barplot()`\n",
    "- `sns.regplot()`\n",
    "\n",
    "\n",
    "und viele mehr findest du auf der offizielen Seite von seaborn.\n",
    "\n",
    "\n",
    "weitere Visualisierungen findest du unter: https://seaborn.pydata.org/\n",
    "\n",
    "---"
   ]
  },
  {
   "cell_type": "markdown",
   "metadata": {},
   "source": [
    "Histogramm:\n",
    "---\n",
    "\n",
    "\n",
    "Um eine erfolgreiche Visualisierung zu erstellen, müssem wir der Funktion die passenden Parameter mitgeben. Somit weiß `Seaborn` was es visualisieren soll.\n",
    "\n",
    "Im folgenden Code erstellen wir ein Histogramm mit sns.histoplot() und geben die folgenden Parameter mit:\n",
    "\n",
    "- `data = df`\n",
    "- `x = \"Spending_USD\"` Die x-Achse soll die Spalte \"Spending_USD\" sein\n",
    "- `bins = 1` sollen die Gruppierungen der Spalte `Spending_USD` übernehemn"
   ]
  },
  {
   "cell_type": "code",
   "execution_count": null,
   "metadata": {},
   "outputs": [],
   "source": [
    "sns.histplot(data = df, x = \"Spending_USD\", bins = 1) #<- passe den parameter bins so an das die Aussagekraft des Histogramms steigt "
   ]
  },
  {
   "cell_type": "markdown",
   "metadata": {},
   "source": [
    "Um den Histogramm aussagekräftiger zu machen, können wir mit dem Package matplotlib arbeiten.\n",
    "\n",
    "Dabei fügen wir eine:\n",
    "\n",
    "-`plt.titel(\"str\")`, \n",
    "\n",
    "-`plt.xlabel(\"str\")` \n",
    "\n",
    "-`plt.ylabel(\"str\")`\n",
    "\n",
    "Die dabei helfen die aussagekraft zu steigern."
   ]
  },
  {
   "cell_type": "markdown",
   "metadata": {},
   "source": [
    "***Aufgabe:***\n",
    "\n",
    "Füge im unteren Code nun die Funktion ein damit du ein \n",
    "- X-Achsen beschriftung\n",
    "- Y-Achsen beschriftung\n",
    "- Titel beschriftung hast."
   ]
  },
  {
   "cell_type": "code",
   "execution_count": null,
   "metadata": {},
   "outputs": [],
   "source": [
    "sns.histplot(data = df, x = \"Spending_USD\", bins = 1) #<- passe den parameter bins so an das die Aussagekraft des Histogramms steigt \n",
    "plt.title(\"Titel\")\n",
    "plt.xlabel(\"X-Achse\")\n",
    "plt.ylabel(\"Y-Achse\")\n",
    "plt.show()"
   ]
  },
  {
   "cell_type": "markdown",
   "metadata": {},
   "source": [
    "Liniendiagramm:\n",
    "---\n",
    "\n",
    "Füge hier selbstständig \n",
    "- eine X-Achsen beschriftung\n",
    "- eine Y-Achsen beschriftung\n",
    "- und ein Titel hinzu"
   ]
  },
  {
   "cell_type": "code",
   "execution_count": null,
   "metadata": {},
   "outputs": [],
   "source": [
    "sns.lineplot(data = Germany_filtered, x = \"Year\", y = \"Spending_USD\", ) #<- passe die Farbe an\n",
    "\n",
    "# Hier die Achsenbeschriftung anpassen sowie Titel\n",
    "\n",
    "\n",
    "\n",
    "plt.xticks(ticks=Germany_filtered[\"Year\"].astype(int), rotation=45)\n",
    "\n",
    "\n",
    "\n",
    "plt.show()\n"
   ]
  },
  {
   "cell_type": "markdown",
   "metadata": {},
   "source": [
    "Scatterplot:\n",
    "---\n",
    "\n",
    "Wir können ebenso die Daten nach Gruppen unterteilen in Seaborn.\n",
    "\n",
    "Visualisiere hierfür die Daten aus der Variable `df` \n",
    "- auf der X-Achse die Jahre `(Year)` und \n",
    "- auf der Y-Achse `(Life_Expectancy)`\n",
    "- Gruppe die mit dem Parameter `hue=` nach Länder `(Country)`\n",
    "\n",
    "Füge nun die beschriftungen hinzu wie in den Beispielen davor:"
   ]
  },
  {
   "cell_type": "code",
   "execution_count": null,
   "metadata": {},
   "outputs": [],
   "source": [
    "sns.scatterplot() # <- füge die passenden Parameter ein\n",
    "\n",
    "\n",
    "                  # <- füge die passenden beschriftung hinzu \n",
    "\n",
    "\n",
    "plt.show()"
   ]
  },
  {
   "cell_type": "markdown",
   "metadata": {},
   "source": []
  },
  {
   "cell_type": "markdown",
   "metadata": {},
   "source": [
    "Simple Regression Visualisierung:\n",
    "---\n",
    "\n",
    "Wir können auch mit Seaborn eine Regression visualsieren :"
   ]
  },
  {
   "cell_type": "code",
   "execution_count": null,
   "metadata": {},
   "outputs": [],
   "source": [
    "sns.regplot(data = Germany_filtered, x = \"Spending_USD\", y = \"Life_Expectancy\", ) #<- passe die Farbe an"
   ]
  },
  {
   "cell_type": "code",
   "execution_count": 13,
   "metadata": {},
   "outputs": [
    {
     "name": "stdout",
     "output_type": "stream",
     "text": [
      "Volljährig\n"
     ]
    }
   ],
   "source": [
    "\n",
    "age_user = 90\n",
    "\n",
    "if age_user >=18:\n",
    "    print(\"Volljährig\")\n",
    "\n",
    "elif age_user == 90:\n",
    "   print(\"Sicher?\")\n",
    "\n",
    "else:\n",
    "   print(\"Nicht volljährig\")"
   ]
  }
 ],
 "metadata": {
  "kernelspec": {
   "display_name": "venv",
   "language": "python",
   "name": "python3"
  },
  "language_info": {
   "codemirror_mode": {
    "name": "ipython",
    "version": 3
   },
   "file_extension": ".py",
   "mimetype": "text/x-python",
   "name": "python",
   "nbconvert_exporter": "python",
   "pygments_lexer": "ipython3",
   "version": "3.10.9"
  }
 },
 "nbformat": 4,
 "nbformat_minor": 2
}
