{
  "cells": [
    {
      "cell_type": "markdown",
      "metadata": {
        "id": "Ybmo4woikbO4"
      },
      "source": [
        "# Einführung\n",
        "## Was ist Python?\n",
        "Python ist eine **High-Level-Programmiersprache** mit einer leicht verständlichen Syntax. Aufgrund der Einfachheit und der großen Anzahl an wissenschaftlichen und numerischen Bibliotheken ist es eine der beliebtesten Sprachen für Data Science, maschinelles Lernen und künstliche Intelligenz.\n",
        "\n",
        "## Über dieses Notebook\n",
        "In diesem Notebook zeige ich euch die **Grundlagen der Python-Programmierung** mit Schwerpunkt auf maschinellem Lernen. Ich stelle wichtige Bibliotheken wie **Numpy**, **Pandas**, **Scikit-learn** und **Matplotlib** vor und zeige euch, wie ihr diese für die Analyse und Modellierung von Daten verwenden könnt. Am Ende dieses Tutorials solltet ihr mit den Python-Grundlagen vertraut sein und diese Bibliotheken verwenden können, um einfache Modelle für maschinelles Lernen zu erstellen."
      ]
    },
    {
      "cell_type": "markdown",
      "metadata": {
        "id": "ML37M3fYQQ5w"
      },
      "source": [
        "----"
      ]
    },
    {
      "cell_type": "markdown",
      "metadata": {
        "id": "tpHFmSstnA9h"
      },
      "source": [
        "# Python Basics\n",
        "## 1. Die Python Syntax\n",
        "In Python dreht sich die Syntax darum, den Code in der richtigen \"Sprachform\" zu schreiben, damit er verständlich und fehlerfrei ist. Eine korrekte Schreibweise ist entscheidend, damit der Python-Interpreter den Code ohne Probleme ausführen kann und das gewünschte Verhalten erzeugt wird."
      ]
    },
    {
      "cell_type": "markdown",
      "metadata": {
        "id": "KTmsoi0NpFAE"
      },
      "source": [
        "**Aufgabe:** Ändere das folgende Skript. Anstelle von \"Name\" soll nach dem Ausführen des Codes dein eigener Name erscheinen. Du kannst den Code nach deiner Änderung mit dem Play-Button ausführen."
      ]
    },
    {
      "cell_type": "code",
      "execution_count": null,
      "metadata": {
        "id": "JTuKmNPco1YO"
      },
      "outputs": [],
      "source": [
        "# Ändere den folgenden Code:\n",
        "my_name = \"Name\"\n",
        "\n",
        "# Lasse den folgenden Code unverändert:\n",
        "print(\"Mein Name lautet \" + my_name + \"!\")"
      ]
    },
    {
      "cell_type": "markdown",
      "metadata": {
        "id": "Bdhj_wnetwz1"
      },
      "source": [
        "## 2. Kommentare in Python\n",
        "Kommentare in Python sind nützlich, um Code zu erklären oder vorübergehend zu deaktivieren, indem man Textzeilen einfügt, die vom Interpreter ignoriert werden."
      ]
    },
    {
      "cell_type": "markdown",
      "metadata": {
        "id": "yO_TqAUuyJG4"
      },
      "source": [
        "**Aufgabe:** Ändere das folgende Skript. Nach dem Ausführen des Codes soll 'Das ist richtig!' erscheinen. Lösche / bearbeite keinen Code, sondern verwende den Kommentar '#', um bestimmte Textzeilen vorübergehend zu deaktivieren (oder zu aktivieren -> # entfernen)."
      ]
    },
    {
      "cell_type": "code",
      "execution_count": null,
      "metadata": {
        "id": "mkmCle-gwka8"
      },
      "outputs": [],
      "source": [
        "print(\"Das ist falsch!\")\n",
        "# print(\"Das ist richtig!\")"
      ]
    },
    {
      "cell_type": "markdown",
      "metadata": {
        "id": "vZMQqfbEypdM"
      },
      "source": [
        "## 3. Variablen\n",
        "Variablen in Python dienen dazu, Werte oder Daten mit einem bestimmten Namen zu speichern, sodass sie später im Code wiederverwendet werden können."
      ]
    },
    {
      "cell_type": "code",
      "execution_count": null,
      "metadata": {
        "id": "is29lXIo0Kn7"
      },
      "outputs": [],
      "source": [
        "name = \"Max\"\n",
        "alter = 100\n",
        "print(name)\n",
        "print(alter)"
      ]
    },
    {
      "cell_type": "markdown",
      "metadata": {
        "id": "ADGJiFMf0StX"
      },
      "source": [
        "In Python kannst du Variablen setzen und ihren Wert später ändern."
      ]
    },
    {
      "cell_type": "code",
      "execution_count": null,
      "metadata": {
        "id": "b_pfe-9z0jbV"
      },
      "outputs": [],
      "source": [
        "name = \"Max\"\n",
        "name = \"Tim\"\n",
        "print(name)"
      ]
    },
    {
      "cell_type": "markdown",
      "metadata": {
        "id": "qdN48z-N1nog"
      },
      "source": [
        "**Aufgabe:** Ändere in dem folgenden Code die Variable 'durchschnitt' so, dass sie den Durchschnitt der drei vorherigen Variablen 'Note1' bis 'Note3' berechnet. Verwende dabei nur die Bezeichnungen der Variablen und keine Zahlen."
      ]
    },
    {
      "cell_type": "code",
      "execution_count": null,
      "metadata": {
        "id": "9M71RKSY2Rug"
      },
      "outputs": [],
      "source": [
        "# Variablen für die drei Noten\n",
        "note1 = 2.0\n",
        "note2 = 1.3\n",
        "note3 = 2.3\n",
        "\n",
        "# Berechnung des Durchschnitts\n",
        "# Schreibe deinen Code unter diese Zeile:\n",
        "durchschnitt = 0\n",
        "\n",
        "# Ausgabe des Ergebnisses\n",
        "print(\"Der Durchschnitt beträgt:\", durchschnitt)\n"
      ]
    },
    {
      "cell_type": "markdown",
      "metadata": {
        "id": "6QpDQeLx3lKQ"
      },
      "source": [
        "## 4. Datentypen\n",
        "In Python gibt es verschiedene Datentypen, wie z. B. Ganzzahlen (**integers = 20**), Gleitkommazahlen (**floats = 20.5**), Zeichenketten (**strings = \"Hello World\"**) und boolesche Werte (**booleans = True**), die verwendet werden, um unterschiedliche Arten von Daten zu repräsentieren und zu manipulieren."
      ]
    },
    {
      "cell_type": "code",
      "execution_count": null,
      "metadata": {
        "id": "aQAaIPUd3y10"
      },
      "outputs": [],
      "source": [
        "# Hier ist eine kleine Übersicht über verschiedenen Datentypen.\n",
        "x = 20                            # Integer\n",
        "x = 20.5                          # Float\n",
        "x = \"Hello World\"                 # String\n",
        "x = True                          # Boolean\n",
        "\n",
        "x = [\"apple\", \"banana\"]           # List\n",
        "print(x[0])\n",
        "\n",
        "x = {\"Name\": \"Max\", \"Alter\": 26}  # Dictionary\n",
        "print(x[\"Name\"], x[\"Alter\"])\n",
        "\n",
        "x = None                          # NoneType"
      ]
    },
    {
      "cell_type": "markdown",
      "metadata": {
        "id": "SnFFPqv6VIgN"
      },
      "source": [
        "**Aufgabe:** Füge der Liste mit den Früchte eine weitere Frucht hinzu und ändere im Dictionary den Eintrag auf deinen Namen und dein Alter. Führe anschließend den Code aus."
      ]
    },
    {
      "cell_type": "markdown",
      "metadata": {
        "id": "ZCXzdk5V57NE"
      },
      "source": [
        "## 5. Operatoren\n",
        "Operatoren in Python ermöglichen es, Operationen auf Variablen und Werten auszuführen. Mit diesen Operatoren kannst du komplexe Berechnungen und logische Ausdrücke in deinem Code durchführen.\n",
        "\n",
        "Einen Operator haben wir bereits kennengelernt: den **Zuweisungsoperator** '='. Mit diesem Operator kannst du Werte einer Variable zuweisen und später aktualisieren."
      ]
    },
    {
      "cell_type": "code",
      "execution_count": null,
      "metadata": {
        "id": "ykeUCeFu7Soe"
      },
      "outputs": [],
      "source": [
        "# Hier ist eine kleine Übersicht über verschiedene mathematische Operatoren.\n",
        "x = 10\n",
        "y = 3\n",
        "\n",
        "# Addition\n",
        "addition = x + y\n",
        "print(\"Addition:\", addition)\n",
        "\n",
        "# Subtraktion\n",
        "subtraktion = x - y\n",
        "print(\"Subtraktion:\", subtraktion)\n",
        "\n",
        "# Multiplikation\n",
        "multiplikation = x * y\n",
        "print(\"Multiplikation:\", multiplikation)\n",
        "\n",
        "# Division\n",
        "division = x / y\n",
        "print(\"Division:\", division)"
      ]
    },
    {
      "cell_type": "code",
      "execution_count": null,
      "metadata": {
        "id": "pOHtWJuV8Qq7"
      },
      "outputs": [],
      "source": [
        "# Hier ist eine kleine Übersicht über verschiedene Vergleichsoperatoren.\n",
        "x = 5\n",
        "y = 3\n",
        "\n",
        "# Gleichheit\n",
        "gleich = x == y\n",
        "print(\"Gleichheit:\", gleich)\n",
        "\n",
        "# Ungleichheit\n",
        "ungleich = x != y\n",
        "print(\"Ungleichheit:\", ungleich)\n",
        "\n",
        "# Größer als\n",
        "groesser_als = x > y\n",
        "print(\"Größer als:\", groesser_als)\n",
        "\n",
        "# Kleiner als\n",
        "kleiner_als = x < y\n",
        "print(\"Kleiner als:\", kleiner_als)\n",
        "\n",
        "# Größer als oder gleich\n",
        "groesser_als_gleich = x >= y\n",
        "print(\"Größer als oder gleich:\", groesser_als_gleich)\n",
        "\n",
        "# Kleiner als oder gleich\n",
        "kleiner_als_gleich = x <= y\n",
        "print(\"Kleiner als oder gleich:\", kleiner_als_gleich)"
      ]
    },
    {
      "cell_type": "code",
      "execution_count": null,
      "metadata": {
        "id": "VBQG_xKp-91K"
      },
      "outputs": [],
      "source": [
        "# Hier ist eine kleine Übersicht über logische Operatoren.\n",
        "x = 7\n",
        "\n",
        "# and (und)\n",
        "und_operator = x < 5 and x < 10\n",
        "print(\"and Operator:\", und_operator)\n",
        "\n",
        "# or (oder)\n",
        "oder_operator = x < 5 or x < 4\n",
        "print(\"or Operator:\", oder_operator)\n",
        "\n",
        "# not (nicht)\n",
        "nicht_operator = not(x < 5 and x < 10)\n",
        "print(\"not Operator:\", nicht_operator)"
      ]
    },
    {
      "cell_type": "markdown",
      "metadata": {
        "id": "D3IRM0-SWYHu"
      },
      "source": [
        "**Aufgabe:** Führe jeweils den Code aus und überlege, was die ausgegebenen Werte bedeuten. Beispielsweise bei \"Gleichheit: False\"  (z.B. Keine Gleichheit, da x=5 und y=3)."
      ]
    },
    {
      "cell_type": "markdown",
      "metadata": {
        "id": "jtmzoMMSAnAy"
      },
      "source": [
        "## 6. Listen\n",
        "Listen in Python sind Datenstrukturen, die verwendet werden, um mehrere Werte in einer einzigen Variable zu speichern. Sie können verschiedene Datentypen enthalten und ermöglichen das Hinzufügen, Entfernen und Ändern von Elementen."
      ]
    },
    {
      "cell_type": "code",
      "execution_count": null,
      "metadata": {
        "id": "h0f6vn4aBjQm"
      },
      "outputs": [],
      "source": [
        "# Erstellen einer Liste\n",
        "fruits = ['Apfel', 'Banane', 'Orange', 'Mango']"
      ]
    },
    {
      "cell_type": "code",
      "execution_count": null,
      "metadata": {
        "id": "5wG1T98rDjO2"
      },
      "outputs": [],
      "source": [
        "# Zugriff auf Listenelemente\n",
        "print(fruits[0])    # Erste Element in der Liste\n",
        "print(fruits[2])    # Dritte Element in der Liste\n",
        "print(fruits[-1])   # Letzte Element in der Liste"
      ]
    },
    {
      "cell_type": "code",
      "execution_count": null,
      "metadata": {
        "id": "GevbPcLJDs5d"
      },
      "outputs": [],
      "source": [
        "# Element zur Liste hinzufügen\n",
        "fruits.append('Erdbeere')\n",
        "print(fruits)"
      ]
    },
    {
      "cell_type": "code",
      "execution_count": null,
      "metadata": {
        "id": "N3-SH3PXD8cJ"
      },
      "outputs": [],
      "source": [
        "# Element in der Liste ändern\n",
        "fruits[1] = 'Kiwi'\n",
        "print(fruits)"
      ]
    },
    {
      "cell_type": "markdown",
      "metadata": {
        "id": "nA4IrjZwFKrG"
      },
      "source": [
        "**Aufgabe:** Nutze die folgende, leere Code-Zeile und schreibe ein Python-Programm, das eine Liste von Wochentagen erstellt und das erste Element der Liste ausgibt."
      ]
    },
    {
      "cell_type": "code",
      "execution_count": null,
      "metadata": {
        "id": "GKYcKDPZFcyR"
      },
      "outputs": [],
      "source": []
    },
    {
      "cell_type": "markdown",
      "metadata": {
        "id": "SBnOCNHJFjhE"
      },
      "source": [
        "## 7. Conditions und If-Statements\n",
        "Conditions (Bedingungen) in Python ermöglichen es, bestimmte Teile des Codes basierend auf einer gegebenen Bedingung auszuführen oder zu überspringen.\n",
        "\n",
        "If-Statements (wenn-Anweisungen) sind eine Art von Kontrollstruktur, die verwendet wird, um Codeblöcke nur dann auszuführen, wenn eine bestimmte Bedingung erfüllt ist."
      ]
    },
    {
      "cell_type": "code",
      "execution_count": null,
      "metadata": {
        "id": "tV4zvYiBGB4b"
      },
      "outputs": [],
      "source": [
        "# Beispiel für ein If-Statement mit elif\n",
        "zahl = 0\n",
        "\n",
        "if zahl > 0:\n",
        "    print(\"Die Zahl ist positiv.\")\n",
        "elif zahl < 0:\n",
        "    print(\"Die Zahl ist negativ.\")\n",
        "else:\n",
        "    print(\"Die Zahl ist null.\")\n"
      ]
    },
    {
      "cell_type": "markdown",
      "metadata": {
        "id": "kQFX_mCrInOc"
      },
      "source": [
        "**Aufgabe:** Das folgende Python-Programm fragt den Nutzer nach seinem Alter. Erweitere das Programm, sodass es die Meldung 'Du bist volljährig!' ausgibt, wenn der Nutzer 18 Jahre oder älter ist, andernfalls 'Du bist minderjährig!'."
      ]
    },
    {
      "cell_type": "code",
      "execution_count": null,
      "metadata": {
        "id": "F7IPylgBIiT7"
      },
      "outputs": [],
      "source": [
        "# Altersabfrage\n",
        "alter = int(input(\"Wie alt bist du? \"))\n",
        "\n",
        "# Überprüfung der Bedingung und Ausgabe per If-Statement\n",
        "# Schreibe deinen Code unter diese Zeile:\n"
      ]
    },
    {
      "cell_type": "markdown",
      "metadata": {
        "id": "A5oNi8vLKJEs"
      },
      "source": [
        "## 8. Schleifen\n",
        "Loops (Schleifen) in Python ermöglichen es, bestimmte Codeblöcke wiederholt auszuführen. Die beiden gängigsten Arten von Schleifen sind die while-Schleife und die for-Schleife. Mit der **while**-Schleife wird der Codeblock ausgeführt, solange eine angegebene Bedingung erfüllt ist. Mit der **for**-Schleife wird der Codeblock für jedes Element in einer Sequenz, wie z. B. einer Liste, wiederholt ausgeführt."
      ]
    },
    {
      "cell_type": "code",
      "execution_count": null,
      "metadata": {
        "id": "jF7ltA95K-yH"
      },
      "outputs": [],
      "source": [
        "# Beispiel einer while-Schleife\n",
        "zahl = 0\n",
        "\n",
        "while zahl < 5:\n",
        "    print(zahl)\n",
        "    zahl += 1"
      ]
    },
    {
      "cell_type": "code",
      "execution_count": null,
      "metadata": {
        "id": "ychsh-sxLMqK"
      },
      "outputs": [],
      "source": [
        "# Beispiel einer for-Schleife\n",
        "fruits = [\"Apfel\", \"Banane\", \"Orange\"]\n",
        "\n",
        "for fruit in fruits:\n",
        "    print(fruit)"
      ]
    },
    {
      "cell_type": "markdown",
      "metadata": {
        "id": "HxxowUSfLTM3"
      },
      "source": [
        "**Aufgabe:** Das folgende Python-Programm fragt den Nutzer nach seinem Namen. Erweitere das Programm, so dass jeder Buchstabe des Namens einzeln ausgegeben wird. *Tipp: Strings können ähnlich wie Listen behandelt werden.*"
      ]
    },
    {
      "cell_type": "code",
      "execution_count": null,
      "metadata": {
        "id": "EUoYNTREM9dO"
      },
      "outputs": [],
      "source": [
        "# Namensabfrage\n",
        "name = input(\"Gib deinen Namen ein: \")\n",
        "\n",
        "# Schleife und print()\n",
        "# Schreibe deinen Code unter diese Zeile:\n"
      ]
    },
    {
      "cell_type": "markdown",
      "metadata": {
        "id": "VejUBpMzN1Oj"
      },
      "source": [
        "## 9. Funktionen\n",
        "Funktionen in Python sind benannte Codeblöcke, die bestimmte Aufgaben ausführen und wiederverwendet werden können. Sie ermöglichen es, Code in überschaubare Teile aufzuteilen und erleichtern die Wartbarkeit und Lesbarkeit des Codes.\n",
        "\n",
        "Funktionen können **Parameter** entgegennehmen, um flexible und anpassbare Operationen durchzuführen, und können einen **Rückgabewert** liefern, um Ergebnisse zu übergeben."
      ]
    },
    {
      "cell_type": "code",
      "execution_count": null,
      "metadata": {
        "id": "QNrEzHG7Odmb"
      },
      "outputs": [],
      "source": [
        "# Definition der Funktion\n",
        "def addiere(zahl1, zahl2):\n",
        "    summe = zahl1 + zahl2\n",
        "    return summe\n",
        "\n",
        "# Aufruf der Funktion und Speichern des Rückgabewerts\n",
        "ergebnis = addiere(5, 3)\n",
        "\n",
        "# Ausgabe des Ergebnisses\n",
        "print(\"Die Summe ist:\", ergebnis)"
      ]
    },
    {
      "cell_type": "markdown",
      "metadata": {
        "id": "ATG0oDO3PI1R"
      },
      "source": [
        "**Aufgabe:** Nutze die folgende, leere Code-Zeile und schreibe eine Python-Funktion mit dem Namen **berechne_quadrat**, die eine Zahl als Parameter entgegennimmt und das Quadrat dieser Zahl **(Zahl ** 2)** zurückgibt. Rufe die Funktion auf und speichere das Ergebnis in einer Variable. Gib das Ergebnis anschließend aus."
      ]
    },
    {
      "cell_type": "code",
      "execution_count": null,
      "metadata": {
        "id": "OooOVPxjJWRV"
      },
      "outputs": [],
      "source": []
    }
  ],
  "metadata": {
    "colab": {
      "provenance": []
    },
    "kernelspec": {
      "display_name": "Python 3",
      "name": "python3"
    },
    "language_info": {
      "name": "python",
      "version": "3.11.9"
    }
  },
  "nbformat": 4,
  "nbformat_minor": 0
}
